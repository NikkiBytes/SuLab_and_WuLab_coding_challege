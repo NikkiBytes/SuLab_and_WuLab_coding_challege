{
 "cells": [
  {
   "cell_type": "markdown",
   "id": "b5758200",
   "metadata": {},
   "source": [
    "# Su Lab and Wu Lab Coding Challenge"
   ]
  },
  {
   "cell_type": "code",
   "execution_count": 10,
   "id": "c84f7e08",
   "metadata": {},
   "outputs": [],
   "source": [
    "from elasticsearch import Elasticsearch, helpers\n",
    "import sys, json\n",
    "from time import sleep\n",
    "from datetime import datetime\n"
   ]
  },
  {
   "cell_type": "markdown",
   "id": "0ff44d06-6828-4f67-8b85-823a3bfd2143",
   "metadata": {},
   "source": [
    "## Step 1.  Load and index json into ES"
   ]
  },
  {
   "cell_type": "code",
   "execution_count": 2,
   "id": "59d6aaf3",
   "metadata": {},
   "outputs": [],
   "source": [
    "# Elastic search configuation\n",
    "\n",
    "es = Elasticsearch(HOST=\"http://localhost\", PORT=9200)\n",
    "es = Elasticsearch()"
   ]
  },
  {
   "cell_type": "code",
   "execution_count": 12,
   "id": "e99c8982",
   "metadata": {},
   "outputs": [
    {
     "name": "stdout",
     "output_type": "stream",
     "text": [
      "100\n"
     ]
    }
   ],
   "source": [
    "# Load file\n",
    "\n",
    "file='harvard_dataverse.json'\n",
    "\n",
    "with open(file, 'r', encoding='utf-8') as f:\n",
    "    data=json.loads(f.read())\n",
    "\n",
    "print(len(data))"
   ]
  },
  {
   "cell_type": "code",
   "execution_count": 13,
   "id": "973907db",
   "metadata": {},
   "outputs": [
    {
     "data": {
      "text/plain": [
       "{'_index': 'my_index',\n",
       " '_type': 'doc',\n",
       " '_id': 'OX_D33oBoYEF2rZ_HFSp',\n",
       " '_version': 1,\n",
       " 'result': 'created',\n",
       " '_shards': {'total': 2, 'successful': 1, 'failed': 0},\n",
       " '_seq_no': 1,\n",
       " '_primary_term': 2}"
      ]
     },
     "execution_count": 13,
     "metadata": {},
     "output_type": "execute_result"
    }
   ],
   "source": [
    "es.index(index=\"my_index\", doc_type='doc', body=data[5])#data)\n"
   ]
  },
  {
   "cell_type": "code",
   "execution_count": 14,
   "id": "4297e1e3",
   "metadata": {},
   "outputs": [
    {
     "data": {
      "text/plain": [
       "{'_index': 'my_index',\n",
       " '_type': 'doc',\n",
       " '_id': 'On_D33oBoYEF2rZ_RFRi',\n",
       " '_version': 1,\n",
       " 'result': 'created',\n",
       " '_shards': {'total': 2, 'successful': 1, 'failed': 0},\n",
       " '_seq_no': 2,\n",
       " '_primary_term': 2}"
      ]
     },
     "execution_count": 14,
     "metadata": {},
     "output_type": "execute_result"
    }
   ],
   "source": [
    "es.index(index=\"my_index\", doc_type='doc', body=data[6])#data)\n"
   ]
  },
  {
   "cell_type": "code",
   "execution_count": null,
   "id": "7d242606-de8c-4910-af24-bb7275f032f8",
   "metadata": {},
   "outputs": [],
   "source": []
  }
 ],
 "metadata": {
  "kernelspec": {
   "display_name": "Python 3",
   "language": "python",
   "name": "python3"
  },
  "language_info": {
   "codemirror_mode": {
    "name": "ipython",
    "version": 3
   },
   "file_extension": ".py",
   "mimetype": "text/x-python",
   "name": "python",
   "nbconvert_exporter": "python",
   "pygments_lexer": "ipython3",
   "version": "3.9.6"
  }
 },
 "nbformat": 4,
 "nbformat_minor": 5
}
