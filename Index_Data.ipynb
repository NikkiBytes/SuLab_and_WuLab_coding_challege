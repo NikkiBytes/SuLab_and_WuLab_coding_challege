{
 "cells": [
  {
   "cell_type": "code",
   "execution_count": 14,
   "id": "cf03628b-b57b-42a8-944e-8d63d87be56a",
   "metadata": {},
   "outputs": [],
   "source": [
    "from elasticsearch import Elasticsearch\n",
    "import json"
   ]
  },
  {
   "cell_type": "code",
   "execution_count": 15,
   "id": "83dafdb1-b652-4327-82fd-2fda9760a58a",
   "metadata": {},
   "outputs": [],
   "source": [
    "# Elastic search configuation\n",
    "es = Elasticsearch(HOST=\"http://localhost\", PORT=9200)"
   ]
  },
  {
   "cell_type": "code",
   "execution_count": 16,
   "id": "fe1add62-0918-4223-9a24-7591640862c9",
   "metadata": {},
   "outputs": [
    {
     "name": "stdout",
     "output_type": "stream",
     "text": [
      "100\n"
     ]
    }
   ],
   "source": [
    "# Load file\n",
    "\n",
    "file='harvard_dataverse.json'\n",
    "\n",
    "with open(file, 'r', encoding='utf-8') as f:\n",
    "    data=json.loads(f.read())\n",
    "\n",
    "print(len(data))\n"
   ]
  },
  {
   "cell_type": "code",
   "execution_count": 18,
   "id": "2b4b5838-31b9-463f-a40a-0ea1c4758cbf",
   "metadata": {},
   "outputs": [
    {
     "name": "stdout",
     "output_type": "stream",
     "text": [
      "-----\n",
      "{'@context': 'http://schema.org', '@type': 'Dataset', '@id': 'https://doi.org/10.11588/data/0HJAJS', 'identifier': 'https://doi.org/10.11588/data/0HJAJS', 'name': 'Erzählte Inschriften in der Literatur des Mittelalters (Projektdatenbank)', 'creator': [{'name': 'Ott, Michael R.', 'affiliation': 'Sonderforschungsbereich Materiale Textkulturen (933), Teilprojekt C05. Universität Heidelberg.'}], 'author': [{'name': 'Ott, Michael R.', 'affiliation': 'Sonderforschungsbereich Materiale Textkulturen (933), Teilprojekt C05. Universität Heidelberg.'}], 'datePublished': '2019-02-05', 'dateModified': '2019-06-28', 'version': '2', 'description': ['Diese Datenpublikation entstammt dem Teilprojekt C05 (»Inschriftlichkeit. Reflexionen materialer Textkultur in der Literatur des 12. bis 17. Jahrhunderts«) des Sonderforschungsbereichs 933 (»Materiale Textkulturen«). Im Rahmen des Teilprojekts werden erzählte Inschriften in der mittelalterlichen Literatur gesammelt und auf einer Website öffentlich zugänglich gemacht. Diese Datenpublikation enthält den Datensatz, auf dem diese Website beruht. Das Projekt ist noch nicht abgeschlossen. Als Inschrift zählt Geschriebenes, das a) nicht zu den gängigen Formen von Schriftlichkeit gehört (also nicht mit üblichen Hilfsmitteln auf Pergament und Papier geschrieben ist) und/oder Geschriebenes, b) bei dem von einer intensiven Verbindung von Inhalt und Schriftträger auszugehen ist. Der Ausgangspunkt der Sammlung sind deutschsprachige erzählte Inschriften vor 1700. Seit der zweiten Projektphase werden zudem verstärkt erzählte Inschriften im Altnordischen, Alt- und Mittelenglischen sowie im Mittellateinischen gesammelt. Für eine dritte Projektphase ist eine ausführlichere Sammlung von mittellateinischen und altfranzösischen Textstellen geplant. Belege aus der altfranzösischen und mittellateinischen Literatur sind in der Datenpublikation bisher nur exemplarisch verzeichnet. Demgegenüber dürften die Belege für die englische und skandinavische Literatur des Mittelalters recht vollständig sein. Ebenfalls recht vollständig abgedeckt ist die deutschsprachige höfische Literatur des 12.-14. Jahrhunderts. Der Bereich der geistlichen und historiographischen deutschsprachigen Literatur wurde nicht systematisch durchgesehen. Gesammelt wurden die Daten vom Projektleiter (Ludger Lieb), von den ProjektmitarbeiterInnen (Frank Krabbes, Astrid Lembke, Michael R. Ott, Laura Velte), den studentischen Hilfskräften des Teilprojekts sowie von zwei Gastwissenschaftlerinnen: Katja Schulz (Altnordisch) und Christine Neufeld (Alt- und Mittelenglisch).'], 'keywords': ['Arts and Humanities', 'Literatur', 'Mittelalter', 'Inschrift', 'Materialität', 'Althochdeutsch', 'Mittelhochdeutsch', 'Altnordisch', 'Altenglisch', 'Mittelenglisch', 'Altfranzösisch', 'Mittellatein'], 'citation': [{'@type': 'CreativeWork', 'text': 'Ludger Lieb: Spuren materialer Textkulturen. Neun Thesen zur höfischen Textualität im Spiegel text\\xadimmanenter Inschriften. In: Beate Kellner, Ludger Lieb und Stephan Müller (Hrsg.): Höfische Textualität. Festschrift für Peter Strohschneider. (GRM-Beiheft 69) Heidelberg 2015, S. 1-20.'}], 'license': {'@type': 'Dataset', 'text': \"Licensed under a <a href='http://creativecommons.org/licenses/by/4.0/'>Creative Commons Attribution 4.0 International License. &#160;<img src='https://i.creativecommons.org/l/by/4.0/80x15.png' alt='CC by' /></a>\"}, 'includedInDataCatalog': {'@type': 'DataCatalog', 'name': 'heiDATA', 'url': 'https://heidata.uni-heidelberg.de'}, 'publisher': {'@type': 'Organization', 'name': 'heiDATA'}, 'provider': {'@type': 'Organization', 'name': 'heiDATA'}, 'funder': [{'@type': 'Organization', 'name': 'Deutsche Forschungsgemeinschaft'}], 'distribution': [{'@type': 'DataDownload', 'name': 'sfb933_c05_erzaehlte_inschriften_20190626.csv', 'fileFormat': 'text/csv', 'contentSize': 1613163, '@id': 'https://doi.org/10.11588/data/0HJAJS/IELTOH', 'identifier': 'https://doi.org/10.11588/data/0HJAJS/IELTOH'}, {'@type': 'DataDownload', 'name': 'sfb933_c05_erzaehlte_inschriften_beschreibung.tab', 'fileFormat': 'text/tab-separated-values', 'contentSize': 2724, '@id': 'https://doi.org/10.11588/data/0HJAJS/K6EFZY', 'identifier': 'https://doi.org/10.11588/data/0HJAJS/K6EFZY'}]}\n",
      "-----\n",
      "{'@context': 'http://schema.org', '@type': 'Dataset', '@id': 'https://doi.org/10.11588/data/0HJW2A', 'identifier': 'https://doi.org/10.11588/data/0HJW2A', 'name': 'Distance from a Distance: The Robustness of Psychological Distance Effects [Dataset]', 'creator': [{'name': 'Trautmann, Stefan T.', 'affiliation': 'Alfred-Weber-Institute for Economics, Heidelberg University'}], 'author': [{'name': 'Trautmann, Stefan T.', 'affiliation': 'Alfred-Weber-Institute for Economics, Heidelberg University'}], 'datePublished': '2019-01-29', 'dateModified': '2019-01-29', 'version': '1', 'description': ['Psychological distance effects have attracted the attention of behavioral economists in the context of descriptive modeling and behavioral policy. Indeed, psychological distance effects have been shown for an increasing number of domains and applications relevant to economic decision making. The current paper questions whether these effects are robust enough for economists to apply them to relevant policy questions. We demonstrate systematic replication failures for the distance-from-a-distance effect shown by Maglio et al. (2013, Journal of Experimental Psychology: General), and relate them to theoretical arguments suggesting that psychological distance theories are currently too poorly specified to make predictions that are precise enough for economic analyses.'], 'keywords': ['Social Sciences', 'construal level theory', 'replication', 'risk', 'psychological distance'], 'citation': [{'@type': 'CreativeWork', 'text': 'Stefan T. Trautmann: Distance from a Distance: The Robustness of Psychological Distance Effects (forthcoming)'}], 'license': {'@type': 'Dataset', 'text': \"Licensed under a <a href='http://creativecommons.org/licenses/by/4.0/'>Creative Commons Attribution 4.0 International License. &#160;<img src='https://i.creativecommons.org/l/by/4.0/80x15.png' alt='CC by' /></a>\"}, 'includedInDataCatalog': {'@type': 'DataCatalog', 'name': 'heiDATA', 'url': 'https://heidata.uni-heidelberg.de'}, 'publisher': {'@type': 'Organization', 'name': 'heiDATA'}, 'provider': {'@type': 'Organization', 'name': 'heiDATA'}, 'spatialCoverage': ['Netherlands'], 'distribution': [{'@type': 'DataDownload', 'name': 'experiment1_raw.tab', 'fileFormat': 'text/tab-separated-values', 'contentSize': 5778, 'description': 'experiment 1', '@id': 'https://doi.org/10.11588/data/0HJW2A/LTJZAU', 'identifier': 'https://doi.org/10.11588/data/0HJW2A/LTJZAU'}, {'@type': 'DataDownload', 'name': 'experiment1_stata_data.tab', 'fileFormat': 'text/tab-separated-values', 'contentSize': 4386, 'description': 'experiment 1', '@id': 'https://doi.org/10.11588/data/0HJW2A/LFCU8I', 'identifier': 'https://doi.org/10.11588/data/0HJW2A/LFCU8I'}, {'@type': 'DataDownload', 'name': 'experiment1_stata_do.do', 'fileFormat': 'application/x-stata-syntax', 'contentSize': 220, 'description': 'experiment 1', '@id': 'https://doi.org/10.11588/data/0HJW2A/KVQ7BE', 'identifier': 'https://doi.org/10.11588/data/0HJW2A/KVQ7BE'}, {'@type': 'DataDownload', 'name': 'experiment2_raw.tab', 'fileFormat': 'text/tab-separated-values', 'contentSize': 2808, 'description': 'experiment 2', '@id': 'https://doi.org/10.11588/data/0HJW2A/LY0ZOZ', 'identifier': 'https://doi.org/10.11588/data/0HJW2A/LY0ZOZ'}, {'@type': 'DataDownload', 'name': 'experiment2_stata_data.tab', 'fileFormat': 'text/tab-separated-values', 'contentSize': 1492, 'description': 'experiment 2', '@id': 'https://doi.org/10.11588/data/0HJW2A/UFRHQN', 'identifier': 'https://doi.org/10.11588/data/0HJW2A/UFRHQN'}, {'@type': 'DataDownload', 'name': 'experiment2_stata_do.do', 'fileFormat': 'application/x-stata-syntax', 'contentSize': 406, 'description': 'experiment 2', '@id': 'https://doi.org/10.11588/data/0HJW2A/DG7PZB', 'identifier': 'https://doi.org/10.11588/data/0HJW2A/DG7PZB'}, {'@type': 'DataDownload', 'name': 'experiment3_raw.tab', 'fileFormat': 'text/tab-separated-values', 'contentSize': 8483, 'description': 'experiment 3', '@id': 'https://doi.org/10.11588/data/0HJW2A/IUXIQE', 'identifier': 'https://doi.org/10.11588/data/0HJW2A/IUXIQE'}, {'@type': 'DataDownload', 'name': 'experiment3_stata_data.tab', 'fileFormat': 'text/tab-separated-values', 'contentSize': 4577, 'description': 'experiment 3', '@id': 'https://doi.org/10.11588/data/0HJW2A/0CVA5J', 'identifier': 'https://doi.org/10.11588/data/0HJW2A/0CVA5J'}, {'@type': 'DataDownload', 'name': 'experiment3_stata_do.do', 'fileFormat': 'application/x-stata-syntax', 'contentSize': 357, 'description': 'experiment 3', '@id': 'https://doi.org/10.11588/data/0HJW2A/XDARH9', 'identifier': 'https://doi.org/10.11588/data/0HJW2A/XDARH9'}, {'@type': 'DataDownload', 'name': 'experiment4_instructions_dutch.docx', 'fileFormat': 'application/vnd.openxmlformats-officedocument.wordprocessingml.document', 'contentSize': 14064, 'description': 'experiment 4', '@id': 'https://doi.org/10.11588/data/0HJW2A/4GV60R', 'identifier': 'https://doi.org/10.11588/data/0HJW2A/4GV60R'}, {'@type': 'DataDownload', 'name': 'experiment4_stata_data.tab', 'fileFormat': 'text/tab-separated-values', 'contentSize': 5950, 'description': 'experiment 4', '@id': 'https://doi.org/10.11588/data/0HJW2A/IXSKHQ', 'identifier': 'https://doi.org/10.11588/data/0HJW2A/IXSKHQ'}, {'@type': 'DataDownload', 'name': 'experiment4_stata_do.do', 'fileFormat': 'application/x-stata-syntax', 'contentSize': 751, 'description': 'experiment 4', '@id': 'https://doi.org/10.11588/data/0HJW2A/OHXGFS', 'identifier': 'https://doi.org/10.11588/data/0HJW2A/OHXGFS'}]}\n"
     ]
    }
   ],
   "source": [
    "for obj in data[:2]:\n",
    "    print(\"-----\")\n",
    "    print(obj)"
   ]
  },
  {
   "cell_type": "code",
   "execution_count": null,
   "id": "e1205e17-1664-4aea-a57e-50bae3799689",
   "metadata": {},
   "outputs": [],
   "source": []
  },
  {
   "cell_type": "code",
   "execution_count": null,
   "id": "d102b232-845b-4a61-9220-b0de101f1a0f",
   "metadata": {},
   "outputs": [],
   "source": []
  },
  {
   "cell_type": "code",
   "execution_count": null,
   "id": "72965a7b-82f3-4c5b-aa51-a61ce8006bcd",
   "metadata": {},
   "outputs": [],
   "source": []
  }
 ],
 "metadata": {
  "kernelspec": {
   "display_name": "Python 3",
   "language": "python",
   "name": "python3"
  },
  "language_info": {
   "codemirror_mode": {
    "name": "ipython",
    "version": 3
   },
   "file_extension": ".py",
   "mimetype": "text/x-python",
   "name": "python",
   "nbconvert_exporter": "python",
   "pygments_lexer": "ipython3",
   "version": "3.9.6"
  }
 },
 "nbformat": 4,
 "nbformat_minor": 5
}
