{
 "cells": [
  {
   "cell_type": "markdown",
   "id": "a683fc45-da0e-433b-8fe2-57487e926f32",
   "metadata": {},
   "source": [
    "# Load and Index Data"
   ]
  },
  {
   "cell_type": "code",
   "execution_count": 34,
   "id": "cf03628b-b57b-42a8-944e-8d63d87be56a",
   "metadata": {},
   "outputs": [],
   "source": [
    "from elasticsearch import Elasticsearch\n",
    "import json"
   ]
  },
  {
   "cell_type": "code",
   "execution_count": 35,
   "id": "83dafdb1-b652-4327-82fd-2fda9760a58a",
   "metadata": {},
   "outputs": [],
   "source": [
    "# Elastic search configuation\n",
    "es = Elasticsearch(HOST=\"http://localhost\", PORT=9200)"
   ]
  },
  {
   "cell_type": "code",
   "execution_count": 36,
   "id": "fe1add62-0918-4223-9a24-7591640862c9",
   "metadata": {},
   "outputs": [
    {
     "name": "stdout",
     "output_type": "stream",
     "text": [
      "100\n"
     ]
    }
   ],
   "source": [
    "# Load file\n",
    "\n",
    "file='harvard_dataverse.json'\n",
    "\n",
    "with open(file, 'r', encoding='utf-8') as f:\n",
    "    data=json.loads(f.read())\n",
    "\n",
    "print(len(data))\n"
   ]
  },
  {
   "cell_type": "code",
   "execution_count": 37,
   "id": "2b4b5838-31b9-463f-a40a-0ea1c4758cbf",
   "metadata": {},
   "outputs": [],
   "source": [
    "for obj in data:\n",
    "    #print(\"-----\")\n",
    "    obj_id=obj[\"@id\"]\n",
    "    es.index(index=\"harvardmetadata\", doc_type=\"metadata\", id=obj_id, body=obj)\n",
    "    \n",
    "    \n"
   ]
  },
  {
   "cell_type": "code",
   "execution_count": 39,
   "id": "e1205e17-1664-4aea-a57e-50bae3799689",
   "metadata": {},
   "outputs": [
    {
     "data": {
      "text/plain": [
       "{'acknowledged': True}"
      ]
     },
     "execution_count": 39,
     "metadata": {},
     "output_type": "execute_result"
    }
   ],
   "source": [
    "es.indices.put_mapping(\n",
    "    index=\"harvardmetadata\",\n",
    "    doc_type=\"metadata\",\n",
    "    include_type_name=True,\n",
    "    body=\n",
    "    {\n",
    "        'properties': {\n",
    "            '@context': {\n",
    "                'type': 'text',\n",
    "                'fields': {\n",
    "                    'keyword': {\n",
    "                        'type': 'keyword', 'ignore_above': 256}}},\n",
    "    '@id': {'type': 'text',\n",
    "     'fields': {'keyword': {'type': 'keyword', 'ignore_above': 256}}},\n",
    "    '@type': {'type': 'text',\n",
    "     'fields': {'keyword': {'type': 'keyword', 'ignore_above': 256}}},\n",
    "    'author': {'properties': {'affiliation': {'type': 'text',\n",
    "       'fields': {'keyword': {'type': 'keyword', 'ignore_above': 256}}},\n",
    "      'name': {'type': 'text',\n",
    "       'fields': {'keyword': {'type': 'keyword', 'ignore_above': 256}}}}},\n",
    "    'citation': {'properties': {'@type': {'type': 'text',\n",
    "       'fields': {'keyword': {'type': 'keyword', 'ignore_above': 256}}},\n",
    "      'text': {'type': 'text',\n",
    "       'fields': {'keyword': {'type': 'keyword', 'ignore_above': 256}}}}},\n",
    "    'creator': {'properties': {'affiliation': {'type': 'text',\n",
    "       'fields': {'keyword': {'type': 'keyword', 'ignore_above': 256}}},\n",
    "      'name': {'type': 'text',\n",
    "       'fields': {'keyword': {'type': 'keyword', 'ignore_above': 256}}}}},\n",
    "    'dateModified': {'type': 'date'},\n",
    "    'datePublished': {'type': 'date'},\n",
    "    'description': {'type': 'text',\n",
    "     'fields': {'keyword': {'type': 'keyword', 'ignore_above': 256}}},\n",
    "    'distribution': {'properties': {'@id': {'type': 'text',\n",
    "       'fields': {'keyword': {'type': 'keyword', 'ignore_above': 256}}},\n",
    "      '@type': {'type': 'text',\n",
    "       'fields': {'keyword': {'type': 'keyword', 'ignore_above': 256}}},\n",
    "      'contentSize': {'type': 'long'},\n",
    "      'fileFormat': {'type': 'text',\n",
    "       'fields': {'keyword': {'type': 'keyword', 'ignore_above': 256}}},\n",
    "      'identifier': {'type': 'text',\n",
    "       'fields': {'keyword': {'type': 'keyword', 'ignore_above': 256}}},\n",
    "      'name': {'type': 'text',\n",
    "       'fields': {'keyword': {'type': 'keyword', 'ignore_above': 256}}}}},\n",
    "    'funder': {'properties': {'@type': {'type': 'text',\n",
    "       'fields': {'keyword': {'type': 'keyword', 'ignore_above': 256}}},\n",
    "      'name': {'type': 'text',\n",
    "       'fields': {'keyword': {'type': 'keyword', 'ignore_above': 256}}}}},\n",
    "    'identifier': {'type': 'text',\n",
    "     'fields': {'keyword': {'type': 'keyword', 'ignore_above': 256}}},\n",
    "    'includedInDataCatalog': {'properties': {'@type': {'type': 'text',\n",
    "       'fields': {'keyword': {'type': 'keyword', 'ignore_above': 256}}},\n",
    "      'name': {'type': 'text',\n",
    "       'fields': {'keyword': {'type': 'keyword', 'ignore_above': 256}}},\n",
    "      'url': {'type': 'text',\n",
    "       'fields': {'keyword': {'type': 'keyword', 'ignore_above': 256}}}}},\n",
    "    'keywords': {'type': 'text',\n",
    "     'fields': {'keyword': {'type': 'keyword', 'ignore_above': 256}}},\n",
    "    'license': {'properties': {'@type': {'type': 'text',\n",
    "       'fields': {'keyword': {'type': 'keyword', 'ignore_above': 256}}},\n",
    "      'text': {'type': 'text',\n",
    "       'fields': {'keyword': {'type': 'keyword', 'ignore_above': 256}}}}},\n",
    "    'name': {'type': 'text',\n",
    "     'fields': {'keyword': {'type': 'keyword', 'ignore_above': 256}}},\n",
    "    'provider': {'properties': {'@type': {'type': 'text',\n",
    "       'fields': {'keyword': {'type': 'keyword', 'ignore_above': 256}}},\n",
    "      'name': {'type': 'text',\n",
    "       'fields': {'keyword': {'type': 'keyword', 'ignore_above': 256}}}}},\n",
    "    'publisher': {'properties': {'@type': {'type': 'text',\n",
    "       'fields': {'keyword': {'type': 'keyword', 'ignore_above': 256}}},\n",
    "      'name': {'type': 'text',\n",
    "       'fields': {'keyword': {'type': 'keyword', 'ignore_above': 256}}}}},\n",
    "    'version': {'type': 'text',\n",
    "     'fields': {'keyword': {'type': 'keyword', 'ignore_above': 256}}}}}\n",
    "    \n",
    ")\n"
   ]
  },
  {
   "cell_type": "markdown",
   "id": "43b9b802-62bc-4818-a794-bfa12a0f37f4",
   "metadata": {},
   "source": [
    "## Testing Queries"
   ]
  },
  {
   "cell_type": "code",
   "execution_count": 26,
   "id": "d102b232-845b-4a61-9220-b0de101f1a0f",
   "metadata": {},
   "outputs": [],
   "source": [
    "\n",
    "query1={\n",
    "        \"query\": {\n",
    "            \"match\":{\n",
    "              \"@id\": {\n",
    "                \"query\": \"https://doi.org/10.11588/data/0HJW2A\"\n",
    "              }\n",
    "            }\n",
    "        }\n",
    "    }"
   ]
  },
  {
   "cell_type": "code",
   "execution_count": 119,
   "id": "f24c4c2b-e6c3-4203-b25a-63a25bac93d3",
   "metadata": {},
   "outputs": [],
   "source": [
    "q=\"https://doi.org/10.11588/data/10010\""
   ]
  },
  {
   "cell_type": "code",
   "execution_count": 120,
   "id": "49b2169b-4916-4c29-a214-a2293ccb2a08",
   "metadata": {},
   "outputs": [],
   "source": [
    "z='Epigraphik'"
   ]
  },
  {
   "cell_type": "code",
   "execution_count": 127,
   "id": "c807ee0f-8886-4834-b960-c5d0a1543879",
   "metadata": {},
   "outputs": [],
   "source": [
    "id_query={\n",
    "    \"query\": {\n",
    "        \"ids\" : {\n",
    "            \"type\" : \"metadata\",\n",
    "            \"values\" : [q]\n",
    "        }\n",
    "    }\n",
    "}\n",
    "\n",
    "\n",
    "keyword_query={\n",
    "  \"query\": {\n",
    "    \"multi_match\": {\n",
    "      \"query\": \"Earth and Environmental Sciences\",\n",
    "      \"fields\": []\n",
    "    }\n",
    "  }\n",
    "}\n"
   ]
  },
  {
   "cell_type": "code",
   "execution_count": 128,
   "id": "508b61d0-059d-49fd-bef3-bdb20601c956",
   "metadata": {},
   "outputs": [
    {
     "name": "stdout",
     "output_type": "stream",
     "text": [
      "{'query': {'ids': {'type': 'metadata', 'values': ['https://doi.org/10.11588/data/10006']}}}\n"
     ]
    }
   ],
   "source": [
    "print(query2)"
   ]
  },
  {
   "cell_type": "code",
   "execution_count": 129,
   "id": "72965a7b-82f3-4c5b-aa51-a61ce8006bcd",
   "metadata": {},
   "outputs": [],
   "source": [
    "res=es.search(index=\"harvardmetadata\", doc_type=\"metadata\", body=id_query)\n",
    "res2=es.search(index=\"harvardmetadata\", doc_type=\"metadata\", body=keyword_query)"
   ]
  },
  {
   "cell_type": "code",
   "execution_count": 130,
   "id": "57c658e5-367c-4748-a9b6-cf093ab21cd7",
   "metadata": {},
   "outputs": [
    {
     "name": "stdout",
     "output_type": "stream",
     "text": [
      "{'took': 6, 'timed_out': False, '_shards': {'total': 1, 'successful': 1, 'skipped': 0, 'failed': 0}, 'hits': {'total': {'value': 100, 'relation': 'eq'}, 'max_score': 8.374379, 'hits': [{'_index': 'harvardmetadata', '_type': 'metadata', '_id': 'https://doi.org/10.11588/data/3GYJUG', '_score': 8.374379, '_source': {'@context': 'http://schema.org', '@type': 'Dataset', '@id': 'https://doi.org/10.11588/data/3GYJUG', 'identifier': 'https://doi.org/10.11588/data/3GYJUG', 'name': 'MapSwipe: global dataset of crowdsourced classifications on human settlements and reference datasets', 'creator': [{'name': 'Herfort, Benjamin', 'affiliation': 'Institute of Geography, Heidelberg University'}], 'author': [{'name': 'Herfort, Benjamin', 'affiliation': 'Institute of Geography, Heidelberg University'}], 'datePublished': '2018-04-16', 'dateModified': '2018-04-16', 'version': '1', 'description': ['MapSwipe is a mobile crowdsourcing application designed for smartphones and tablets to generate geographic information from satellite imagery. Data from 55 projects containing more than nine million tasks and more than 30 million individual classification results contributed by about 7,500 users are covered by this dataset. Furthermore, reference datasets obtained manually and derived from OpenStreetMap are provided.'], 'keywords': ['Earth and Environmental Sciences', 'Crowdsourcing', 'Validation'], 'citation': [{'@type': 'CreativeWork', 'text': 'Herfort, B. (2018). Understanding MapSwipe: Analysing Data Quality of Crowdsourced Classifications on Human Settlements.', '@id': 'https://doi.org/10.11588/heidok.00024257', 'identifier': 'https://doi.org/10.11588/heidok.00024257'}], 'temporalCoverage': ['2016-07-30/2017-07-25'], 'license': {'@type': 'Dataset', 'text': \"Licensed under a <a href='http://creativecommons.org/licenses/by/4.0/'>Creative Commons Attribution 4.0 International License. &#160;<img src='https://i.creativecommons.org/l/by/4.0/80x15.png' alt='CC by' /></a>\"}, 'includedInDataCatalog': {'@type': 'DataCatalog', 'name': 'heiDATA', 'url': 'https://heidata.uni-heidelberg.de'}, 'publisher': {'@type': 'Organization', 'name': 'heiDATA'}, 'provider': {'@type': 'Organization', 'name': 'heiDATA'}, 'spatialCoverage': ['Madagascar', \"Lao People's Democratic Republic\", 'South Sudan', 'Botswana', 'Guatemala', 'Nigeria', 'Cambodia', 'Malawi', 'Sierra Leone', 'Chad', 'Guinea-Bissau'], 'distribution': [{'@type': 'DataDownload', 'name': 'global_datasets.zip', 'fileFormat': 'application/zip', 'contentSize': 311866296}, {'@type': 'DataDownload', 'name': 'laos_datasets.zip', 'fileFormat': 'application/zip', 'contentSize': 145524925}, {'@type': 'DataDownload', 'name': 'readme.txt', 'fileFormat': 'text/plain', 'contentSize': 2960}, {'@type': 'DataDownload', 'name': 'results.zip', 'fileFormat': 'application/zip', 'contentSize': 894311021}]}}, {'_index': 'harvardmetadata', '_type': 'metadata', '_id': 'https://doi.org/10.11588/data/10098', '_score': 7.3844995, '_source': {'@context': 'http://schema.org', '@type': 'Dataset', '@id': 'https://doi.org/10.11588/data/10098', 'identifier': 'https://doi.org/10.11588/data/10098', 'name': 'A European-wide 222Radon and 222Radon progeny comparison study [Dataset]', 'creator': [{'name': 'Schmithüsen, Dominik', 'affiliation': 'Institute of Environmental Physics'}, {'name': 'Chambers, Scott'}, {'name': 'Fischer, Bernd'}, {'name': 'Gilge, Stefan'}, {'name': 'Hattaka, Juha'}, {'name': 'Kazan, Victor'}, {'name': 'Neubert, Rolf'}, {'name': 'Paatero, Jussi'}, {'name': 'Ramonet, Michel'}, {'name': 'Schlosser, Clemens'}, {'name': 'Schmid, Sabine'}, {'name': 'Vermeulen, Alex'}, {'name': 'Levin, Ingeborg', 'affiliation': 'Institute of Environmental Physics'}], 'author': [{'name': 'Schmithüsen, Dominik', 'affiliation': 'Institute of Environmental Physics'}, {'name': 'Chambers, Scott'}, {'name': 'Fischer, Bernd'}, {'name': 'Gilge, Stefan'}, {'name': 'Hattaka, Juha'}, {'name': 'Kazan, Victor'}, {'name': 'Neubert, Rolf'}, {'name': 'Paatero, Jussi'}, {'name': 'Ramonet, Michel'}, {'name': 'Schlosser, Clemens'}, {'name': 'Schmid, Sabine'}, {'name': 'Vermeulen, Alex'}, {'name': 'Levin, Ingeborg', 'affiliation': 'Institute of Environmental Physics'}], 'datePublished': '2017-03-13', 'dateModified': '2017-04-05', 'version': '2', 'description': ['Although atmospheric 222Radon (222Rn) activity concentration measurements are currently performed world-wide, they are being made by many different laboratories and with fundamentally different measurement principles, so compatibility issues can limit their utility for regional-to-global applications. Consequently, we conducted a European‐wide 222Rn/222Rn progeny comparison study in order to evaluate the different measurement systems in use, determine potential systematic biases between them, and estimate correction factors that could be applied to harmonize data for their use as a tracer in atmospheric applications. Two compact portable Heidelberg Radon Monitors (HRM) were moved around to run for at least one month at each of the nine European measurement stations included in this comparison. Linear regressions between parallel data sets were calculated, yielding correction factors rela tive to the HRM ranging from 0.68 to 1.45. A calibration bias between ANSTO (Australian Nuclear Science and Technology Organisation) two‐filter radon monitors and the HRM of ANSTO/HRM = 1.11±0.05 was found. Moreover, for the continental stations using one‐filter systems that derive atmospheric 222Rn activity concentrations from measured atmospheric progeny activity concentrations, preliminary 214Po/222Rn disequilibrium values were also estimated. Mean station-specific disequilibrium values between 0.8 at mountain sites (e.g. Schauinsland) and 0.9 at non‐mountain sites for sampling heights around 20 to 30 m above ground level were determined. The respective corrections for calibration biases and disequilibrium derived in this study need to be applied to obtain a compatible European atmospheric 222Rn data set for use in quantitative applications, such as regional model intercomparison and validation, or trace gas flux estimates with the Radon‐Tracer‐Method.'], 'keywords': ['Earth and Environmental Sciences', 'Physics', 'atmospheric radon activity concentrations'], 'citation': [{'@type': 'CreativeWork', 'text': 'Schmithüsen, D., Chambers, S., Fischer, B., Gilge, S., Hatakka, J., Kazan, V., Neubert, R., Paatero, J., Ramonet, M., Schlosser, C., Schmid, S., Vermeulen, A., and Levin, I. (2016). A European-wide \\n<sup>222</sup>Radon and \\n<sup>222</sup>Radon progeny comparison study. Atmos. Meas. Tech., 10, 1299-1312, 2017.', '@id': 'https://doi.org/10.5194/amt-10-1299-2017', 'identifier': 'https://doi.org/10.5194/amt-10-1299-2017'}], 'temporalCoverage': ['2007-01/2015-07'], 'license': {'@type': 'Dataset', 'text': \"Licensed under a <a href='http://creativecommons.org/licenses/by/4.0/'>Creative Commons Attribution 4.0 International. &#160;<img src='https://i.creativecommons.org/l/by/4.0/80x15.png' alt='CC by' /></a>\"}, 'includedInDataCatalog': {'@type': 'DataCatalog', 'name': 'heiDATA', 'url': 'https://heidata.uni-heidelberg.de'}, 'publisher': {'@type': 'Organization', 'name': 'heiDATA'}, 'provider': {'@type': 'Organization', 'name': 'heiDATA'}, 'spatialCoverage': ['Europe'], 'distribution': [{'@type': 'DataDownload', 'name': 'amt-2016-111-supplement.pdf', 'fileFormat': 'application/pdf', 'contentSize': 980614, 'description': ''}, {'@type': 'DataDownload', 'name': 'Schmithüsen_et_al_AMT_Dataset.xlsx', 'fileFormat': 'application/octet-stream', 'contentSize': 1872011, 'description': ''}]}}, {'_index': 'harvardmetadata', '_type': 'metadata', '_id': 'https://doi.org/10.11588/data/10030', '_score': 7.212129, '_source': {'@context': 'http://schema.org', '@type': 'Dataset', '@id': 'https://doi.org/10.11588/data/10030', 'identifier': 'https://doi.org/10.11588/data/10030', 'name': 'Willingness to Pay for Voluntary Climate Action and Its Determinants: Field-Experimental Evidence [Dataset]', 'creator': [{'name': 'Diederich, Johannes', 'affiliation': 'Alfred-Weber-Institute of Economics'}, {'name': 'Goeschl, Timo', 'affiliation': 'Alfred-Weber-Institute of Economics'}], 'author': [{'name': 'Diederich, Johannes', 'affiliation': 'Alfred-Weber-Institute of Economics'}, {'name': 'Goeschl, Timo', 'affiliation': 'Alfred-Weber-Institute of Economics'}], 'datePublished': '2014-10-29', 'dateModified': '2017-04-06', 'version': '2', 'description': ['The determinants of individual, voluntary climate action (VCA) in combating climate change and its potential scale are frequently debated in public but largely underresearched. We provide estimates of the willingness to individually reduce EU greenhouse gas emissions by one ton, using the European Union Emissions Trading Scheme. Estimates are derived from an online ﬁeld experiment with a large, highly heterogenous, and Internet-representative sample of voting-aged Germans. Jointly estimating willingness to pay (WTP), non-indifference to VCA, and prior knowledge, we uncover important determinants of preferences for VCA, such as education, the information structure among the population, and exogenous environmental conditions.'], 'keywords': ['Social Sciences', 'C93', 'Q51', 'Q54', 'Climate change', 'EU ETS', 'Field experiment', 'Online experiment', 'Public goods', 'Voluntary contributions', 'Voluntary climate action', 'Willingness to pay'], 'citation': [{'@type': 'CreativeWork', 'text': 'Diederich, J., Goeschl, T. (2014). Willingness to Pay for Voluntary Climate Action and Its Determinants: Field-Experimental Evidence. Environmental &amp; Resource Economics 57:405-29', '@id': 'http://dx.doi.org/10.1007/s10640-013-9686-3', 'identifier': 'http://dx.doi.org/10.1007/s10640-013-9686-3'}], 'license': {'@type': 'Dataset'}, 'includedInDataCatalog': {'@type': 'DataCatalog', 'name': 'heiDATA', 'url': 'https://heidata.uni-heidelberg.de'}, 'publisher': {'@type': 'Organization', 'name': 'heiDATA'}, 'provider': {'@type': 'Organization', 'name': 'heiDATA'}, 'spatialCoverage': ['Germany', 'Germany'], 'distribution': [{'@type': 'DataDownload', 'name': '2013-03_Data-DC-Fld_konvertiert.zip', 'fileFormat': 'application/zip', 'contentSize': 27758571, 'description': 'for internal use only'}, {'@type': 'DataDownload', 'name': 'Diederich-Goeschl_2014_WTP-for-VCA_ERE-57_405-29.do', 'fileFormat': 'text/x-stata-syntax; charset=US-ASCII', 'contentSize': 7054, 'description': 'do-File'}, {'@type': 'DataDownload', 'name': 'Diederich-Goeschl_2014_WTP-for-VCA_ERE-57_405-29.dta', 'fileFormat': 'application/x-stata', 'contentSize': 2120979, 'description': 'Data'}]}}, {'_index': 'harvardmetadata', '_type': 'metadata', '_id': 'https://doi.org/10.11588/data/10027', '_score': 6.845092, '_source': {'@context': 'http://schema.org', '@type': 'Dataset', '@id': 'https://doi.org/10.11588/data/10027', 'identifier': 'https://doi.org/10.11588/data/10027', 'name': 'Neutron tomographic data of Kawingasaurus', 'creator': [{'name': 'Laaß, Michael'}], 'author': [{'name': 'Laaß, Michael'}], 'datePublished': '2014-08-08', 'dateModified': '2017-04-06', 'version': '1', 'description': ['The aim of the work was the investigation of the internal cranial anatomy of the nonmammalian synapsid Kawingasaurus fossilis.'], 'keywords': ['Earth and Environmental Sciences', 'Kawingasaurus', 'Neutron tomography', 'brain evolution', 'Vertebrate Palaeontology'], 'license': {'@type': 'Dataset'}, 'includedInDataCatalog': {'@type': 'DataCatalog', 'name': 'heiDATA', 'url': 'https://heidata.uni-heidelberg.de'}, 'publisher': {'@type': 'Organization', 'name': 'heiDATA'}, 'provider': {'@type': 'Organization', 'name': 'heiDATA'}, 'distribution': [{'@type': 'DataDownload', 'name': 'image0300_0399.zip', 'fileFormat': 'application/zip', 'contentSize': 287727454, 'description': ''}, {'@type': 'DataDownload', 'name': 'image0400_0499.zip', 'fileFormat': 'application/zip', 'contentSize': 296857177, 'description': ''}, {'@type': 'DataDownload', 'name': 'image0500_0599.zip', 'fileFormat': 'application/zip', 'contentSize': 311039881, 'description': ''}, {'@type': 'DataDownload', 'name': 'image0600_0699.zip', 'fileFormat': 'application/zip', 'contentSize': 316161085, 'description': ''}, {'@type': 'DataDownload', 'name': 'image0700_0799.zip', 'fileFormat': 'application/zip', 'contentSize': 316981035, 'description': ''}, {'@type': 'DataDownload', 'name': 'image0800_0899.zip', 'fileFormat': 'application/zip', 'contentSize': 313647073, 'description': ''}, {'@type': 'DataDownload', 'name': 'image0900_0999.zip', 'fileFormat': 'application/zip', 'contentSize': 309142742, 'description': ''}, {'@type': 'DataDownload', 'name': 'image1000_1099.zip', 'fileFormat': 'application/zip', 'contentSize': 308263645, 'description': ''}, {'@type': 'DataDownload', 'name': 'image1100_1199.zip', 'fileFormat': 'application/zip', 'contentSize': 307219391, 'description': ''}, {'@type': 'DataDownload', 'name': 'image1200_1299.zip', 'fileFormat': 'application/zip', 'contentSize': 306050048, 'description': ''}, {'@type': 'DataDownload', 'name': 'image1300_1399.zip', 'fileFormat': 'application/zip', 'contentSize': 304544834, 'description': ''}, {'@type': 'DataDownload', 'name': 'image1400_1499.zip', 'fileFormat': 'application/zip', 'contentSize': 300342717, 'description': ''}, {'@type': 'DataDownload', 'name': 'image1500_1599.zip', 'fileFormat': 'application/zip', 'contentSize': 297955893, 'description': ''}, {'@type': 'DataDownload', 'name': 'image1600_1699.zip', 'fileFormat': 'application/zip', 'contentSize': 294507465, 'description': ''}, {'@type': 'DataDownload', 'name': 'image1700_1799.zip', 'fileFormat': 'application/zip', 'contentSize': 292828849, 'description': ''}, {'@type': 'DataDownload', 'name': 'image1800_1899.zip', 'fileFormat': 'application/zip', 'contentSize': 290246308, 'description': ''}, {'@type': 'DataDownload', 'name': 'image1900_2000.zip', 'fileFormat': 'application/zip', 'contentSize': 289503842, 'description': ''}]}}, {'_index': 'harvardmetadata', '_type': 'metadata', '_id': 'https://doi.org/10.11588/data/10100', '_score': 6.1691437, '_source': {'@context': 'http://schema.org', '@type': 'Dataset', '@id': 'https://doi.org/10.11588/data/10100', 'identifier': 'https://doi.org/10.11588/data/10100', 'name': 'Monthly mean atmospheric D14CO2 at Jungfraujoch and Schauinsland from 1986 to 2016', 'creator': [{'name': 'Hammer, Samuel', 'affiliation': 'Institute of Environmental Physics'}, {'name': 'Levin, Ingeborg', 'affiliation': 'Institute of Environmental Physics'}], 'author': [{'name': 'Hammer, Samuel', 'affiliation': 'Institute of Environmental Physics'}, {'name': 'Levin, Ingeborg', 'affiliation': 'Institute of Environmental Physics'}], 'datePublished': '2017-03-21', 'dateModified': '2017-04-05', 'version': '2', 'description': ['14CO2 observations at Jungfraujoch high altitude research station in the Swiss Alps (3450m a.s.l.) and at Schauinsland observatory (1205 m a.s.l.) in the German Black Forest are conducted to monitor the background 14CO2 level over Europe and define the reference for regional estimates of fossil fuel CO2. The record is also used for post-bomb dating of organic material (e.g. forensic studies).'], 'keywords': ['Earth and Environmental Sciences', 'Physics', 'Radiocarbon', 'carbon dioxide', 'post bomb dating', 'continental background air'], 'citation': [{'@type': 'CreativeWork', 'text': 'Levin, I., B. Kromer, and S. Hammer, 2013. Atmospheric D14CO2 trend in Western European background air from 2000 to 2012. Tellus B, 65, 20092.', '@id': 'https://doi.org/10.3402/tellusb.v65i0.20092', 'identifier': 'https://doi.org/10.3402/tellusb.v65i0.20092'}], 'temporalCoverage': ['1986-07/2016-11'], 'license': {'@type': 'Dataset', 'text': \"Licensed under a <a href='http://creativecommons.org/licenses/by/4.0/'>Creative Commons Attribution 4.0 International. &#160;<img src='https://i.creativecommons.org/l/by/4.0/80x15.png' alt='CC by' /></a>\"}, 'includedInDataCatalog': {'@type': 'DataCatalog', 'name': 'heiDATA', 'url': 'https://heidata.uni-heidelberg.de'}, 'publisher': {'@type': 'Organization', 'name': 'heiDATA'}, 'provider': {'@type': 'Organization', 'name': 'heiDATA'}, 'spatialCoverage': ['Switzerland, Germany', \"Jungfraujoch, 46°33'N, 7°59'E, 3450 m a.s.l., Schauinsland, 47°55'N, 7°54'E, 1205m a.s.l.\"], 'distribution': [{'@type': 'DataDownload', 'name': 'JFJ_SIL_C14_MM_2017_Mar.xlsx', 'fileFormat': 'application/octet-stream', 'contentSize': 22985, 'description': ''}]}}, {'_index': 'harvardmetadata', '_type': 'metadata', '_id': 'https://doi.org/10.11588/data/10070', '_score': 5.2708473, '_source': {'@context': 'http://schema.org', '@type': 'Dataset', '@id': 'https://doi.org/10.11588/data/10070', 'identifier': 'https://doi.org/10.11588/data/10070', 'name': 'Disaggregated Conflict Dataset (DISCON) 1.0', 'creator': [{'name': 'Trinn, Christoph', 'affiliation': 'Institute for Political Science'}, {'name': 'Heidelberg Institute of International Conflict Research e.V. (HIIK)'}], 'author': [{'name': 'Trinn, Christoph', 'affiliation': 'Institute for Political Science'}, {'name': 'Heidelberg Institute of International Conflict Research e.V. (HIIK)'}], 'datePublished': '2016-03-11', 'dateModified': '2017-04-05', 'version': '1', 'description': ['The Disaggregated Conflict Dataset (DISCON) has been jointly released by Dr. Christoph Trinn, Institute for Political Science, Heidelberg, and the Heidelberg Institute for International Conflict Research (HIIK). DISCON is based on a broad-based, integrative concept of conflict. Drawing on news sources and academic analyses, DISCON currently comprises data on 156 violent and non-violent conflicts between states, between governments and rebel groups, and among non-state actors and in Asia and Oceania from 2000 to 2014. It is to be continually supplemented and updated. Whereas existing conflict datasets mainly restrict themselves to the number of fatalities as a measure of conflict intensity, the Heidelberg approach considers other consequences of political violence, as well. These include the number of displaced persons and the extent of destruction. In addition, the means of violence - weapons or personnel deployment - are recorded. Every violent conflict is broken down into months and first-level subnational regions such as provinces and states, and its intensity is assessed on the basis of the five indicators. In all, DISCON contains over 6300 region-month intensities with about 31,600 individual assessments.'], 'keywords': ['Social Sciences', 'armed conflicts', 'civil war', 'non-violent conflicts', 'Asia', 'Oceania', 'conflict intensity', 'conflict concept'], 'citation': [{'@type': 'CreativeWork', 'text': 'Trinn, Christoph (2015) Konflikt und Komplexität. Die Intensität innerstaatlicher Gewaltkonflikte in systemtheoretischer Perspektive. Wiesbaden: Springer VS.'}, {'@type': 'CreativeWork', 'text': 'Trinn, Christoph (2015) Konflikt und Komplexität. Die Intensität innerstaatlicher Gewaltkonflikte in systemtheoretischer Perspektive. Wiesbaden: Springer VS.'}, {'@type': 'CreativeWork', 'text': 'Schwank, Nicolas; Trinn, Christoph; Wencker, Thomas (2013) “Der Heidelberger Ansatz der Konfliktdatenerfassung”, in: Zeitschrift für Friedens- und Konfliktforschung 2(1): 32-63.'}, {'@type': 'CreativeWork', 'text': 'Trinn, Christoph (2015) Konflikt und Komplexität. Die Intensität innerstaatlicher Gewaltkonflikte in systemtheoretischer Perspektive. Wiesbaden: Springer VS.'}, {'@type': 'CreativeWork', 'text': 'Schwank, Nicolas; Trinn, Christoph; Wencker, Thomas (2013) “Der Heidelberger Ansatz der Konfliktdatenerfassung”, in: Zeitschrift für Friedens- und Konfliktforschung 2(1): 32-63.'}, {'@type': 'CreativeWork', 'text': 'Wencker, Thomas; Trinn, Christoph; Croissant, Aurel (2015) Data Bases and Statistical Systems: Security and Conﬂict, in: Wright, James D. (ed.): International Encyclopedia of the Social and Behavioral Sciences (5): 836-843.'}, {'@type': 'CreativeWork', 'text': 'Trinn, Christoph (2015) Konflikt und Komplexität. Die Intensität innerstaatlicher Gewaltkonflikte in systemtheoretischer Perspektive. Wiesbaden: Springer VS.'}, {'@type': 'CreativeWork', 'text': 'Schwank, Nicolas; Trinn, Christoph; Wencker, Thomas (2013) “Der Heidelberger Ansatz der Konfliktdatenerfassung”, in: Zeitschrift für Friedens- und Konfliktforschung 2(1): 32-63.'}, {'@type': 'CreativeWork', 'text': 'Wencker, Thomas; Trinn, Christoph; Croissant, Aurel (2015) Data Bases and Statistical Systems: Security and Conﬂict, in: Wright, James D. (ed.): International Encyclopedia of the Social and Behavioral Sciences (5): 836-843.'}, {'@type': 'CreativeWork', 'text': 'Heidelberg Institute of International Conflict Research (HIIK) (2016) Conflict Barometer 2015 (ISSN 1616-931X).', '@id': 'http://www.hiik.de/en/konfliktbarometer/', 'identifier': 'http://www.hiik.de/en/konfliktbarometer/'}], 'temporalCoverage': ['2000-01/2014-12'], 'license': {'@type': 'Dataset', 'text': \"Licensed under a <a href='http://creativecommons.org/licenses/by-nc/4.0/'>Creative Commons Attribution-Non commercial 4.0 International License. &#160;<img src='https://i.creativecommons.org/l/by-nc/4.0/80x15.png' alt='CC by nc' /></a>\"}, 'includedInDataCatalog': {'@type': 'DataCatalog', 'name': 'heiDATA', 'url': 'https://heidata.uni-heidelberg.de'}, 'publisher': {'@type': 'Organization', 'name': 'heiDATA'}, 'provider': {'@type': 'Organization', 'name': 'heiDATA'}, 'spatialCoverage': ['Asia; Oceania'], 'distribution': [{'@type': 'DataDownload', 'name': 'discon_1.0.xlsx', 'fileFormat': 'application/octet-stream', 'contentSize': 469874, 'description': ''}, {'@type': 'DataDownload', 'name': 'discon_-_codebook_2-2016.pdf', 'fileFormat': 'application/pdf', 'contentSize': 137706, 'description': ''}, {'@type': 'DataDownload', 'name': 'trinn_et_al_-_introducing_the_heidelberg_approach.pdf', 'fileFormat': 'application/pdf', 'contentSize': 198400, 'description': 'only for internal purposes'}]}}, {'_index': 'harvardmetadata', '_type': 'metadata', '_id': 'https://doi.org/10.11588/data/10101', '_score': 5.151694, '_source': {'@context': 'http://schema.org', '@type': 'Dataset', '@id': 'https://doi.org/10.11588/data/10101', 'identifier': 'https://doi.org/10.11588/data/10101', 'name': 'HELIOS full-waveform laser scanning simulation framework. Source code, precompiled version, example files for study of understory tree height scanning and respective output.', 'creator': [{'name': 'Hämmerle, Martin', 'affiliation': 'Institute of Geography'}, {'name': 'Lukač, Niko'}, {'name': 'Chen, Kuei-Chia'}, {'name': 'Koma, Zsófia'}, {'name': 'Wang, Chi-Kuei'}, {'name': 'Anders, Katharina', 'affiliation': 'Institute of Geography'}, {'name': 'Höfle, Bernhard', 'affiliation': 'Institute of Geography and Heidelberg Center for the Environment'}], 'author': [{'name': 'Hämmerle, Martin', 'affiliation': 'Institute of Geography'}, {'name': 'Lukač, Niko'}, {'name': 'Chen, Kuei-Chia'}, {'name': 'Koma, Zsófia'}, {'name': 'Wang, Chi-Kuei'}, {'name': 'Anders, Katharina', 'affiliation': 'Institute of Geography'}, {'name': 'Höfle, Bernhard', 'affiliation': 'Institute of Geography and Heidelberg Center for the Environment'}], 'datePublished': '2017-05-22', 'dateModified': '2018-02-06', 'version': '1', 'description': ['This data collection enables any user to reproduce the study Hämmerle et al. (2017). It provides the source code to compile the applied simulation framework. Furthermore, a precompiled version of the software including the necessary files are provided so that a direct start of the simulation without compilation is possible. The output of the simulation (ASCII point clouds) is also provided. For details see the provided README.txt file. The main aim of the study was to examine different laser scanning campaing setups with respect to understory tree height representation which is important, for example, for forestry or climate research.'], 'keywords': ['Earth and Environmental Sciences', 'forest structure', 'understory', 'laser scanning simulation', 'full waveform', '3D point cloud analysis', 'field campaign planning', 'HELIOS'], 'citation': [{'@type': 'CreativeWork', 'text': 'Hämmerle, M., Lukač, N., Chen, K.-C., Koma, Zs., Wang, C.-K., Anders, K., and Höfle, B. (2017): SIMULATING VARIOUS TERRESTRIAL AND UAV LIDAR SCANNING CONFIGURATIONS FOR UNDERSTORY FOREST STRUCTURE MODELLING, ISPRS Ann. Photogramm. Remote Sens. Spatial Inf. Sci., IV-2/W4, 59-65.', '@id': 'https://doi.org/10.5194/isprs-annals-IV-2-W4-59-2017', 'identifier': 'https://doi.org/10.5194/isprs-annals-IV-2-W4-59-2017'}, {'@type': 'CreativeWork', 'text': 'Bechtold, S. &amp; Höfle, B. (2016): HELIOS: A Multi-Purpose LiDAR Simulation Framework for Research, Planning and Training of Laser Scanning Operations with Airborne, Ground-Based Mobile and Stationary Platforms. ISPRS Annals of Photogrammetry, Remote Sensing and Spatial Information Sciences. Vol. III-3, pp. 161-168.', '@id': 'https://doi.org/10.5194/isprs-annals-III-3-161-2016', 'identifier': 'https://doi.org/10.5194/isprs-annals-III-3-161-2016'}], 'license': {'@type': 'Dataset', 'text': 'Software and source code are licensed under <a href=\"https://www.gnu.org/licenses/gpl-3.0.en.html\">General Public License v3 (GPL v3)</a>. <br /> Data (point clouds) are licensed under <a href=\"https://creativecommons.org/licenses/by/4.0/\">Creative Commons Attribution 4.0 International (CC BY 4.0)</a>.'}, 'includedInDataCatalog': {'@type': 'DataCatalog', 'name': 'heiDATA', 'url': 'https://heidata.uni-heidelberg.de'}, 'publisher': {'@type': 'Organization', 'name': 'heiDATA'}, 'provider': {'@type': 'Organization', 'name': 'heiDATA'}, 'distribution': [{'@type': 'DataDownload', 'name': 'helios-FWF-master.zip', 'fileFormat': 'application/zip', 'contentSize': 22786100}, {'@type': 'DataDownload', 'name': 'HELIOS_FWF_precompiled.zip', 'fileFormat': 'application/zip', 'contentSize': 167362352}, {'@type': 'DataDownload', 'name': 'output_pointClouds.zip', 'fileFormat': 'application/zip', 'contentSize': 1419998004}, {'@type': 'DataDownload', 'name': 'README.txt', 'fileFormat': 'text/plain', 'contentSize': 3263}]}}, {'_index': 'harvardmetadata', '_type': 'metadata', '_id': 'https://doi.org/10.11588/data/6JTPWL', '_score': 4.3793454, '_source': {'@context': 'http://schema.org', '@type': 'Dataset', '@id': 'https://doi.org/10.11588/data/6JTPWL', 'identifier': 'https://doi.org/10.11588/data/6JTPWL', 'name': 'GECCA mapped', 'creator': [{'name': 'Franziska Koch', 'affiliation': 'Heidelberg Centre for Transcultural Studies, Global Art History, Heidelberg University, Germany'}], 'author': [{'name': 'Franziska Koch', 'affiliation': 'Heidelberg Centre for Transcultural Studies, Global Art History, Heidelberg University, Germany'}], 'datePublished': '2018-02-16', 'dateModified': '2018-02-16', 'version': '1', 'description': ['GECCA mapped is a pilot project that visualizes and provides geo-referential metadata of sixty exhibition entries collected in the larger GECCA data base (more than 700 entries). The exhibition sample is limited to Western, i.e. Western European and Northern American group exhibitions, and excludes bi-/ triennials. With the support of the HRA (Heidelberg Research Architecture), GECCA mapped allows the user to trace the exhibition sample implemented in Google Earth. The GECCA mapped logo indicates the place where a particular exhibition was staged and is scaled according to the number of participating artists. A click on the logo opens a pop-up window presenting more information on the exhibition. The Google Earth timeline enables the user to follow the exhibition development in any chosen geographical area in the period from 1982 (earliest exhibition entry) to 2009 (latest exhibition entry).   Group Exhibitions of Contemporary Chinese Art (GECCA): The medium of (group and panoramic) exhibitions has played a fundamental role in creating a global context for Chinese art within and outside of the People\\'s Republic after the end of the \"Great Proletarian Cultural Revolution\" (1966-1976) and since the political reforms initiated by Deng Xiaoping in 1978/79. In economic, discursive, aesthetic and institutional terms, the Western reception of these shows was very influential for the establishment of a certain international canon of artworks, artists and curators. This particular canon in fact came to be considered representative of the whole of Chinese artistic production, although it actually tends to exclude large parts of the overall artistic activity such as \"national ink painting\" (guohua), conventional or conservative academic oil painting, as well as those works involving political or consumption oriented subject matter, including mass-produced decorative and popular artworks.   With 60 exhibitions entries, the data that GECCA mapped visualizes is a comparatively small sample of the database GECCA - which contains more than 700 exhibition entries. The data was individually researched and includes information on the location, institution, dates, exhibition topic, participating artists and curators. The sources for the data stem from exhibition catalogues, museum websites, archival documentation of public art libraries and other archives.   A typical use of the kmz-file that visualizes GECCA mapped is Google Earth.'], 'keywords': ['Arts and Humanities', 'contemporary Chinese art', 'group exhibitions', 'North America (general region)', 'Europe (continent)', 'Australia (nation)', 'Art, Chinese--20th century--Exhibitions', 'GECCA mapped', 'Geographic information systems', 'Digital mapping'], 'citation': [{'@type': 'CreativeWork', 'text': 'Koch, Franziska. 2016. „Die\\u202f»chinesische Avantgarde«\\u202fund das Dispositiv der Ausstellung: Konstruktionen chinesischer Gegenwartskunst im Spannungsfeld der Globalisierung“. Bielefeld: transcript.', '@id': 'http://www.transcript-verlag.de/978-3-8376-2617-9/die-chinesische-avantgarde-und-das-dispositiv-der-ausstellung', 'identifier': 'http://www.transcript-verlag.de/978-3-8376-2617-9/die-chinesische-avantgarde-und-das-dispositiv-der-ausstellung'}], 'temporalCoverage': ['1982/2009'], 'license': {'@type': 'Dataset', 'text': 'CC0', 'url': 'https://creativecommons.org/publicdomain/zero/1.0/'}, 'includedInDataCatalog': {'@type': 'DataCatalog', 'name': 'heiDATA', 'url': 'https://heidata.uni-heidelberg.de'}, 'publisher': {'@type': 'Organization', 'name': 'heiDATA'}, 'provider': {'@type': 'Organization', 'name': 'heiDATA'}, 'distribution': [{'@type': 'DataDownload', 'name': 'GECCA.kmz', 'fileFormat': 'application/vnd.google-earth.kmz', 'contentSize': 5354997, 'description': 'KMZ file of GECCA mapped', 'contentUrl': 'https://heidata.uni-heidelberg.de/api/access/datafile/1522'}]}}, {'_index': 'harvardmetadata', '_type': 'metadata', '_id': 'https://doi.org/10.11588/data/5ZH1G4', '_score': 3.5408764, '_source': {'@context': 'http://schema.org', '@type': 'Dataset', '@id': 'https://doi.org/10.11588/data/5ZH1G4', 'identifier': 'https://doi.org/10.11588/data/5ZH1G4', 'name': 'The Italian Venus revisited (Catalogue Vol. 1.2)', 'creator': [{'name': 'Bender, K.', 'affiliation': 'independent researcher'}], 'author': [{'name': 'Bender, K.', 'affiliation': 'independent researcher'}], 'datePublished': '2018-09-20', 'dateModified': '2018-09-20', 'version': '1', 'description': ['Topical catalogue of 6,985 artworks (sculptures, reliefs, paintings, frescoes, drawings, prints and illustrations) of 1,876 identified Italian artists and their repetitions. Categorized under 18 main Topics, with an Index of Artists and a list of Information Resources, including online sources, iconographic collections and bibliographical references - 618 pages.'], 'keywords': ['Arts and Humanities', 'Italian art', 'catalogue', 'iconography', 'Aphrodite', 'Venus'], 'citation': [{'@type': 'CreativeWork', 'text': 'K. Bender: The Iconography of Venus - Vol. 1.2 The Italian Venus revisited.', '@id': 'http://www.lulu.com/shop/k-bender/the-iconography-of-venus-vol-12-the-italian-venus-revisited/paperback/product-23620066.html', 'identifier': 'http://www.lulu.com/shop/k-bender/the-iconography-of-venus-vol-12-the-italian-venus-revisited/paperback/product-23620066.html'}], 'temporalCoverage': ['1100/2018'], 'license': {'@type': 'Dataset', 'text': \"All data compiled are in the public domain, and users are allowed to break-up and recombine, to use and reuse.\\r\\n\\r\\nLicensed under a <a href='https://opendatacommons.org/licenses/by/1-0/'>Open Data Commons Attribution License (ODC-By) v1.0.</a>\"}, 'includedInDataCatalog': {'@type': 'DataCatalog', 'name': 'heiDATA', 'url': 'https://heidata.uni-heidelberg.de'}, 'publisher': {'@type': 'Organization', 'name': 'heiDATA'}, 'provider': {'@type': 'Organization', 'name': 'heiDATA'}, 'distribution': [{'@type': 'DataDownload', 'name': 'CSV Vol 1.2.tab', 'fileFormat': 'text/tab-separated-values', 'contentSize': 7628566, 'description': \"CSV format as exported from the DBMS 'ArtWorks - art cataloguing & presentation software Version 1.2 Build 25' Copyright 2002-2018 Belgrave Park Pty. Ltd.\\r\\n\\r\\nIf you want to import this .csv file on your computer and open it with Excel, please use the import dialogue (Field delimiter: Tabulator, Encoding: UTF-8). But if you only want to open it, use LibreOffice or go to the next CSV file .xlsx. Both files .csv and .xlsx have the same content.\"}, {'@type': 'DataDownload', 'name': 'CSV Vol 1.2.xlsx', 'fileFormat': 'application/vnd.openxmlformats-officedocument.spreadsheetml.sheet', 'contentSize': 3066164, 'description': \"Excel format with description of 8874 artworks (Rows) in 18 fields (Columns): RefNo, InventoryNo, Artist, Title, Year, Description, Medium, LastValue, Dimension H, Dimension W, Dimension D, Type, Series, Status, DueBack, Client, Notes, Image Filename. The file was generated with the filter functionality of the DBMS (see File .csv) based on ‘RefNo contains’ letter 'i' (for 'Italian'). \\r\\nSee Part I 'Guideline' in the PDF file of the catalogue for the methodology of the compilation. \\r\\nThe total number 8874 of artworks is higher than the total number 6985 (Cat nr) of artworks with entry in the PDF file of the catalogue. Only those artworks with a Title-field starting with a numerical 1 to 18, corresponding to the 18 main topics categorized in the catalogues, have an entry in the catalogue. All other works have a Title-field which starts with a letter in upper case and do not get a Cat nr, though they are described in the PDFs with their Record nr (and thus searchable in the PDF) in Comments of the entry. All RefNo ending with letter 'a' following the letter 'i' were added in the DBMS since publication of the catalogue PDF file. Thus these are artworks to evaluate when revising the published catalogue after further comparative study. Occasionally letter 'n' or '?' following letter 'i' in RefNo is used to indicate preliminary rejection of the artwork, sometimes because the artist is not (yet) identified. \"}, {'@type': 'DataDownload', 'name': 'Vol_1_2.pdf', 'fileFormat': 'application/pdf', 'contentSize': 6292873, 'description': 'This volume has two parts: I Introduction and ackowledgements, Issues of compilation, Guideline to the Catalogue, Index of Artists (with multiple cross-references to alternative names or pseudonyms); Information resources, and II Catalogue. \\r\\nThe artworks in the catalogue are categorized by their topic and described in the rows of a table with five columns :  ARTIST;\\tYear\\r\\n& level; Title(s) (keyword) (after) (author)/ type/ medium, support/ dimension/ owner or auctioneer/ inventory or sale-lot nrs/ information sources/ comments; Record nr; Cat nr.\\r\\nIn the column ‘Title etc’ the forward slash / is used to split the different parts of the description of the artwork; parentheses (…) are used to clarify and angle brackets < …> are used for quotations found in the information sources.\\r\\n\\r\\nThe Record nr is identical to the RefNo in the CSV files and the ID in the Image-set, but is preceded by the letter R  for reason of easy search in the PDF and is followed by letter V (void) if an image is missing (but in a few cases a screenshot of a descriptive text from an information source has been filed in the Image-set). Letter R is preceded by the sign * for a  new record not included in the first edition Vol 1.1 of 2007.\\r\\nCat nrs are only given to entries describing works which comply to the rules of the Guideline.'}]}}, {'_index': 'harvardmetadata', '_type': 'metadata', '_id': 'https://doi.org/10.11588/data/9UXUB0', '_score': 3.5408764, '_source': {'@context': 'http://schema.org', '@type': 'Dataset', '@id': 'https://doi.org/10.11588/data/9UXUB0', 'identifier': 'https://doi.org/10.11588/data/9UXUB0', 'name': 'The Venus of the Eastern, Southern and Northern European Regions (Catalogue Vol. 6.1)', 'creator': [{'name': 'Bender, K.', 'affiliation': 'independent researcher', '@id': 'https://orcid.org/0000-0003-4855-6860', 'identifier': 'https://orcid.org/0000-0003-4855-6860'}], 'author': [{'name': 'Bender, K.', 'affiliation': 'independent researcher', '@id': 'https://orcid.org/0000-0003-4855-6860', 'identifier': 'https://orcid.org/0000-0003-4855-6860'}], 'datePublished': '2018-09-20', 'dateModified': '2018-09-20', 'version': '1', 'description': ['Topical catalogue of 1371 sculptures, reliefs, paintings, frescoes, drawings, prints and illustrations of 629 identified artists of of the Eastern, Southern and Northern European Regions, from the Middle Ages to Modern Times. 154 pp. With an Index of Artists, a Directory of Owners and an extensive Bibliography.'], 'keywords': ['Arts and Humanities', 'European art', 'catalogue', 'iconography ', 'Aphrodite', 'Venus'], 'citation': [{'@type': 'CreativeWork', 'text': 'K. Bender (2014): The Iconography of Venus - Vol. 6.1 The Venus of the Eastern, Southern and Northern European Regions', '@id': 'http://www.lulu.com/shop/k-bender/the-venus-of-the-eastern-southern-and-northern-european-regions/ebook/product-21542495.html', 'identifier': 'http://www.lulu.com/shop/k-bender/the-venus-of-the-eastern-southern-and-northern-european-regions/ebook/product-21542495.html'}], 'temporalCoverage': ['1500/2014'], 'license': {'@type': 'Dataset', 'text': \"All data compiled are in the public domain, and users are allowed to break-up and recombine, to use and reuse.\\r\\n\\r\\nLicensed under a <a href='https://opendatacommons.org/licenses/by/1-0/'>Open Data Commons Attribution License (ODC-By) v1.0.</a>\"}, 'includedInDataCatalog': {'@type': 'DataCatalog', 'name': 'heiDATA', 'url': 'https://heidata.uni-heidelberg.de'}, 'publisher': {'@type': 'Organization', 'name': 'heiDATA'}, 'provider': {'@type': 'Organization', 'name': 'heiDATA'}, 'distribution': [{'@type': 'DataDownload', 'name': 'CSV Vol 6.1.csv', 'fileFormat': 'text/csv', 'contentSize': 924890, 'description': \"CSV format as exported from the DBMS 'ArtWorks - art cataloguing & presentation software Version 1.2 Build 25' Copyright 2002-2018 Belgrave Park Pty. Ltd.\\r\\n\\r\\nIf you want to import this .csv file on your computer and open it with Excel, please use the import dialogue (Field delimiter: Tabulator, Encoding: UTF-8). But if you only want to open it, use LibreOffice or go to the next CSV file .xlsx. Both files .csv and .xlsx have the same content.\"}, {'@type': 'DataDownload', 'name': 'CSV Vol 6.1.xlsx', 'fileFormat': 'application/vnd.openxmlformats-officedocument.spreadsheetml.sheet', 'contentSize': 443490, 'description': \"Excel format with description of 1697 artworks (Rows) in 18 fields (Columns): RefNo, InventoryNo, Artist, Title, Year, Description, Medium, LastValue, Dimension H, Dimension W, Dimension D, Type, Series, Status, DueBack, Client, Notes, Image Filename. The file was generated with the filter functionality of the DBMS (see File .csv) based on ‘RefNo contains’ letters 'r' (for 'Eastern'), 's' (for 'Soutern') or 't' (for 'Northern'). \\r\\nSee 'Guideline' in the PDF file of the catalogue for the methodology of the compilation. \\r\\nThe total number 1697 of artworks is higher than the total number 1371 (Cat nr) of artworks with entry in the PDF file of the catalogue. Only those artworks with a Title-field starting with a numerical 1 to 18, corresponding to the 18 main topics categorized in the catalogues, have an entry in the catalogue. All other works have a Title-field which starts with a letter in upper case and do not get a Cat nr, though they are described in the PDFs with their Record nr (and thus searchable in the PDF) in Comments of the entry. All RefNo ending with letter 'a' following the letters 'r, s or t' were added in the DBMS since publication of the catalogue PDF file. Thus these are artworks to evaluate when revising the published catalogue after further comparative study. Occasionally 'n' or '?' following letters 'r, s or t' in RefNo are used to indicate preliminary rejection of the artwork, sometimes because the artist is not (yet) identified. \\r\\n\"}, {'@type': 'DataDownload', 'name': 'Vol_6_1.pdf', 'fileFormat': 'application/pdf', 'contentSize': 6438140}]}}]}}\n"
     ]
    }
   ],
   "source": [
    "print(res2)"
   ]
  },
  {
   "cell_type": "code",
   "execution_count": 111,
   "id": "959aa8ac-3b74-4dd3-b038-d9fe810bfd44",
   "metadata": {},
   "outputs": [],
   "source": [
    "#es.indices.delete(index=\"testing\")\n"
   ]
  },
  {
   "cell_type": "markdown",
   "id": "2dae9b50-b969-418b-962c-b45a514e1801",
   "metadata": {},
   "source": [
    "---"
   ]
  }
 ],
 "metadata": {
  "kernelspec": {
   "display_name": "Python 3",
   "language": "python",
   "name": "python3"
  },
  "language_info": {
   "codemirror_mode": {
    "name": "ipython",
    "version": 3
   },
   "file_extension": ".py",
   "mimetype": "text/x-python",
   "name": "python",
   "nbconvert_exporter": "python",
   "pygments_lexer": "ipython3",
   "version": "3.9.6"
  }
 },
 "nbformat": 4,
 "nbformat_minor": 5
}
