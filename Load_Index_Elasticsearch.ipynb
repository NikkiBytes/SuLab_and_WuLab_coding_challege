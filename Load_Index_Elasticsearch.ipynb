{
 "cells": [
  {
   "cell_type": "markdown",
   "id": "b5758200",
   "metadata": {},
   "source": [
    "# Su Lab and Wu Lab Coding Challenge"
   ]
  },
  {
   "cell_type": "markdown",
   "id": "0e412c72-7288-40d5-95d4-cffb02ccee08",
   "metadata": {},
   "source": [
    "Invoke-RestMethod \"http://localhost:9200/harvard/_bulk?pretty\" -Method Post -ContentType 'application/x-ndjson' -InFile \"harvard_dataverse.json\"\n"
   ]
  },
  {
   "cell_type": "code",
   "execution_count": 1,
   "id": "c84f7e08",
   "metadata": {},
   "outputs": [],
   "source": [
    "from elasticsearch import Elasticsearch, helpers\n",
    "import sys, json\n",
    "from time import sleep\n",
    "from datetime import datetime\n"
   ]
  },
  {
   "cell_type": "markdown",
   "id": "0ff44d06-6828-4f67-8b85-823a3bfd2143",
   "metadata": {},
   "source": [
    "## Step 1.  Load and index json into ES"
   ]
  },
  {
   "cell_type": "code",
   "execution_count": 2,
   "id": "59d6aaf3",
   "metadata": {},
   "outputs": [],
   "source": [
    "# Elastic search configuation\n",
    "\n",
    "es = Elasticsearch(HOST=\"http://localhost\", PORT=9200)\n",
    "#es = Elasticsearch()"
   ]
  },
  {
   "cell_type": "code",
   "execution_count": 43,
   "id": "d2f431da-da31-4095-85b4-c3938c5db718",
   "metadata": {},
   "outputs": [
    {
     "data": {
      "text/plain": [
       "{'took': 0,\n",
       " 'timed_out': False,\n",
       " '_shards': {'total': 1, 'successful': 1, 'skipped': 0, 'failed': 0},\n",
       " 'hits': {'total': {'value': 0, 'relation': 'eq'},\n",
       "  'max_score': None,\n",
       "  'hits': []}}"
      ]
     },
     "execution_count": 43,
     "metadata": {},
     "output_type": "execute_result"
    }
   ],
   "source": [
    "es.search(index=\"harvardmetadata\", doc_type=\"_doc\",\n",
    "          body={\"query\": {\"match\": { \"_all\":  \"https://doi.org/10.11588/data/0HJAJS\" }}})"
   ]
  },
  {
   "cell_type": "code",
   "execution_count": 4,
   "id": "3ae751f3-bfeb-4c70-9f2b-cd2bfeb45bd5",
   "metadata": {},
   "outputs": [],
   "source": [
    "res=es.search(index=\"harvardmetadata\", doc_type=\"_doc\", body={\"query\": {\"match_all\":{}}})"
   ]
  },
  {
   "cell_type": "code",
   "execution_count": 5,
   "id": "a850d05b-8205-42ce-9593-bce4573fe990",
   "metadata": {},
   "outputs": [
    {
     "name": "stdout",
     "output_type": "stream",
     "text": [
      "{'took': 3, 'timed_out': False, '_shards': {'total': 1, 'successful': 1, 'skipped': 0, 'failed': 0}, 'hits': {'total': {'value': 200, 'relation': 'eq'}, 'max_score': 1.0, 'hits': [{'_index': 'harvardmetadata', '_type': '_doc', '_id': 'Q0dG5XoBaJNIpUtKf-BB', '_score': 1.0, '_source': {'@timestamp': '2019-02-05T00:00:00.000-05:00', 'field': '\"datePublished\"', 'message': '        \"datePublished\": \"2019-02-05\",'}}, {'_index': 'harvardmetadata', '_type': '_doc', '_id': 'REdG5XoBaJNIpUtKf-BB', '_score': 1.0, '_source': {'@timestamp': '2019-06-28T00:00:00.000-04:00', 'field': '\"dateModified\"', 'message': '        \"dateModified\": \"2019-06-28\",\\r\\n        \"version\": \"2\",\\r\\n        \"description\": [\\r\\n            \"Diese Datenpublikation entstammt dem Teilprojekt C05 (\\\\u00bbInschriftlichkeit. Reflexionen materialer Textkultur in der Literatur des 12. bis 17. Jahrhunderts\\\\u00ab) des Sonderforschungsbereichs 933 (\\\\u00bbMateriale Textkulturen\\\\u00ab). Im Rahmen des Teilprojekts werden erz\\\\u00e4hlte Inschriften in der mittelalterlichen Literatur gesammelt und auf einer Website \\\\u00f6ffentlich zug\\\\u00e4nglich gemacht. Diese Datenpublikation enth\\\\u00e4lt den Datensatz, auf dem diese Website beruht. Das Projekt ist noch nicht abgeschlossen. Als Inschrift z\\\\u00e4hlt Geschriebenes, das a) nicht zu den g\\\\u00e4ngigen Formen von Schriftlichkeit geh\\\\u00f6rt (also nicht mit \\\\u00fcblichen Hilfsmitteln auf Pergament und Papier geschrieben ist) und/oder Geschriebenes, b) bei dem von einer intensiven Verbindung von Inhalt und Schrifttr\\\\u00e4ger auszugehen ist. Der Ausgangspunkt der Sammlung sind deutschsprachige erz\\\\u00e4hlte Inschriften vor 1700. Seit der zweiten Projektphase werden zudem verst\\\\u00e4rkt erz\\\\u00e4hlte Inschriften im Altnordischen, Alt- und Mittelenglischen sowie im Mittellateinischen gesammelt. F\\\\u00fcr eine dritte Projektphase ist eine ausf\\\\u00fchrlichere Sammlung von mittellateinischen und altfranz\\\\u00f6sischen Textstellen geplant. Belege aus der altfranz\\\\u00f6sischen und mittellateinischen Literatur sind in der Datenpublikation bisher nur exemplarisch verzeichnet. Demgegen\\\\u00fcber d\\\\u00fcrften die Belege f\\\\u00fcr die englische und skandinavische Literatur des Mittelalters recht vollst\\\\u00e4ndig sein. Ebenfalls recht vollst\\\\u00e4ndig abgedeckt ist die deutschsprachige h\\\\u00f6fische Literatur des 12.-14. Jahrhunderts. Der Bereich der geistlichen und historiographischen deutschsprachigen Literatur wurde nicht systematisch durchgesehen. Gesammelt wurden die Daten vom Projektleiter (Ludger Lieb), von den ProjektmitarbeiterInnen (Frank Krabbes, Astrid Lembke, Michael R. Ott, Laura Velte), den studentischen Hilfskr\\\\u00e4ften des Teilprojekts sowie von zwei Gastwissenschaftlerinnen: Katja Schulz (Altnordisch) und Christine Neufeld (Alt- und Mittelenglisch).\"\\r\\n        ],\\r\\n        \"keywords\": [\\r\\n            \"Arts and Humanities\",\\r\\n            \"Literatur\",\\r\\n            \"Mittelalter\",\\r\\n            \"Inschrift\",\\r\\n            \"Materialit\\\\u00e4t\",\\r\\n            \"Althochdeutsch\",\\r\\n            \"Mittelhochdeutsch\",\\r\\n            \"Altnordisch\",\\r\\n            \"Altenglisch\",\\r\\n            \"Mittelenglisch\",\\r\\n            \"Altfranz\\\\u00f6sisch\",\\r\\n            \"Mittellatein\"\\r\\n        ],\\r\\n        \"citation\": [\\r\\n            {\\r\\n                \"@type\": \"CreativeWork\",\\r\\n                \"text\": \"Ludger Lieb: Spuren materialer Textkulturen. Neun Thesen zur h\\\\u00f6fischen Textualit\\\\u00e4t im Spiegel text\\\\u00adimmanenter Inschriften. In: Beate Kellner, Ludger Lieb und Stephan M\\\\u00fcller (Hrsg.): H\\\\u00f6fische Textualit\\\\u00e4t. Festschrift f\\\\u00fcr Peter Strohschneider. (GRM-Beiheft 69) Heidelberg 2015, S. 1-20.\"\\r\\n            }\\r\\n        ],\\r\\n        \"license\": {\\r\\n            \"@type\": \"Dataset\",\\r\\n            \"text\": \"Licensed under a <a href=\\'http://creativecommons.org/licenses/by/4.0/\\'>Creative Commons Attribution 4.0 International License. &#160;<img src=\\'https://i.creativecommons.org/l/by/4.0/80x15.png\\' alt=\\'CC by\\' /></a>\"\\r\\n        },\\r\\n        \"includedInDataCatalog\": {\\r\\n            \"@type\": \"DataCatalog\",\\r\\n            \"name\": \"heiDATA\",\\r\\n            \"url\": \"https://heidata.uni-heidelberg.de\"\\r\\n        },\\r\\n        \"publisher\": {\\r\\n            \"@type\": \"Organization\",\\r\\n            \"name\": \"heiDATA\"\\r\\n        },\\r\\n        \"provider\": {\\r\\n            \"@type\": \"Organization\",\\r\\n            \"name\": \"heiDATA\"\\r\\n        },\\r\\n        \"funder\": [\\r\\n            {\\r\\n                \"@type\": \"Organization\",\\r\\n                \"name\": \"Deutsche Forschungsgemeinschaft\"\\r\\n            }\\r\\n        ],\\r\\n        \"distribution\": [\\r\\n            {\\r\\n                \"@type\": \"DataDownload\",\\r\\n                \"name\": \"sfb933_c05_erzaehlte_inschriften_20190626.csv\",\\r\\n                \"fileFormat\": \"text/csv\",\\r\\n                \"contentSize\": 1613163,\\r\\n                \"@id\": \"https://doi.org/10.11588/data/0HJAJS/IELTOH\",\\r\\n                \"identifier\": \"https://doi.org/10.11588/data/0HJAJS/IELTOH\"\\r\\n            },\\r\\n            {\\r\\n                \"@type\": \"DataDownload\",\\r\\n                \"name\": \"sfb933_c05_erzaehlte_inschriften_beschreibung.tab\",\\r\\n                \"fileFormat\": \"text/tab-separated-values\",\\r\\n                \"contentSize\": 2724,\\r\\n                \"@id\": \"https://doi.org/10.11588/data/0HJAJS/K6EFZY\",\\r\\n                \"identifier\": \"https://doi.org/10.11588/data/0HJAJS/K6EFZY\"\\r\\n            }\\r\\n        ]\\r\\n    },\\r\\n    {\\r\\n        \"@context\": \"http://schema.org\",\\r\\n        \"@type\": \"Dataset\",\\r\\n        \"@id\": \"https://doi.org/10.11588/data/0HJW2A\",\\r\\n        \"identifier\": \"https://doi.org/10.11588/data/0HJW2A\",\\r\\n        \"name\": \"Distance from a Distance: The Robustness of Psychological Distance Effects [Dataset]\",\\r\\n        \"creator\": [\\r\\n            {\\r\\n                \"name\": \"Trautmann, Stefan T.\",\\r\\n                \"affiliation\": \"Alfred-Weber-Institute for Economics, Heidelberg University\"\\r\\n            }\\r\\n        ],\\r\\n        \"author\": [\\r\\n            {\\r\\n                \"name\": \"Trautmann, Stefan T.\",\\r\\n                \"affiliation\": \"Alfred-Weber-Institute for Economics, Heidelberg University\"\\r\\n            }\\r\\n        ],'}}, {'_index': 'harvardmetadata', '_type': '_doc', '_id': 'RUdG5XoBaJNIpUtKf-BB', '_score': 1.0, '_source': {'@timestamp': '2019-01-29T00:00:00.000-05:00', 'field': '\"datePublished\"', 'message': '        \"datePublished\": \"2019-01-29\",'}}, {'_index': 'harvardmetadata', '_type': '_doc', '_id': 'RkdG5XoBaJNIpUtKf-BB', '_score': 1.0, '_source': {'@timestamp': '2019-01-29T00:00:00.000-05:00', 'field': '\"dateModified\"', 'message': '        \"dateModified\": \"2019-01-29\",\\r\\n        \"version\": \"1\",\\r\\n        \"description\": [\\r\\n            \"Psychological distance effects have attracted the attention of behavioral economists in the context of descriptive modeling and behavioral policy. Indeed, psychological distance effects have been shown for an increasing number of domains and applications relevant to economic decision making. The current paper questions whether these effects are robust enough for economists to apply them to relevant policy questions. We demonstrate systematic replication failures for the distance-from-a-distance effect shown by Maglio et al. (2013, Journal of Experimental Psychology: General), and relate them to theoretical arguments suggesting that psychological distance theories are currently too poorly specified to make predictions that are precise enough for economic analyses.\"\\r\\n        ],\\r\\n        \"keywords\": [\\r\\n            \"Social Sciences\",\\r\\n            \"construal level theory\",\\r\\n            \"replication\",\\r\\n            \"risk\",\\r\\n            \"psychological distance\"\\r\\n        ],\\r\\n        \"citation\": [\\r\\n            {\\r\\n                \"@type\": \"CreativeWork\",\\r\\n                \"text\": \"Stefan T. Trautmann: Distance from a Distance: The Robustness of Psychological Distance Effects (forthcoming)\"\\r\\n            }\\r\\n        ],\\r\\n        \"license\": {\\r\\n            \"@type\": \"Dataset\",\\r\\n            \"text\": \"Licensed under a <a href=\\'http://creativecommons.org/licenses/by/4.0/\\'>Creative Commons Attribution 4.0 International License. &#160;<img src=\\'https://i.creativecommons.org/l/by/4.0/80x15.png\\' alt=\\'CC by\\' /></a>\"\\r\\n        },\\r\\n        \"includedInDataCatalog\": {\\r\\n            \"@type\": \"DataCatalog\",\\r\\n            \"name\": \"heiDATA\",\\r\\n            \"url\": \"https://heidata.uni-heidelberg.de\"\\r\\n        },\\r\\n        \"publisher\": {\\r\\n            \"@type\": \"Organization\",\\r\\n            \"name\": \"heiDATA\"\\r\\n        },\\r\\n        \"provider\": {\\r\\n            \"@type\": \"Organization\",\\r\\n            \"name\": \"heiDATA\"\\r\\n        },\\r\\n        \"spatialCoverage\": [\\r\\n            \"Netherlands\"\\r\\n        ],\\r\\n        \"distribution\": [\\r\\n            {\\r\\n                \"@type\": \"DataDownload\",\\r\\n                \"name\": \"experiment1_raw.tab\",\\r\\n                \"fileFormat\": \"text/tab-separated-values\",\\r\\n                \"contentSize\": 5778,\\r\\n                \"description\": \"experiment 1\",\\r\\n                \"@id\": \"https://doi.org/10.11588/data/0HJW2A/LTJZAU\",\\r\\n                \"identifier\": \"https://doi.org/10.11588/data/0HJW2A/LTJZAU\"\\r\\n            },\\r\\n            {\\r\\n                \"@type\": \"DataDownload\",\\r\\n                \"name\": \"experiment1_stata_data.tab\",\\r\\n                \"fileFormat\": \"text/tab-separated-values\",\\r\\n                \"contentSize\": 4386,\\r\\n                \"description\": \"experiment 1\",\\r\\n                \"@id\": \"https://doi.org/10.11588/data/0HJW2A/LFCU8I\",\\r\\n                \"identifier\": \"https://doi.org/10.11588/data/0HJW2A/LFCU8I\"\\r\\n            },\\r\\n            {\\r\\n                \"@type\": \"DataDownload\",\\r\\n                \"name\": \"experiment1_stata_do.do\",\\r\\n                \"fileFormat\": \"application/x-stata-syntax\",\\r\\n                \"contentSize\": 220,\\r\\n                \"description\": \"experiment 1\",\\r\\n                \"@id\": \"https://doi.org/10.11588/data/0HJW2A/KVQ7BE\",\\r\\n                \"identifier\": \"https://doi.org/10.11588/data/0HJW2A/KVQ7BE\"\\r\\n            },\\r\\n            {\\r\\n                \"@type\": \"DataDownload\",\\r\\n                \"name\": \"experiment2_raw.tab\",\\r\\n                \"fileFormat\": \"text/tab-separated-values\",\\r\\n                \"contentSize\": 2808,\\r\\n                \"description\": \"experiment 2\",\\r\\n                \"@id\": \"https://doi.org/10.11588/data/0HJW2A/LY0ZOZ\",\\r\\n                \"identifier\": \"https://doi.org/10.11588/data/0HJW2A/LY0ZOZ\"\\r\\n            },\\r\\n            {\\r\\n                \"@type\": \"DataDownload\",\\r\\n                \"name\": \"experiment2_stata_data.tab\",\\r\\n                \"fileFormat\": \"text/tab-separated-values\",\\r\\n                \"contentSize\": 1492,\\r\\n                \"description\": \"experiment 2\",\\r\\n                \"@id\": \"https://doi.org/10.11588/data/0HJW2A/UFRHQN\",\\r\\n                \"identifier\": \"https://doi.org/10.11588/data/0HJW2A/UFRHQN\"\\r\\n            },\\r\\n            {\\r\\n                \"@type\": \"DataDownload\",\\r\\n                \"name\": \"experiment2_stata_do.do\",\\r\\n                \"fileFormat\": \"application/x-stata-syntax\",\\r\\n                \"contentSize\": 406,\\r\\n                \"description\": \"experiment 2\",\\r\\n                \"@id\": \"https://doi.org/10.11588/data/0HJW2A/DG7PZB\",\\r\\n                \"identifier\": \"https://doi.org/10.11588/data/0HJW2A/DG7PZB\"\\r\\n            },\\r\\n            {\\r\\n                \"@type\": \"DataDownload\",\\r\\n                \"name\": \"experiment3_raw.tab\",\\r\\n                \"fileFormat\": \"text/tab-separated-values\",\\r\\n                \"contentSize\": 8483,\\r\\n                \"description\": \"experiment 3\",\\r\\n                \"@id\": \"https://doi.org/10.11588/data/0HJW2A/IUXIQE\",\\r\\n                \"identifier\": \"https://doi.org/10.11588/data/0HJW2A/IUXIQE\"\\r\\n            },\\r\\n            {\\r\\n                \"@type\": \"DataDownload\",\\r\\n                \"name\": \"experiment3_stata_data.tab\",\\r\\n                \"fileFormat\": \"text/tab-separated-values\",\\r\\n                \"contentSize\": 4577,\\r\\n                \"description\": \"experiment 3\",\\r\\n                \"@id\": \"https://doi.org/10.11588/data/0HJW2A/0CVA5J\",\\r\\n                \"identifier\": \"https://doi.org/10.11588/data/0HJW2A/0CVA5J\"\\r\\n            },\\r\\n            {\\r\\n                \"@type\": \"DataDownload\",\\r\\n                \"name\": \"experiment3_stata_do.do\",\\r\\n                \"fileFormat\": \"application/x-stata-syntax\",\\r\\n                \"contentSize\": 357,\\r\\n                \"description\": \"experiment 3\",\\r\\n                \"@id\": \"https://doi.org/10.11588/data/0HJW2A/XDARH9\",\\r\\n                \"identifier\": \"https://doi.org/10.11588/data/0HJW2A/XDARH9\"\\r\\n            },\\r\\n            {\\r\\n                \"@type\": \"DataDownload\",\\r\\n                \"name\": \"experiment4_instructions_dutch.docx\",\\r\\n                \"fileFormat\": \"application/vnd.openxmlformats-officedocument.wordprocessingml.document\",\\r\\n                \"contentSize\": 14064,\\r\\n                \"description\": \"experiment 4\",\\r\\n                \"@id\": \"https://doi.org/10.11588/data/0HJW2A/4GV60R\",\\r\\n                \"identifier\": \"https://doi.org/10.11588/data/0HJW2A/4GV60R\"\\r\\n            },\\r\\n            {\\r\\n                \"@type\": \"DataDownload\",\\r\\n                \"name\": \"experiment4_stata_data.tab\",\\r\\n                \"fileFormat\": \"text/tab-separated-values\",\\r\\n                \"contentSize\": 5950,\\r\\n                \"description\": \"experiment 4\",\\r\\n                \"@id\": \"https://doi.org/10.11588/data/0HJW2A/IXSKHQ\",\\r\\n                \"identifier\": \"https://doi.org/10.11588/data/0HJW2A/IXSKHQ\"\\r\\n            },\\r\\n            {\\r\\n                \"@type\": \"DataDownload\",\\r\\n                \"name\": \"experiment4_stata_do.do\",\\r\\n                \"fileFormat\": \"application/x-stata-syntax\",\\r\\n                \"contentSize\": 751,\\r\\n                \"description\": \"experiment 4\",\\r\\n                \"@id\": \"https://doi.org/10.11588/data/0HJW2A/OHXGFS\",\\r\\n                \"identifier\": \"https://doi.org/10.11588/data/0HJW2A/OHXGFS\"\\r\\n            }\\r\\n        ]\\r\\n    },\\r\\n    {\\r\\n        \"@context\": \"http://schema.org\",\\r\\n        \"@type\": \"Dataset\",\\r\\n        \"@id\": \"https://doi.org/10.11588/data/0Z7H1X\",\\r\\n        \"identifier\": \"https://doi.org/10.11588/data/0Z7H1X\",\\r\\n        \"name\": \"Robust logistic regression to narrow down the winner\\'s curse for rare and recessive susceptibility variants [Source Code]\",\\r\\n        \"creator\": [\\r\\n            {\\r\\n                \"name\": \"Kesselmeier, Miriam\",\\r\\n                \"affiliation\": \"Institute of Medical Biometry and Informatics, University Hospital Heidelberg, Heidelberg, Germany and Clinical Epidemiology, Center for Sepsis Control and Care (CSCC), Jena University Hospital, Jena, Germany\"\\r\\n            },\\r\\n            {\\r\\n                \"name\": \"Lorenzo Bermejo, Justo\",\\r\\n                \"affiliation\": \"Institute of Medical Biometry and Informatics, University of Heidelberg, Heidelberg, Germany\"\\r\\n            }\\r\\n        ],\\r\\n        \"author\": [\\r\\n            {\\r\\n                \"name\": \"Kesselmeier, Miriam\",\\r\\n                \"affiliation\": \"Institute of Medical Biometry and Informatics, University Hospital Heidelberg, Heidelberg, Germany and Clinical Epidemiology, Center for Sepsis Control and Care (CSCC), Jena University Hospital, Jena, Germany\"\\r\\n            },\\r\\n            {\\r\\n                \"name\": \"Lorenzo Bermejo, Justo\",\\r\\n                \"affiliation\": \"Institute of Medical Biometry and Informatics, University of Heidelberg, Heidelberg, Germany\"\\r\\n            }\\r\\n        ],'}}, {'_index': 'harvardmetadata', '_type': '_doc', '_id': 'R0dG5XoBaJNIpUtKf-BB', '_score': 1.0, '_source': {'@timestamp': '2018-10-15T00:00:00.000-04:00', 'field': '\"datePublished\"', 'message': '        \"datePublished\": \"2018-10-15\",'}}, {'_index': 'harvardmetadata', '_type': '_doc', '_id': 'SEdG5XoBaJNIpUtKf-BB', '_score': 1.0, '_source': {'@timestamp': '2018-10-15T00:00:00.000-04:00', 'field': '\"dateModified\"', 'message': '        \"dateModified\": \"2018-10-15\",\\r\\n        \"version\": \"1\",\\r\\n        \"description\": [\\r\\n            \"Logistic regression is the most common technique used for genetic case-control association studies. A disadvantage of standard maximum likelihood estimators of the genotype relative risk (GRR) is their strong dependence on outlier subjects, for example, patients diagnosed at unusually young age. Robust methods are available to constrain outlier influence, but they are scarcely used in genetic studies. This article provides a non-intimidating introduction to robust logistic regression, and investigates its benefits and limitations in genetic association studies. We applied the bounded Huber and extended the R package \\\\u2018robustbase\\\\u2019 with the re-descending Hampel functions to down-weight outlier influence. Computer simulations were carried out to assess the type I error rate, mean squared error (MSE) and statistical power according to major characteristics of the genetic study and investigated markers. Simulations were complemented with the analysis of real data. Both standard and robust estimation controlled type I error rates. Standard logistic regression showed the highest power but standard GRR estimates also showed the largest bias and MSE, in particular for associated rare and recessive variants. For illustration, a recessive variant with a true GRR=6.32 and a minor allele frequency=0.05 investigated in a 1000 case/1000 control study by standard logistic regression resulted in power=0.60 and MSE=16.5. The corresponding figures for Huber-based estimation were power=0.51 and MSE=0.53. Overall, Hampel- and Huber-based GRR estimates did not differ much. Robust logistic regression may represent a valuable alternative to standard maximum likelihood estimation when the focus lies on risk prediction rather than identification of susceptibility variants.\"\\r\\n        ],\\r\\n        \"keywords\": [\\r\\n            \"Medicine, Health and Life Sciences\",\\r\\n            \"robust logistic regression\",\\r\\n            \"re-descending Hampel function\",\\r\\n            \"winner\\\\u2019s curse\",\\r\\n            \"genetic association study\"\\r\\n        ],\\r\\n        \"citation\": [\\r\\n            {\\r\\n                \"@type\": \"CreativeWork\",\\r\\n                \"text\": \"Miriam Kesselmeier, Justo Lorenzo Bermejo; Robust logistic regression to narrow down the winner\\\\u2019s curse for rare and recessive susceptibility variants, Briefings in Bioinformatics, Volume 18, Issue 6, 1 November 2017, Pages 962\\\\u2013972\",\\r\\n                \"@id\": \"https://doi.org/10.1093/bib/bbw074\",\\r\\n                \"identifier\": \"https://doi.org/10.1093/bib/bbw074\"\\r\\n            }\\r\\n        ],\\r\\n        \"license\": {\\r\\n            \"@type\": \"Dataset\",\\r\\n            \"text\": \"Source code is licensed under <a href=\\\\\"https://www.gnu.org/licenses/gpl-3.0.en.html\\\\\">General Public License v3 (GPL v3)</a>.\"\\r\\n        },\\r\\n        \"includedInDataCatalog\": {\\r\\n            \"@type\": \"DataCatalog\",\\r\\n            \"name\": \"heiDATA\",\\r\\n            \"url\": \"https://heidata.uni-heidelberg.de\"\\r\\n        },\\r\\n        \"publisher\": {\\r\\n            \"@type\": \"Organization\",\\r\\n            \"name\": \"heiDATA\"\\r\\n        },\\r\\n        \"provider\": {\\r\\n            \"@type\": \"Organization\",\\r\\n            \"name\": \"heiDATA\"\\r\\n        },\\r\\n        \"distribution\": [\\r\\n            {\\r\\n                \"@type\": \"DataDownload\",\\r\\n                \"name\": \"Robust logistic regression to narrow down Supplement_3.docx\",\\r\\n                \"fileFormat\": \"application/vnd.openxmlformats-officedocument.wordprocessingml.document\",\\r\\n                \"contentSize\": 90535\\r\\n            },\\r\\n            {\\r\\n                \"@type\": \"DataDownload\",\\r\\n                \"name\": \"Source_Code_Robust_Logistic_Regression_to_Narrow_Down_the_Winners_Curse.pdf\",\\r\\n                \"fileFormat\": \"application/pdf\",\\r\\n                \"contentSize\": 119598\\r\\n            }\\r\\n        ]\\r\\n    },\\r\\n    {\\r\\n        \"@context\": \"http://schema.org\",\\r\\n        \"@type\": \"Dataset\",\\r\\n        \"@id\": \"https://doi.org/10.11588/data/10000\",\\r\\n        \"identifier\": \"https://doi.org/10.11588/data/10000\",\\r\\n        \"name\": \"Seal of the University of Heidelberg - Siegel UAH SG 5\",\\r\\n        \"creator\": [\\r\\n            {\\r\\n                \"name\": \"Kr\\\\u00f6mker, Susanne\",\\r\\n                \"affiliation\": \"Interdisciplinary Center for Scientific Computing (IWR)\"\\r\\n            },\\r\\n            {\\r\\n                \"name\": \"Mara, Hubert\",\\r\\n                \"affiliation\": \"Interdisciplinary Center for Scientific Computing (IWR)\"\\r\\n            }\\r\\n        ],\\r\\n        \"author\": [\\r\\n            {\\r\\n                \"name\": \"Kr\\\\u00f6mker, Susanne\",\\r\\n                \"affiliation\": \"Interdisciplinary Center for Scientific Computing (IWR)\"\\r\\n            },\\r\\n            {\\r\\n                \"name\": \"Mara, Hubert\",\\r\\n                \"affiliation\": \"Interdisciplinary Center for Scientific Computing (IWR)\"\\r\\n            }\\r\\n        ],'}}, {'_index': 'harvardmetadata', '_type': '_doc', '_id': 'SUdG5XoBaJNIpUtKf-BB', '_score': 1.0, '_source': {'@timestamp': '2015-04-02T00:00:00.000-04:00', 'field': '\"datePublished\"', 'message': '        \"datePublished\": \"2015-04-02\",'}}, {'_index': 'harvardmetadata', '_type': '_doc', '_id': 'SkdG5XoBaJNIpUtKf-BB', '_score': 1.0, '_source': {'@timestamp': '2017-04-06T00:00:00.000-04:00', 'field': '\"dateModified\"', 'message': '        \"dateModified\": \"2017-04-06\",\\r\\n        \"version\": \"1\",\\r\\n        \"description\": [\\r\\n            \"Capturing the Heidelberg University\\'s sealings with a 3D-scanner provides new visualizations and virtual restoration possibilities for the partially preserved damaged objects. High-resolution 3D-models are analyzed due to their surface features, which cannot be documented with photography.\"\\r\\n        ],\\r\\n        \"keywords\": [\\r\\n            \"Computer and Information Science\",\\r\\n            \"Mathematical Sciences\"\\r\\n        ],\\r\\n        \"citation\": [\\r\\n            {\\r\\n                \"@type\": \"CreativeWork\",\\r\\n                \"text\": \"Mara, Hubert: Multi-Scale Integral Invariants for Robust Character Extraction from Irregular Polygon Mesh Data, PhD thesis, Institution: Heidelberg University, IWR \\\\u2013 Interdisciplinary Center for Scientific Computing, Advisers: Willi J\\\\u00e4ger and Hans Georg Bock, Heidelberg, Germany, 2012\",\\r\\n                \"@id\": \"http://www.ub.uni-heidelberg.de/archiv/13890\",\\r\\n                \"identifier\": \"http://www.ub.uni-heidelberg.de/archiv/13890\"\\r\\n            },\\r\\n            {\\r\\n                \"@type\": \"CreativeWork\",\\r\\n                \"text\": \"Mara, Hubert: Multi-Scale Integral Invariants for Robust Character Extraction from Irregular Polygon Mesh Data, PhD thesis, Institution: Heidelberg University, IWR \\\\u2013 Interdisciplinary Center for Scientific Computing, Advisers: Willi J\\\\u00e4ger and Hans Georg Bock, Heidelberg, Germany, 2012\",\\r\\n                \"@id\": \"http://www.ub.uni-heidelberg.de/archiv/13890\",\\r\\n                \"identifier\": \"http://www.ub.uni-heidelberg.de/archiv/13890\"\\r\\n            },\\r\\n            {\\r\\n                \"@type\": \"CreativeWork\",\\r\\n                \"text\": \"Mara, Hubert; Kr\\\\u00f6mker, Susanne; Jakob, Stefan; Breuckmann Bernd: GigaMesh and Gilgamesh - 3D Multiscale Integral Invariant Cuneiform Character Extraction, Proc. VAST Int. Symposium on Virtual Reality, Archaeology and Cultural Heritage, pp. 131-138 Palais du Louvre, Paris, France, 2010\",\\r\\n                \"@id\": \"http://dx.doi.org/10.2312/VAST/VAST10/131-138\",\\r\\n                \"identifier\": \"http://dx.doi.org/10.2312/VAST/VAST10/131-138\"\\r\\n            }\\r\\n        ],\\r\\n        \"temporalCoverage\": [\\r\\n            \"1386/1400\"\\r\\n        ],\\r\\n        \"license\": {\\r\\n            \"@type\": \"Dataset\",\\r\\n            \"text\": \"Licensed under a <a href=\\'http://creativecommons.org/licenses/by-sa/4.0/\\'>Creative Commons Attribution-ShareAlike 4.0 International License. &#160;<img src=\\'https://i.creativecommons.org/l/by-sa/4.0/80x15.png\\' alt=\\'CC by sa\\' /></a>\"\\r\\n        },\\r\\n        \"includedInDataCatalog\": {\\r\\n            \"@type\": \"DataCatalog\",\\r\\n            \"name\": \"heiDATA\",\\r\\n            \"url\": \"https://heidata.uni-heidelberg.de\"\\r\\n        },\\r\\n        \"publisher\": {\\r\\n            \"@type\": \"Organization\",\\r\\n            \"name\": \"heiDATA\"\\r\\n        },\\r\\n        \"provider\": {\\r\\n            \"@type\": \"Organization\",\\r\\n            \"name\": \"heiDATA\"\\r\\n        },\\r\\n        \"spatialCoverage\": [\\r\\n            \"Germany\",\\r\\n            \"Heidelberg\"\\r\\n        ],\\r\\n        \"distribution\": [\\r\\n            {\\r\\n                \"@type\": \"DataDownload\",\\r\\n                \"name\": \"UAH_SG_5_Rueckseite_Uniarchiv_HE2066-60_300514_merged_GMOCFP_r1.50_n4_v256_FTMan.png\",\\r\\n                \"fileFormat\": \"image/png\",\\r\\n                \"contentSize\": 3445267,\\r\\n                \"description\": \"\"\\r\\n            },\\r\\n            {\\r\\n                \"@type\": \"DataDownload\",\\r\\n                \"name\": \"Unisiegel_UAH_SG_5_Rueckseite_Uniarchiv_HE2066-60_300514_merged_GMOCFP_r1.50_n4_v256.png\",\\r\\n                \"fileFormat\": \"image/png\",\\r\\n                \"contentSize\": 3526049,\\r\\n                \"description\": \"\"\\r\\n            },\\r\\n            {\\r\\n                \"@type\": \"DataDownload\",\\r\\n                \"name\": \"Unisiegel_UAH_SG_5_Uniarchiv5_HE2066-60_300514_GMOCFP_r1.50_n4_v256_FTMan.png\",\\r\\n                \"fileFormat\": \"image/png\",\\r\\n                \"contentSize\": 5400020,\\r\\n                \"description\": \"\"\\r\\n            },\\r\\n            {\\r\\n                \"@type\": \"DataDownload\",\\r\\n                \"name\": \"Unisiegel_UAH_SG_5_Uniarchiv5_HE2066-60_300514_GMOCFP_r1.50_n4_v256.png\",\\r\\n                \"fileFormat\": \"image/png\",\\r\\n                \"contentSize\": 7455881,\\r\\n                \"description\": \"\"\\r\\n            },\\r\\n            {\\r\\n                \"@type\": \"DataDownload\",\\r\\n                \"name\": \"Unisiegel_UAH_SG_5.zip\",\\r\\n                \"fileFormat\": \"application/zip\",\\r\\n                \"contentSize\": 359486193,\\r\\n                \"description\": \"\"\\r\\n            }\\r\\n        ]\\r\\n    },\\r\\n    {\\r\\n        \"@context\": \"http://schema.org\",\\r\\n        \"@type\": \"Dataset\",\\r\\n        \"@id\": \"https://doi.org/10.11588/data/10001\",\\r\\n        \"identifier\": \"https://doi.org/10.11588/data/10001\",\\r\\n        \"name\": \"BoostCLIR: JP-EN Relevance Marked Patent Corpus\",\\r\\n        \"creator\": [\\r\\n            {\\r\\n                \"name\": \"Sokolov, Artem\",\\r\\n                \"affiliation\": \"Department of Computational Linguistics\"\\r\\n            },\\r\\n            {\\r\\n                \"name\": \"Jehl Laura\",\\r\\n                \"affiliation\": \"Department of Computational Linguistics\"\\r\\n            },\\r\\n            {\\r\\n                \"name\": \"Hieber Felix\",\\r\\n                \"affiliation\": \"Department of Computational Linguistics\"\\r\\n            },\\r\\n            {\\r\\n                \"name\": \"Ruppert, Eugen\",\\r\\n                \"affiliation\": \"Department of Computational Linguistics\"\\r\\n            },\\r\\n            {\\r\\n                \"name\": \"Riezler, Stefan\",\\r\\n                \"affiliation\": \"Department of Computational Linguistics\"\\r\\n            }\\r\\n        ],\\r\\n        \"author\": [\\r\\n            {\\r\\n                \"name\": \"Sokolov, Artem\",\\r\\n                \"affiliation\": \"Department of Computational Linguistics\"\\r\\n            },\\r\\n            {\\r\\n                \"name\": \"Jehl Laura\",\\r\\n                \"affiliation\": \"Department of Computational Linguistics\"\\r\\n            },\\r\\n            {\\r\\n                \"name\": \"Hieber Felix\",\\r\\n                \"affiliation\": \"Department of Computational Linguistics\"\\r\\n            },\\r\\n            {\\r\\n                \"name\": \"Ruppert, Eugen\",\\r\\n                \"affiliation\": \"Department of Computational Linguistics\"\\r\\n            },\\r\\n            {\\r\\n                \"name\": \"Riezler, Stefan\",\\r\\n                \"affiliation\": \"Department of Computational Linguistics\"\\r\\n            }\\r\\n        ],'}}, {'_index': 'harvardmetadata', '_type': '_doc', '_id': 'S0dG5XoBaJNIpUtKf-BB', '_score': 1.0, '_source': {'@timestamp': '2014-06-16T00:00:00.000-04:00', 'field': '\"datePublished\"', 'message': '        \"datePublished\": \"2014-06-16\",'}}, {'_index': 'harvardmetadata', '_type': '_doc', '_id': 'TEdG5XoBaJNIpUtKf-BB', '_score': 1.0, '_source': {'@timestamp': '2017-04-05T00:00:00.000-04:00', 'field': '\"dateModified\"', 'message': '        \"dateModified\": \"2017-04-05\",\\r\\n        \"version\": \"1\",\\r\\n        \"description\": [\\r\\n            \"BoostCLIR is a bilingual (Japanese-English) corpus of patent abstracts, extracted from the MAREC patent data, and the data from the NTCIR PatentMT workshop collections, accompanied with relevance judgements for the task of patent prior-art search.  Important: The English side of the corpus contains patent IDs as well as the text of the abstracts. The Japanese side only contains patent IDs because of NTCIR copyright restrictions. The Jap anese patent abstracts can be extracted from full text Japanese patent documents, which are available from the organizers of the NTCIR workshop.  The corpus contains training, development and testing subsets sampled from non-intersecting time periods.  Relevance judgement for patent retrieval are constructed from patent citations by assigning three integer levels to three categories of relationships, with highest relevance (3) for family patents, lower relevance for patents cited in search reports by patent examiners (2), and lowest relevance level (1) for applicants\\\\u2019 citations.  For a detailed descrip tion of the corpus construction process, please see the above publication.\"\\r\\n        ],\\r\\n        \"keywords\": [\\r\\n            \"Computer and Information Science\"\\r\\n        ],\\r\\n        \"citation\": [\\r\\n            {\\r\\n                \"@type\": \"CreativeWork\",\\r\\n                \"text\": \"Artem Sokolov, Laura Jehl, Felix Hieber, Stefan Riezler. \\\\\"Boosting Cross-Language Retrieval by Learning Bilingual Phrase Associations from Relevance Rankings\\\\\". In Proceedings of the Conference on Empirical Methods in Natural Language Processing (EMNLP), Seattle, USA, 2013\",\\r\\n                \"@id\": \"http://aclweb.org/anthology//D/D13/D13-1175.pdf\",\\r\\n                \"identifier\": \"http://aclweb.org/anthology//D/D13/D13-1175.pdf\"\\r\\n            }\\r\\n        ],\\r\\n        \"license\": {\\r\\n            \"@type\": \"Dataset\",\\r\\n            \"text\": \"BoostCLIR is licensed under a <a href=\\'http://creativecommons.org/licenses/by-nc-sa/3.0/\\'>Creative Commons Attribution-NonCommercial-ShareAlike 3.0 Unported License. &#160;<img src=\\'https://i.creativecommons.org/l/by-nc-sa/3.0/80x15.png\\' alt=\\'CC by-nc-sa\\' /></a>\"\\r\\n        },\\r\\n        \"includedInDataCatalog\": {\\r\\n            \"@type\": \"DataCatalog\",\\r\\n            \"name\": \"heiDATA\",\\r\\n            \"url\": \"https://heidata.uni-heidelberg.de\"\\r\\n        },\\r\\n        \"publisher\": {\\r\\n            \"@type\": \"Organization\",\\r\\n            \"name\": \"heiDATA\"\\r\\n        },\\r\\n        \"provider\": {\\r\\n            \"@type\": \"Organization\",\\r\\n            \"name\": \"heiDATA\"\\r\\n        },\\r\\n        \"distribution\": [\\r\\n            {\\r\\n                \"@type\": \"DataDownload\",\\r\\n                \"name\": \"boostclir.tar.gz\",\\r\\n                \"fileFormat\": \"application/x-gzip\",\\r\\n                \"contentSize\": 253494564,\\r\\n                \"description\": \"data set\"\\r\\n            },\\r\\n            {\\r\\n                \"@type\": \"DataDownload\",\\r\\n                \"name\": \"README_BoostCLIR.txt\",\\r\\n                \"fileFormat\": \"text/plain; charset=US-ASCII\",\\r\\n                \"contentSize\": 1514,\\r\\n                \"description\": \"README\"\\r\\n            }\\r\\n        ]\\r\\n    },\\r\\n    {\\r\\n        \"@context\": \"http://schema.org\",\\r\\n        \"@type\": \"Dataset\",\\r\\n        \"@id\": \"https://doi.org/10.11588/data/10002\",\\r\\n        \"identifier\": \"https://doi.org/10.11588/data/10002\",\\r\\n        \"name\": \"PatTR: Patent Translation Resource\",\\r\\n        \"creator\": [\\r\\n            {\\r\\n                \"name\": \"W\\\\u00e4schle, Katharina\",\\r\\n                \"affiliation\": \"Department of Computational Linguistics\"\\r\\n            },\\r\\n            {\\r\\n                \"name\": \"Riezler, Stefan\",\\r\\n                \"affiliation\": \"Department of Computational Linguistics\"\\r\\n            }\\r\\n        ],\\r\\n        \"author\": [\\r\\n            {\\r\\n                \"name\": \"W\\\\u00e4schle, Katharina\",\\r\\n                \"affiliation\": \"Department of Computational Linguistics\"\\r\\n            },\\r\\n            {\\r\\n                \"name\": \"Riezler, Stefan\",\\r\\n                \"affiliation\": \"Department of Computational Linguistics\"\\r\\n            }\\r\\n        ],'}}]}}\n"
     ]
    }
   ],
   "source": [
    "print(res)"
   ]
  },
  {
   "cell_type": "code",
   "execution_count": 27,
   "id": "282cbb9c-7a38-4143-85d7-0af46db9deb1",
   "metadata": {},
   "outputs": [
    {
     "data": {
      "text/plain": [
       "'\"https://doi.org/10.11588/data/0HJAJS\"'"
      ]
     },
     "execution_count": 27,
     "metadata": {},
     "output_type": "execute_result"
    }
   ],
   "source": [
    "'\"https://doi.org/10.11588/data/0HJAJS\"'"
   ]
  },
  {
   "cell_type": "code",
   "execution_count": 5,
   "id": "2d86ab7a-09a0-43d2-b8a1-3a5e00f1c4fb",
   "metadata": {},
   "outputs": [],
   "source": [
    "file='harvard_dataverse.json'\n",
    "\n",
    "datafile=open(file, 'r').read()\n",
    "\n",
    "clear_data = datafile.splitlines(True)"
   ]
  },
  {
   "cell_type": "code",
   "execution_count": 11,
   "id": "e99c8982",
   "metadata": {
    "tags": []
   },
   "outputs": [
    {
     "name": "stdout",
     "output_type": "stream",
     "text": [
      "100\n"
     ]
    }
   ],
   "source": [
    "# Load file\n",
    "\n",
    "file='harvard_dataverse.json'\n",
    "\n",
    "with open(file, 'r', encoding='utf-8') as f:\n",
    "    data=json.loads(f.read())\n",
    "\n",
    "print(len(data))\n"
   ]
  },
  {
   "cell_type": "code",
   "execution_count": 12,
   "id": "4fae693d-3bdf-4ab1-a71f-1935f10bede0",
   "metadata": {},
   "outputs": [
    {
     "data": {
      "text/plain": [
       "{'@context': 'http://schema.org',\n",
       " '@type': 'Dataset',\n",
       " '@id': 'https://doi.org/10.11588/data/0HJW2A',\n",
       " 'identifier': 'https://doi.org/10.11588/data/0HJW2A',\n",
       " 'name': 'Distance from a Distance: The Robustness of Psychological Distance Effects [Dataset]',\n",
       " 'creator': [{'name': 'Trautmann, Stefan T.',\n",
       "   'affiliation': 'Alfred-Weber-Institute for Economics, Heidelberg University'}],\n",
       " 'author': [{'name': 'Trautmann, Stefan T.',\n",
       "   'affiliation': 'Alfred-Weber-Institute for Economics, Heidelberg University'}],\n",
       " 'datePublished': '2019-01-29',\n",
       " 'dateModified': '2019-01-29',\n",
       " 'version': '1',\n",
       " 'description': ['Psychological distance effects have attracted the attention of behavioral economists in the context of descriptive modeling and behavioral policy. Indeed, psychological distance effects have been shown for an increasing number of domains and applications relevant to economic decision making. The current paper questions whether these effects are robust enough for economists to apply them to relevant policy questions. We demonstrate systematic replication failures for the distance-from-a-distance effect shown by Maglio et al. (2013, Journal of Experimental Psychology: General), and relate them to theoretical arguments suggesting that psychological distance theories are currently too poorly specified to make predictions that are precise enough for economic analyses.'],\n",
       " 'keywords': ['Social Sciences',\n",
       "  'construal level theory',\n",
       "  'replication',\n",
       "  'risk',\n",
       "  'psychological distance'],\n",
       " 'citation': [{'@type': 'CreativeWork',\n",
       "   'text': 'Stefan T. Trautmann: Distance from a Distance: The Robustness of Psychological Distance Effects (forthcoming)'}],\n",
       " 'license': {'@type': 'Dataset',\n",
       "  'text': \"Licensed under a <a href='http://creativecommons.org/licenses/by/4.0/'>Creative Commons Attribution 4.0 International License. &#160;<img src='https://i.creativecommons.org/l/by/4.0/80x15.png' alt='CC by' /></a>\"},\n",
       " 'includedInDataCatalog': {'@type': 'DataCatalog',\n",
       "  'name': 'heiDATA',\n",
       "  'url': 'https://heidata.uni-heidelberg.de'},\n",
       " 'publisher': {'@type': 'Organization', 'name': 'heiDATA'},\n",
       " 'provider': {'@type': 'Organization', 'name': 'heiDATA'},\n",
       " 'spatialCoverage': ['Netherlands'],\n",
       " 'distribution': [{'@type': 'DataDownload',\n",
       "   'name': 'experiment1_raw.tab',\n",
       "   'fileFormat': 'text/tab-separated-values',\n",
       "   'contentSize': 5778,\n",
       "   'description': 'experiment 1',\n",
       "   '@id': 'https://doi.org/10.11588/data/0HJW2A/LTJZAU',\n",
       "   'identifier': 'https://doi.org/10.11588/data/0HJW2A/LTJZAU'},\n",
       "  {'@type': 'DataDownload',\n",
       "   'name': 'experiment1_stata_data.tab',\n",
       "   'fileFormat': 'text/tab-separated-values',\n",
       "   'contentSize': 4386,\n",
       "   'description': 'experiment 1',\n",
       "   '@id': 'https://doi.org/10.11588/data/0HJW2A/LFCU8I',\n",
       "   'identifier': 'https://doi.org/10.11588/data/0HJW2A/LFCU8I'},\n",
       "  {'@type': 'DataDownload',\n",
       "   'name': 'experiment1_stata_do.do',\n",
       "   'fileFormat': 'application/x-stata-syntax',\n",
       "   'contentSize': 220,\n",
       "   'description': 'experiment 1',\n",
       "   '@id': 'https://doi.org/10.11588/data/0HJW2A/KVQ7BE',\n",
       "   'identifier': 'https://doi.org/10.11588/data/0HJW2A/KVQ7BE'},\n",
       "  {'@type': 'DataDownload',\n",
       "   'name': 'experiment2_raw.tab',\n",
       "   'fileFormat': 'text/tab-separated-values',\n",
       "   'contentSize': 2808,\n",
       "   'description': 'experiment 2',\n",
       "   '@id': 'https://doi.org/10.11588/data/0HJW2A/LY0ZOZ',\n",
       "   'identifier': 'https://doi.org/10.11588/data/0HJW2A/LY0ZOZ'},\n",
       "  {'@type': 'DataDownload',\n",
       "   'name': 'experiment2_stata_data.tab',\n",
       "   'fileFormat': 'text/tab-separated-values',\n",
       "   'contentSize': 1492,\n",
       "   'description': 'experiment 2',\n",
       "   '@id': 'https://doi.org/10.11588/data/0HJW2A/UFRHQN',\n",
       "   'identifier': 'https://doi.org/10.11588/data/0HJW2A/UFRHQN'},\n",
       "  {'@type': 'DataDownload',\n",
       "   'name': 'experiment2_stata_do.do',\n",
       "   'fileFormat': 'application/x-stata-syntax',\n",
       "   'contentSize': 406,\n",
       "   'description': 'experiment 2',\n",
       "   '@id': 'https://doi.org/10.11588/data/0HJW2A/DG7PZB',\n",
       "   'identifier': 'https://doi.org/10.11588/data/0HJW2A/DG7PZB'},\n",
       "  {'@type': 'DataDownload',\n",
       "   'name': 'experiment3_raw.tab',\n",
       "   'fileFormat': 'text/tab-separated-values',\n",
       "   'contentSize': 8483,\n",
       "   'description': 'experiment 3',\n",
       "   '@id': 'https://doi.org/10.11588/data/0HJW2A/IUXIQE',\n",
       "   'identifier': 'https://doi.org/10.11588/data/0HJW2A/IUXIQE'},\n",
       "  {'@type': 'DataDownload',\n",
       "   'name': 'experiment3_stata_data.tab',\n",
       "   'fileFormat': 'text/tab-separated-values',\n",
       "   'contentSize': 4577,\n",
       "   'description': 'experiment 3',\n",
       "   '@id': 'https://doi.org/10.11588/data/0HJW2A/0CVA5J',\n",
       "   'identifier': 'https://doi.org/10.11588/data/0HJW2A/0CVA5J'},\n",
       "  {'@type': 'DataDownload',\n",
       "   'name': 'experiment3_stata_do.do',\n",
       "   'fileFormat': 'application/x-stata-syntax',\n",
       "   'contentSize': 357,\n",
       "   'description': 'experiment 3',\n",
       "   '@id': 'https://doi.org/10.11588/data/0HJW2A/XDARH9',\n",
       "   'identifier': 'https://doi.org/10.11588/data/0HJW2A/XDARH9'},\n",
       "  {'@type': 'DataDownload',\n",
       "   'name': 'experiment4_instructions_dutch.docx',\n",
       "   'fileFormat': 'application/vnd.openxmlformats-officedocument.wordprocessingml.document',\n",
       "   'contentSize': 14064,\n",
       "   'description': 'experiment 4',\n",
       "   '@id': 'https://doi.org/10.11588/data/0HJW2A/4GV60R',\n",
       "   'identifier': 'https://doi.org/10.11588/data/0HJW2A/4GV60R'},\n",
       "  {'@type': 'DataDownload',\n",
       "   'name': 'experiment4_stata_data.tab',\n",
       "   'fileFormat': 'text/tab-separated-values',\n",
       "   'contentSize': 5950,\n",
       "   'description': 'experiment 4',\n",
       "   '@id': 'https://doi.org/10.11588/data/0HJW2A/IXSKHQ',\n",
       "   'identifier': 'https://doi.org/10.11588/data/0HJW2A/IXSKHQ'},\n",
       "  {'@type': 'DataDownload',\n",
       "   'name': 'experiment4_stata_do.do',\n",
       "   'fileFormat': 'application/x-stata-syntax',\n",
       "   'contentSize': 751,\n",
       "   'description': 'experiment 4',\n",
       "   '@id': 'https://doi.org/10.11588/data/0HJW2A/OHXGFS',\n",
       "   'identifier': 'https://doi.org/10.11588/data/0HJW2A/OHXGFS'}]}"
      ]
     },
     "execution_count": 12,
     "metadata": {},
     "output_type": "execute_result"
    }
   ],
   "source": [
    "data[1]"
   ]
  },
  {
   "cell_type": "code",
   "execution_count": 18,
   "id": "973907db",
   "metadata": {},
   "outputs": [
    {
     "data": {
      "text/plain": [
       "{'_index': 'my_index',\n",
       " '_type': 'doc',\n",
       " '_id': 'O38Z4HoBoYEF2rZ_i1Q0',\n",
       " '_version': 1,\n",
       " 'result': 'created',\n",
       " '_shards': {'total': 2, 'successful': 1, 'failed': 0},\n",
       " '_seq_no': 3,\n",
       " '_primary_term': 2}"
      ]
     },
     "execution_count": 18,
     "metadata": {},
     "output_type": "execute_result"
    }
   ],
   "source": [
    "es.index(index=\"my_index\", doc_type='doc', body=data[5])#data)\n"
   ]
  },
  {
   "cell_type": "code",
   "execution_count": 20,
   "id": "9f8d27dd-b8e2-4b3a-88db-9fde1e95f190",
   "metadata": {},
   "outputs": [
    {
     "data": {
      "text/plain": [
       "{'_index': 'my_index',\n",
       " '_type': 'doc',\n",
       " '_id': 'O38Z4HoBoYEF2rZ_i1Q0',\n",
       " '_version': 1,\n",
       " '_seq_no': 3,\n",
       " '_primary_term': 2,\n",
       " 'found': True,\n",
       " '_source': {'@context': 'http://schema.org',\n",
       "  '@type': 'Dataset',\n",
       "  '@id': 'https://doi.org/10.11588/data/10002',\n",
       "  'identifier': 'https://doi.org/10.11588/data/10002',\n",
       "  'name': 'PatTR: Patent Translation Resource',\n",
       "  'creator': [{'name': 'Wäschle, Katharina',\n",
       "    'affiliation': 'Department of Computational Linguistics'},\n",
       "   {'name': 'Riezler, Stefan',\n",
       "    'affiliation': 'Department of Computational Linguistics'}],\n",
       "  'author': [{'name': 'Wäschle, Katharina',\n",
       "    'affiliation': 'Department of Computational Linguistics'},\n",
       "   {'name': 'Riezler, Stefan',\n",
       "    'affiliation': 'Department of Computational Linguistics'}],\n",
       "  'datePublished': '2014-06-05',\n",
       "  'dateModified': '2017-04-05',\n",
       "  'version': '3',\n",
       "  'description': ['PatTR is a sentence-parallel corpus extracted from the MAREC patent collection. The current version contains more than 22 million German-English and 18 million French-English parallel sentences collected from all patent text sections as well as 5 million German-French sentence pairs from patent titles, abstracts and claims.  The corpus is sorted by language pairs and by text sections of a patent document, namely title, abstrac t, claims and description. Parallel data from title, abstract and claims sections were extracted from documents belonging to the European Patent Office ( EPO) and the World Intellectual Property Organization (WIPO) corpora in MAREC. Both resources feature multilingual documents that contain for example both an English and a German abstract.  Since there are no multilingual descriptions, data from this section were collected by exploiting patent families to align German and French documents from the EPO corpus to English documents from the United S tates Patent and Trademark Office (USPTO) corpus, following Utiyama, Masao and Isahara, Hitoshi: A Japanese-English patent parallel corpus. MT summit XI (2007), 475--482.  All sections were sentence-aligned using the Gargantua aligner. Preprocessing was done automatically. Sentence boundaries were detected using the Europarl processing tools.  For a detailed description of the corpus construction process, please see the publications above.'],\n",
       "  'keywords': ['Computer and Information Science'],\n",
       "  'citation': [{'@type': 'CreativeWork',\n",
       "    'text': 'Wäschle, K. and Riezler, S. (2012b). Analyzing Parallelism and Domain Similarities in the MAREC Patent Corpus. Multidisciplinary Information Retrieval, pp. 12-27.',\n",
       "    '@id': 'http://www.cl.uni-heidelberg.de/~riezler/publications/papers/IRF2012.pdf',\n",
       "    'identifier': 'http://www.cl.uni-heidelberg.de/~riezler/publications/papers/IRF2012.pdf'},\n",
       "   {'@type': 'CreativeWork',\n",
       "    'text': 'Wäschle, K. and Riezler, S. (2012b). Analyzing Parallelism and Domain Similarities in the MAREC Patent Corpus. Multidisciplinary Information Retrieval, pp. 12-27.',\n",
       "    '@id': 'http://www.cl.uni-heidelberg.de/~riezler/publications/papers/IRF2012.pdf',\n",
       "    'identifier': 'http://www.cl.uni-heidelberg.de/~riezler/publications/papers/IRF2012.pdf'},\n",
       "   {'@type': 'CreativeWork',\n",
       "    'text': 'Wäschle, K. and Riezler, S. (2012a). Structural and Topical Dimensions in Multi-Task Patent Translation. Proceedings of the 13th Conference of the European Chapter of the Association for Computational Linguistics (EACL 2012), Avignon, France.',\n",
       "    '@id': 'http://aclweb.org/anthology//E/E12/E12-1083.pdf',\n",
       "    'identifier': 'http://aclweb.org/anthology//E/E12/E12-1083.pdf'}],\n",
       "  'temporalCoverage': ['1976/2008-06'],\n",
       "  'license': {'@type': 'Dataset',\n",
       "   'text': \"PatTR is licensed under a <a href='http://creativecommons.org/licenses/by-nc-sa/3.0/'>Creative Commons Attribution-NonCommercial-ShareAlike 3.0 Unported License. &#160;<img src='https://i.creativecommons.org/l/by-nc-sa/3.0/80x15.png' alt='CC by-nc-sa' /></a>\"},\n",
       "  'includedInDataCatalog': {'@type': 'DataCatalog',\n",
       "   'name': 'heiDATA',\n",
       "   'url': 'https://heidata.uni-heidelberg.de'},\n",
       "  'publisher': {'@type': 'Organization', 'name': 'heiDATA'},\n",
       "  'provider': {'@type': 'Organization', 'name': 'heiDATA'},\n",
       "  'distribution': [{'@type': 'DataDownload',\n",
       "    'name': 'de-en-abstract-title.tar.gz',\n",
       "    'fileFormat': 'application/x-gzip',\n",
       "    'contentSize': 245640661,\n",
       "    'description': 'data set de-en, Part 1/3 (License information: see part 1)'},\n",
       "   {'@type': 'DataDownload',\n",
       "    'name': 'de-en-claims.tar.gz',\n",
       "    'fileFormat': 'application/x-gzip',\n",
       "    'contentSize': 1348412107,\n",
       "    'description': 'data set de-en, Part 2/3'},\n",
       "   {'@type': 'DataDownload',\n",
       "    'name': 'de-en-description.tar.gz',\n",
       "    'fileFormat': 'application/x-gzip',\n",
       "    'contentSize': 1403883854,\n",
       "    'description': 'data set de-en, Part 2/3 (License information: see part 1)'},\n",
       "   {'@type': 'DataDownload',\n",
       "    'name': 'en-fr-abstract-title.tar_1.gz',\n",
       "    'fileFormat': 'application/x-gzip',\n",
       "    'contentSize': 702207465,\n",
       "    'description': 'data set en-fr, Part 1/3'},\n",
       "   {'@type': 'DataDownload',\n",
       "    'name': 'en-fr-claims.tar.gz',\n",
       "    'fileFormat': 'application/x-gzip',\n",
       "    'contentSize': 1113706581,\n",
       "    'description': 'data set en-fr, Part 2/3 (License information: see part 1)'},\n",
       "   {'@type': 'DataDownload',\n",
       "    'name': 'en-fr-description.tar.gz',\n",
       "    'fileFormat': 'application/x-gzip',\n",
       "    'contentSize': 658863580,\n",
       "    'description': 'data set en-fr, Part 3/3 (License information: see part 1)'},\n",
       "   {'@type': 'DataDownload',\n",
       "    'name': 'fr-de.tar.gz',\n",
       "    'fileFormat': 'application/x-gzip',\n",
       "    'contentSize': 676894791,\n",
       "    'description': 'data set fr-de, Part 1/1'},\n",
       "   {'@type': 'DataDownload',\n",
       "    'name': 'README_PatTR.txt',\n",
       "    'fileFormat': 'text/plain',\n",
       "    'contentSize': 4505,\n",
       "    'description': ''}]}}"
      ]
     },
     "execution_count": 20,
     "metadata": {},
     "output_type": "execute_result"
    }
   ],
   "source": [
    "es.get(index='my_index', doc_type='doc', id='O38Z4HoBoYEF2rZ_i1Q0')\n"
   ]
  },
  {
   "cell_type": "code",
   "execution_count": 14,
   "id": "4297e1e3",
   "metadata": {},
   "outputs": [
    {
     "data": {
      "text/plain": [
       "{'_index': 'my_index',\n",
       " '_type': 'doc',\n",
       " '_id': 'On_D33oBoYEF2rZ_RFRi',\n",
       " '_version': 1,\n",
       " 'result': 'created',\n",
       " '_shards': {'total': 2, 'successful': 1, 'failed': 0},\n",
       " '_seq_no': 2,\n",
       " '_primary_term': 2}"
      ]
     },
     "execution_count": 14,
     "metadata": {},
     "output_type": "execute_result"
    }
   ],
   "source": [
    "es.index(index=\"my_index\", doc_type='doc', body=data[6])#data)\n"
   ]
  },
  {
   "cell_type": "code",
   "execution_count": null,
   "id": "7d242606-de8c-4910-af24-bb7275f032f8",
   "metadata": {},
   "outputs": [],
   "source": []
  }
 ],
 "metadata": {
  "kernelspec": {
   "display_name": "Python 3",
   "language": "python",
   "name": "python3"
  },
  "language_info": {
   "codemirror_mode": {
    "name": "ipython",
    "version": 3
   },
   "file_extension": ".py",
   "mimetype": "text/x-python",
   "name": "python",
   "nbconvert_exporter": "python",
   "pygments_lexer": "ipython3",
   "version": "3.9.6"
  }
 },
 "nbformat": 4,
 "nbformat_minor": 5
}
