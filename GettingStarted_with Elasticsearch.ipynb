{
 "cells": [
  {
   "cell_type": "markdown",
   "id": "e1f545b0-6bb0-4912-876f-a76db16d5a05",
   "metadata": {},
   "source": [
    "# Learning Elasticsearch (with Python)"
   ]
  },
  {
   "cell_type": "markdown",
   "id": "1acd146d-4238-4afd-91b7-5510aea61d74",
   "metadata": {},
   "source": [
    "## What is Elasticsearch?  \n",
    "> Elasticsearch (ES) is a distributed, real-time, search and analytics platform.     \n",
    "\n",
    "**Distibuted**: meaning it organizes information in clusters of nodes, so it will run in multiple servers if we intend it.  \n",
    "**Real-time**: data is indexed, therefore we get responses to our queries quickly.   \n",
    " \n",
    "**The main problem being solved with this tool is exploring data**.   \n",
    "*\"A platform like ES is the foundation for any respectable search engine.\"*  \n",
    "  \n",
    "## How does it work?  \n",
    "Using a restful API, ES will save and index data automatically. By assigning types to fields a search can be done using filters and queries. It uses JVM in order to be fast. Indexes are distributed in <u>shards</u> of data. ES will replicate shards in different nodes, making it distbuted and therefore clusters are able to function, even if not all required nodes are operational. It is also scalable because adding nodes is simple.   \n",
    "ES uses Lucene to solve searches, allowing us to perform searches using json objects as parameters. Each search parameter within an object has a different weight, importance and/or priority. This final result ranks objects that comply with the search query requirements.  \n",
    "  \n",
    "\n",
    "## Easy first steps with ES?  \n",
    "\n"
   ]
  },
  {
   "cell_type": "code",
   "execution_count": 2,
   "id": "ce2c44b8-9dd2-4ea9-9b80-6413d9e3dbb0",
   "metadata": {},
   "outputs": [
    {
     "ename": "ModuleNotFoundError",
     "evalue": "No module named 'elasticsearch'",
     "output_type": "error",
     "traceback": [
      "\u001b[1;31m---------------------------------------------------------------------------\u001b[0m",
      "\u001b[1;31mModuleNotFoundError\u001b[0m                       Traceback (most recent call last)",
      "\u001b[1;32m<ipython-input-2-125c4c2fb0ff>\u001b[0m in \u001b[0;36m<module>\u001b[1;34m\u001b[0m\n\u001b[1;32m----> 1\u001b[1;33m \u001b[1;32mfrom\u001b[0m \u001b[0melasticsearch\u001b[0m \u001b[1;32mimport\u001b[0m \u001b[0mElasticsearch\u001b[0m\u001b[1;33m,\u001b[0m \u001b[0mhelpers\u001b[0m\u001b[1;33m\u001b[0m\u001b[1;33m\u001b[0m\u001b[0m\n\u001b[0m\u001b[0;32m      2\u001b[0m \u001b[1;32mimport\u001b[0m \u001b[0mjson\u001b[0m\u001b[1;33m\u001b[0m\u001b[1;33m\u001b[0m\u001b[0m\n\u001b[0;32m      3\u001b[0m \u001b[1;32mimport\u001b[0m \u001b[0mos\u001b[0m\u001b[1;33m\u001b[0m\u001b[1;33m\u001b[0m\u001b[0m\n\u001b[0;32m      4\u001b[0m \u001b[1;32mimport\u001b[0m \u001b[0msys\u001b[0m\u001b[1;33m\u001b[0m\u001b[1;33m\u001b[0m\u001b[0m\n",
      "\u001b[1;31mModuleNotFoundError\u001b[0m: No module named 'elasticsearch'"
     ]
    }
   ],
   "source": [
    "from elasticsearch import Elasticsearch, helpers \n",
    "import json\n",
    "import os\n",
    "import sys"
   ]
  },
  {
   "cell_type": "markdown",
   "id": "056991e3-a4e7-48db-b242-2f1ed6f955f0",
   "metadata": {},
   "source": [
    "## References\n",
    "\n",
    "[Python + Elasticsearch. First steps](https://tryolabs.com/blog/2015/02/17/python-elasticsearch-first-steps/)"
   ]
  },
  {
   "cell_type": "markdown",
   "id": "81fb9d4c-5b43-4ffc-84bc-edc7189ff553",
   "metadata": {},
   "source": [
    "---"
   ]
  }
 ],
 "metadata": {
  "kernelspec": {
   "display_name": "Python 3",
   "language": "python",
   "name": "python3"
  },
  "language_info": {
   "codemirror_mode": {
    "name": "ipython",
    "version": 3
   },
   "file_extension": ".py",
   "mimetype": "text/x-python",
   "name": "python",
   "nbconvert_exporter": "python",
   "pygments_lexer": "ipython3",
   "version": "3.9.6"
  }
 },
 "nbformat": 4,
 "nbformat_minor": 5
}
