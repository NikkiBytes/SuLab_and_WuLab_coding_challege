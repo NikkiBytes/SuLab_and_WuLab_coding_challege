{
 "cells": [
  {
   "cell_type": "markdown",
   "id": "a683fc45-da0e-433b-8fe2-57487e926f32",
   "metadata": {},
   "source": [
    "# Load and Index Data"
   ]
  },
  {
   "cell_type": "code",
   "execution_count": 34,
   "id": "cf03628b-b57b-42a8-944e-8d63d87be56a",
   "metadata": {},
   "outputs": [],
   "source": [
    "from elasticsearch import Elasticsearch\n",
    "import json"
   ]
  },
  {
   "cell_type": "code",
   "execution_count": 35,
   "id": "83dafdb1-b652-4327-82fd-2fda9760a58a",
   "metadata": {},
   "outputs": [],
   "source": [
    "# Elastic search configuation\n",
    "es = Elasticsearch(HOST=\"http://localhost\", PORT=9200)"
   ]
  },
  {
   "cell_type": "code",
   "execution_count": 36,
   "id": "fe1add62-0918-4223-9a24-7591640862c9",
   "metadata": {},
   "outputs": [
    {
     "name": "stdout",
     "output_type": "stream",
     "text": [
      "100\n"
     ]
    }
   ],
   "source": [
    "# Load file\n",
    "\n",
    "file='harvard_dataverse.json'\n",
    "\n",
    "with open(file, 'r', encoding='utf-8') as f:\n",
    "    data=json.loads(f.read())\n",
    "\n",
    "print(len(data))\n"
   ]
  },
  {
   "cell_type": "code",
   "execution_count": 37,
   "id": "2b4b5838-31b9-463f-a40a-0ea1c4758cbf",
   "metadata": {},
   "outputs": [],
   "source": [
    "for obj in data:\n",
    "    #print(\"-----\")\n",
    "    obj_id=obj[\"@id\"]\n",
    "    es.index(index=\"harvardmetadata\", doc_type=\"metadata\", id=obj_id, body=obj)\n",
    "    \n",
    "    \n"
   ]
  },
  {
   "cell_type": "code",
   "execution_count": 39,
   "id": "e1205e17-1664-4aea-a57e-50bae3799689",
   "metadata": {},
   "outputs": [
    {
     "data": {
      "text/plain": [
       "{'acknowledged': True}"
      ]
     },
     "execution_count": 39,
     "metadata": {},
     "output_type": "execute_result"
    }
   ],
   "source": [
    "es.indices.put_mapping(\n",
    "    index=\"harvardmetadata\",\n",
    "    doc_type=\"metadata\",\n",
    "    include_type_name=True,\n",
    "    body=\n",
    "    {\n",
    "        'properties': {\n",
    "            '@context': {\n",
    "                'type': 'text',\n",
    "                'fields': {\n",
    "                    'keyword': {\n",
    "                        'type': 'keyword', 'ignore_above': 256}}},\n",
    "    '@id': {'type': 'text',\n",
    "     'fields': {'keyword': {'type': 'keyword', 'ignore_above': 256}}},\n",
    "    '@type': {'type': 'text',\n",
    "     'fields': {'keyword': {'type': 'keyword', 'ignore_above': 256}}},\n",
    "    'author': {'properties': {'affiliation': {'type': 'text',\n",
    "       'fields': {'keyword': {'type': 'keyword', 'ignore_above': 256}}},\n",
    "      'name': {'type': 'text',\n",
    "       'fields': {'keyword': {'type': 'keyword', 'ignore_above': 256}}}}},\n",
    "    'citation': {'properties': {'@type': {'type': 'text',\n",
    "       'fields': {'keyword': {'type': 'keyword', 'ignore_above': 256}}},\n",
    "      'text': {'type': 'text',\n",
    "       'fields': {'keyword': {'type': 'keyword', 'ignore_above': 256}}}}},\n",
    "    'creator': {'properties': {'affiliation': {'type': 'text',\n",
    "       'fields': {'keyword': {'type': 'keyword', 'ignore_above': 256}}},\n",
    "      'name': {'type': 'text',\n",
    "       'fields': {'keyword': {'type': 'keyword', 'ignore_above': 256}}}}},\n",
    "    'dateModified': {'type': 'date'},\n",
    "    'datePublished': {'type': 'date'},\n",
    "    'description': {'type': 'text',\n",
    "     'fields': {'keyword': {'type': 'keyword', 'ignore_above': 256}}},\n",
    "    'distribution': {'properties': {'@id': {'type': 'text',\n",
    "       'fields': {'keyword': {'type': 'keyword', 'ignore_above': 256}}},\n",
    "      '@type': {'type': 'text',\n",
    "       'fields': {'keyword': {'type': 'keyword', 'ignore_above': 256}}},\n",
    "      'contentSize': {'type': 'long'},\n",
    "      'fileFormat': {'type': 'text',\n",
    "       'fields': {'keyword': {'type': 'keyword', 'ignore_above': 256}}},\n",
    "      'identifier': {'type': 'text',\n",
    "       'fields': {'keyword': {'type': 'keyword', 'ignore_above': 256}}},\n",
    "      'name': {'type': 'text',\n",
    "       'fields': {'keyword': {'type': 'keyword', 'ignore_above': 256}}}}},\n",
    "    'funder': {'properties': {'@type': {'type': 'text',\n",
    "       'fields': {'keyword': {'type': 'keyword', 'ignore_above': 256}}},\n",
    "      'name': {'type': 'text',\n",
    "       'fields': {'keyword': {'type': 'keyword', 'ignore_above': 256}}}}},\n",
    "    'identifier': {'type': 'text',\n",
    "     'fields': {'keyword': {'type': 'keyword', 'ignore_above': 256}}},\n",
    "    'includedInDataCatalog': {'properties': {'@type': {'type': 'text',\n",
    "       'fields': {'keyword': {'type': 'keyword', 'ignore_above': 256}}},\n",
    "      'name': {'type': 'text',\n",
    "       'fields': {'keyword': {'type': 'keyword', 'ignore_above': 256}}},\n",
    "      'url': {'type': 'text',\n",
    "       'fields': {'keyword': {'type': 'keyword', 'ignore_above': 256}}}}},\n",
    "    'keywords': {'type': 'text',\n",
    "     'fields': {'keyword': {'type': 'keyword', 'ignore_above': 256}}},\n",
    "    'license': {'properties': {'@type': {'type': 'text',\n",
    "       'fields': {'keyword': {'type': 'keyword', 'ignore_above': 256}}},\n",
    "      'text': {'type': 'text',\n",
    "       'fields': {'keyword': {'type': 'keyword', 'ignore_above': 256}}}}},\n",
    "    'name': {'type': 'text',\n",
    "     'fields': {'keyword': {'type': 'keyword', 'ignore_above': 256}}},\n",
    "    'provider': {'properties': {'@type': {'type': 'text',\n",
    "       'fields': {'keyword': {'type': 'keyword', 'ignore_above': 256}}},\n",
    "      'name': {'type': 'text',\n",
    "       'fields': {'keyword': {'type': 'keyword', 'ignore_above': 256}}}}},\n",
    "    'publisher': {'properties': {'@type': {'type': 'text',\n",
    "       'fields': {'keyword': {'type': 'keyword', 'ignore_above': 256}}},\n",
    "      'name': {'type': 'text',\n",
    "       'fields': {'keyword': {'type': 'keyword', 'ignore_above': 256}}}}},\n",
    "    'version': {'type': 'text',\n",
    "     'fields': {'keyword': {'type': 'keyword', 'ignore_above': 256}}}}}\n",
    "    \n",
    ")\n"
   ]
  },
  {
   "cell_type": "markdown",
   "id": "43b9b802-62bc-4818-a794-bfa12a0f37f4",
   "metadata": {},
   "source": [
    "## Testing Queries"
   ]
  },
  {
   "cell_type": "code",
   "execution_count": 26,
   "id": "d102b232-845b-4a61-9220-b0de101f1a0f",
   "metadata": {},
   "outputs": [],
   "source": [
    "\n",
    "query1={\n",
    "        \"query\": {\n",
    "            \"match\":{\n",
    "              \"@id\": {\n",
    "                \"query\": \"https://doi.org/10.11588/data/0HJW2A\"\n",
    "              }\n",
    "            }\n",
    "        }\n",
    "    }"
   ]
  },
  {
   "cell_type": "code",
   "execution_count": 119,
   "id": "f24c4c2b-e6c3-4203-b25a-63a25bac93d3",
   "metadata": {},
   "outputs": [],
   "source": [
    "q=\"https://doi.org/10.11588/data/10010\""
   ]
  },
  {
   "cell_type": "code",
   "execution_count": 202,
   "id": "49b2169b-4916-4c29-a214-a2293ccb2a08",
   "metadata": {},
   "outputs": [],
   "source": [
    "field=\"keywords\"\n",
    "z=\"Earth and Environmental Sciences\"#'Epigraphik'#"
   ]
  },
  {
   "cell_type": "code",
   "execution_count": 203,
   "id": "c807ee0f-8886-4834-b960-c5d0a1543879",
   "metadata": {},
   "outputs": [],
   "source": [
    "id_query={\n",
    "    \"query\": {\n",
    "        \"ids\" : {\n",
    "            \"type\" : \"metadata\",\n",
    "            \"values\" : [q]\n",
    "        }\n",
    "    }\n",
    "}\n",
    "\n",
    "\n",
    "keyword_query={\n",
    "  \"query\": {\n",
    "    \"match_phrase\": {\n",
    "        field: {\n",
    "          \"query\": z\n",
    "        }\n",
    "    }\n",
    "  }\n",
    "}\n",
    "\n"
   ]
  },
  {
   "cell_type": "code",
   "execution_count": 204,
   "id": "72965a7b-82f3-4c5b-aa51-a61ce8006bcd",
   "metadata": {},
   "outputs": [],
   "source": [
    "res=es.search(index=\"harvardmetadata\", doc_type=\"metadata\", body=id_query)\n",
    "res2=es.search(index=\"harvardmetadata\", doc_type=\"metadata\", body=keyword_query)\n"
   ]
  },
  {
   "cell_type": "code",
   "execution_count": 215,
   "id": "57c658e5-367c-4748-a9b6-cf093ab21cd7",
   "metadata": {},
   "outputs": [],
   "source": [
    "#print(res2)\n",
    "x=res\n",
    "hits=x['hits']['total']['value']\n",
    "if hits == 1:\n",
    "    hit_obj = res['hits']['hits'][0]\n",
    "    data_json=json.dumps(hit_obj, separators=(',', ':'), indent=4)"
   ]
  },
  {
   "cell_type": "code",
   "execution_count": 163,
   "id": "959aa8ac-3b74-4dd3-b038-d9fe810bfd44",
   "metadata": {},
   "outputs": [],
   "source": [
    "#es.indices.delete(index=\"testing\")\n"
   ]
  },
  {
   "cell_type": "code",
   "execution_count": 164,
   "id": "69b3f355-0cfd-4b8a-ba5f-9382cb362f94",
   "metadata": {},
   "outputs": [],
   "source": [
    "mapping=es.indices.get_mapping(index=\"harvardmetadata\")"
   ]
  },
  {
   "cell_type": "code",
   "execution_count": 165,
   "id": "fc0db777-4536-4578-9172-66cd156f1ebe",
   "metadata": {},
   "outputs": [],
   "source": [
    "#mapping\n",
    "fields=[]\n",
    "for field in mapping[\"harvardmetadata\"]['mappings']['properties']:\n",
    "    #print(field)\n",
    "    fields.append(field)"
   ]
  },
  {
   "cell_type": "code",
   "execution_count": 144,
   "id": "22f00d92-1c07-44f2-a87a-c7bf06075707",
   "metadata": {},
   "outputs": [
    {
     "name": "stdout",
     "output_type": "stream",
     "text": [
      "['@context', '@id', '@type', 'author', 'citation', 'creator', 'dateModified', 'datePublished', 'description', 'distribution', 'funder', 'identifier', 'includedInDataCatalog', 'keywords', 'license', 'name', 'provider', 'publisher', 'spatialCoverage', 'temporalCoverage', 'version']\n"
     ]
    }
   ],
   "source": [
    "print(fields)"
   ]
  },
  {
   "cell_type": "markdown",
   "id": "2dae9b50-b969-418b-962c-b45a514e1801",
   "metadata": {},
   "source": [
    "---"
   ]
  }
 ],
 "metadata": {
  "kernelspec": {
   "display_name": "Python 3",
   "language": "python",
   "name": "python3"
  },
  "language_info": {
   "codemirror_mode": {
    "name": "ipython",
    "version": 3
   },
   "file_extension": ".py",
   "mimetype": "text/x-python",
   "name": "python",
   "nbconvert_exporter": "python",
   "pygments_lexer": "ipython3",
   "version": "3.9.6"
  }
 },
 "nbformat": 4,
 "nbformat_minor": 5
}
