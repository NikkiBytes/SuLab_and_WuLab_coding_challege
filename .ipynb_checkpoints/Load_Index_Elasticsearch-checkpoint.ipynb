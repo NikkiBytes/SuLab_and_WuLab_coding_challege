{
 "cells": [
  {
   "cell_type": "markdown",
   "id": "b5758200",
   "metadata": {},
   "source": [
    "# Su Lab and Wu Lab Coding Challenge"
   ]
  },
  {
   "cell_type": "code",
   "execution_count": 1,
   "id": "c84f7e08",
   "metadata": {},
   "outputs": [],
   "source": [
    "from elasticsearch import Elasticsearch, helpers\n",
    "import sys, json\n",
    "from time import sleep\n",
    "from datetime import datetime\n"
   ]
  },
  {
   "cell_type": "markdown",
   "id": "0ff44d06-6828-4f67-8b85-823a3bfd2143",
   "metadata": {},
   "source": [
    "## Step 1.  Load and index json into ES"
   ]
  },
  {
   "cell_type": "code",
   "execution_count": 3,
   "id": "59d6aaf3",
   "metadata": {},
   "outputs": [],
   "source": [
    "# Elastic search configuation\n",
    "\n",
    "es = Elasticsearch(HOST=\"http://localhost\", PORT=9200)\n",
    "#es = Elasticsearch()"
   ]
  },
  {
   "cell_type": "code",
   "execution_count": null,
   "id": "2d86ab7a-09a0-43d2-b8a1-3a5e00f1c4fb",
   "metadata": {},
   "outputs": [],
   "source": [
    "file='harvard_dataverse.json'\n",
    "\n",
    "datafile=open()"
   ]
  },
  {
   "cell_type": "code",
   "execution_count": null,
   "id": "06dd205e-f5d7-422d-856b-a46db1bbbb73",
   "metadata": {},
   "outputs": [],
   "source": []
  },
  {
   "cell_type": "code",
   "execution_count": 17,
   "id": "e99c8982",
   "metadata": {
    "tags": []
   },
   "outputs": [
    {
     "name": "stdout",
     "output_type": "stream",
     "text": [
      "100\n"
     ]
    }
   ],
   "source": [
    "# Load file\n",
    "\n",
    "file='harvard_dataverse.json'\n",
    "\n",
    "with open(file, 'r', encoding='utf-8') as f:\n",
    "    data=json.loads(f.read())\n",
    "\n",
    "print(len(data))"
   ]
  },
  {
   "cell_type": "code",
   "execution_count": 18,
   "id": "973907db",
   "metadata": {},
   "outputs": [
    {
     "data": {
      "text/plain": [
       "{'_index': 'my_index',\n",
       " '_type': 'doc',\n",
       " '_id': 'O38Z4HoBoYEF2rZ_i1Q0',\n",
       " '_version': 1,\n",
       " 'result': 'created',\n",
       " '_shards': {'total': 2, 'successful': 1, 'failed': 0},\n",
       " '_seq_no': 3,\n",
       " '_primary_term': 2}"
      ]
     },
     "execution_count": 18,
     "metadata": {},
     "output_type": "execute_result"
    }
   ],
   "source": [
    "es.index(index=\"my_index\", doc_type='doc', body=data[5])#data)\n"
   ]
  },
  {
   "cell_type": "code",
   "execution_count": 20,
   "id": "9f8d27dd-b8e2-4b3a-88db-9fde1e95f190",
   "metadata": {},
   "outputs": [
    {
     "data": {
      "text/plain": [
       "{'_index': 'my_index',\n",
       " '_type': 'doc',\n",
       " '_id': 'O38Z4HoBoYEF2rZ_i1Q0',\n",
       " '_version': 1,\n",
       " '_seq_no': 3,\n",
       " '_primary_term': 2,\n",
       " 'found': True,\n",
       " '_source': {'@context': 'http://schema.org',\n",
       "  '@type': 'Dataset',\n",
       "  '@id': 'https://doi.org/10.11588/data/10002',\n",
       "  'identifier': 'https://doi.org/10.11588/data/10002',\n",
       "  'name': 'PatTR: Patent Translation Resource',\n",
       "  'creator': [{'name': 'Wäschle, Katharina',\n",
       "    'affiliation': 'Department of Computational Linguistics'},\n",
       "   {'name': 'Riezler, Stefan',\n",
       "    'affiliation': 'Department of Computational Linguistics'}],\n",
       "  'author': [{'name': 'Wäschle, Katharina',\n",
       "    'affiliation': 'Department of Computational Linguistics'},\n",
       "   {'name': 'Riezler, Stefan',\n",
       "    'affiliation': 'Department of Computational Linguistics'}],\n",
       "  'datePublished': '2014-06-05',\n",
       "  'dateModified': '2017-04-05',\n",
       "  'version': '3',\n",
       "  'description': ['PatTR is a sentence-parallel corpus extracted from the MAREC patent collection. The current version contains more than 22 million German-English and 18 million French-English parallel sentences collected from all patent text sections as well as 5 million German-French sentence pairs from patent titles, abstracts and claims.  The corpus is sorted by language pairs and by text sections of a patent document, namely title, abstrac t, claims and description. Parallel data from title, abstract and claims sections were extracted from documents belonging to the European Patent Office ( EPO) and the World Intellectual Property Organization (WIPO) corpora in MAREC. Both resources feature multilingual documents that contain for example both an English and a German abstract.  Since there are no multilingual descriptions, data from this section were collected by exploiting patent families to align German and French documents from the EPO corpus to English documents from the United S tates Patent and Trademark Office (USPTO) corpus, following Utiyama, Masao and Isahara, Hitoshi: A Japanese-English patent parallel corpus. MT summit XI (2007), 475--482.  All sections were sentence-aligned using the Gargantua aligner. Preprocessing was done automatically. Sentence boundaries were detected using the Europarl processing tools.  For a detailed description of the corpus construction process, please see the publications above.'],\n",
       "  'keywords': ['Computer and Information Science'],\n",
       "  'citation': [{'@type': 'CreativeWork',\n",
       "    'text': 'Wäschle, K. and Riezler, S. (2012b). Analyzing Parallelism and Domain Similarities in the MAREC Patent Corpus. Multidisciplinary Information Retrieval, pp. 12-27.',\n",
       "    '@id': 'http://www.cl.uni-heidelberg.de/~riezler/publications/papers/IRF2012.pdf',\n",
       "    'identifier': 'http://www.cl.uni-heidelberg.de/~riezler/publications/papers/IRF2012.pdf'},\n",
       "   {'@type': 'CreativeWork',\n",
       "    'text': 'Wäschle, K. and Riezler, S. (2012b). Analyzing Parallelism and Domain Similarities in the MAREC Patent Corpus. Multidisciplinary Information Retrieval, pp. 12-27.',\n",
       "    '@id': 'http://www.cl.uni-heidelberg.de/~riezler/publications/papers/IRF2012.pdf',\n",
       "    'identifier': 'http://www.cl.uni-heidelberg.de/~riezler/publications/papers/IRF2012.pdf'},\n",
       "   {'@type': 'CreativeWork',\n",
       "    'text': 'Wäschle, K. and Riezler, S. (2012a). Structural and Topical Dimensions in Multi-Task Patent Translation. Proceedings of the 13th Conference of the European Chapter of the Association for Computational Linguistics (EACL 2012), Avignon, France.',\n",
       "    '@id': 'http://aclweb.org/anthology//E/E12/E12-1083.pdf',\n",
       "    'identifier': 'http://aclweb.org/anthology//E/E12/E12-1083.pdf'}],\n",
       "  'temporalCoverage': ['1976/2008-06'],\n",
       "  'license': {'@type': 'Dataset',\n",
       "   'text': \"PatTR is licensed under a <a href='http://creativecommons.org/licenses/by-nc-sa/3.0/'>Creative Commons Attribution-NonCommercial-ShareAlike 3.0 Unported License. &#160;<img src='https://i.creativecommons.org/l/by-nc-sa/3.0/80x15.png' alt='CC by-nc-sa' /></a>\"},\n",
       "  'includedInDataCatalog': {'@type': 'DataCatalog',\n",
       "   'name': 'heiDATA',\n",
       "   'url': 'https://heidata.uni-heidelberg.de'},\n",
       "  'publisher': {'@type': 'Organization', 'name': 'heiDATA'},\n",
       "  'provider': {'@type': 'Organization', 'name': 'heiDATA'},\n",
       "  'distribution': [{'@type': 'DataDownload',\n",
       "    'name': 'de-en-abstract-title.tar.gz',\n",
       "    'fileFormat': 'application/x-gzip',\n",
       "    'contentSize': 245640661,\n",
       "    'description': 'data set de-en, Part 1/3 (License information: see part 1)'},\n",
       "   {'@type': 'DataDownload',\n",
       "    'name': 'de-en-claims.tar.gz',\n",
       "    'fileFormat': 'application/x-gzip',\n",
       "    'contentSize': 1348412107,\n",
       "    'description': 'data set de-en, Part 2/3'},\n",
       "   {'@type': 'DataDownload',\n",
       "    'name': 'de-en-description.tar.gz',\n",
       "    'fileFormat': 'application/x-gzip',\n",
       "    'contentSize': 1403883854,\n",
       "    'description': 'data set de-en, Part 2/3 (License information: see part 1)'},\n",
       "   {'@type': 'DataDownload',\n",
       "    'name': 'en-fr-abstract-title.tar_1.gz',\n",
       "    'fileFormat': 'application/x-gzip',\n",
       "    'contentSize': 702207465,\n",
       "    'description': 'data set en-fr, Part 1/3'},\n",
       "   {'@type': 'DataDownload',\n",
       "    'name': 'en-fr-claims.tar.gz',\n",
       "    'fileFormat': 'application/x-gzip',\n",
       "    'contentSize': 1113706581,\n",
       "    'description': 'data set en-fr, Part 2/3 (License information: see part 1)'},\n",
       "   {'@type': 'DataDownload',\n",
       "    'name': 'en-fr-description.tar.gz',\n",
       "    'fileFormat': 'application/x-gzip',\n",
       "    'contentSize': 658863580,\n",
       "    'description': 'data set en-fr, Part 3/3 (License information: see part 1)'},\n",
       "   {'@type': 'DataDownload',\n",
       "    'name': 'fr-de.tar.gz',\n",
       "    'fileFormat': 'application/x-gzip',\n",
       "    'contentSize': 676894791,\n",
       "    'description': 'data set fr-de, Part 1/1'},\n",
       "   {'@type': 'DataDownload',\n",
       "    'name': 'README_PatTR.txt',\n",
       "    'fileFormat': 'text/plain',\n",
       "    'contentSize': 4505,\n",
       "    'description': ''}]}}"
      ]
     },
     "execution_count": 20,
     "metadata": {},
     "output_type": "execute_result"
    }
   ],
   "source": [
    "es.get(index='my_index', doc_type='doc', id='O38Z4HoBoYEF2rZ_i1Q0')\n"
   ]
  },
  {
   "cell_type": "code",
   "execution_count": 14,
   "id": "4297e1e3",
   "metadata": {},
   "outputs": [
    {
     "data": {
      "text/plain": [
       "{'_index': 'my_index',\n",
       " '_type': 'doc',\n",
       " '_id': 'On_D33oBoYEF2rZ_RFRi',\n",
       " '_version': 1,\n",
       " 'result': 'created',\n",
       " '_shards': {'total': 2, 'successful': 1, 'failed': 0},\n",
       " '_seq_no': 2,\n",
       " '_primary_term': 2}"
      ]
     },
     "execution_count": 14,
     "metadata": {},
     "output_type": "execute_result"
    }
   ],
   "source": [
    "es.index(index=\"my_index\", doc_type='doc', body=data[6])#data)\n"
   ]
  },
  {
   "cell_type": "code",
   "execution_count": null,
   "id": "7d242606-de8c-4910-af24-bb7275f032f8",
   "metadata": {},
   "outputs": [],
   "source": []
  }
 ],
 "metadata": {
  "kernelspec": {
   "display_name": "Python 3",
   "language": "python",
   "name": "python3"
  },
  "language_info": {
   "codemirror_mode": {
    "name": "ipython",
    "version": 3
   },
   "file_extension": ".py",
   "mimetype": "text/x-python",
   "name": "python",
   "nbconvert_exporter": "python",
   "pygments_lexer": "ipython3",
   "version": "3.9.6"
  }
 },
 "nbformat": 4,
 "nbformat_minor": 5
}
