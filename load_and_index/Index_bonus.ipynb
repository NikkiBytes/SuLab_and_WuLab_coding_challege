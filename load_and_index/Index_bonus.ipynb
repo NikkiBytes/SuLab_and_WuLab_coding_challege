{
 "cells": [
  {
   "cell_type": "markdown",
   "id": "b5e56e1e-3086-44c1-8e14-d9aa7ea4bde9",
   "metadata": {},
   "source": [
    "# Index Bonus Challenge  \n",
    ">There is also a bonus point if you can achieve:  \n",
    ">create a **customized mapping file** to index metadata objects so that\n",
    "index **\"funder.name\"** field as **keyword** (if possible, **case-insensitive keyword**) and allow passing a <u>\"facet=funder.name\"</u> parameter to the query endpoint to <u>return the facet results on \"funder.name\"</u>.\n",
    "*The rest of fields should still be indexed and searchable as the default behavior*\n"
   ]
  },
  {
   "cell_type": "code",
   "execution_count": 1,
   "id": "a8f94174-1257-402c-9c62-cd99a223a27c",
   "metadata": {},
   "outputs": [],
   "source": [
    "from elasticsearch import Elasticsearch\n",
    "import json"
   ]
  },
  {
   "cell_type": "code",
   "execution_count": 2,
   "id": "ef6e98da-3bec-44c4-8b2b-eedb38b79077",
   "metadata": {},
   "outputs": [],
   "source": [
    "# Elastic search configuation\n",
    "es = Elasticsearch(HOST=\"http://localhost\", PORT=9200)"
   ]
  },
  {
   "cell_type": "code",
   "execution_count": 5,
   "id": "eae982df-4902-4373-87e3-ec652f9e2291",
   "metadata": {},
   "outputs": [],
   "source": [
    "mapping=es.indices.get_mapping(index=\"harvardmetadata\")"
   ]
  },
  {
   "cell_type": "code",
   "execution_count": 78,
   "id": "970a6710-d304-4b9c-9519-369bd42f3125",
   "metadata": {},
   "outputs": [],
   "source": [
    "#mapping"
   ]
  },
  {
   "cell_type": "code",
   "execution_count": 6,
   "id": "9b30b236-11aa-487a-a635-a3c9f0403db2",
   "metadata": {},
   "outputs": [],
   "source": [
    "facet_query={\n",
    "  \"size\":0,\n",
    "  \"aggs\": {\n",
    "    \"facets\": {\n",
    "      \"terms\": {\n",
    "        \"field\": \"funder.name.keyword\"\n",
    "            }\n",
    "    }\n",
    "  }\n",
    "}\n"
   ]
  },
  {
   "cell_type": "code",
   "execution_count": 7,
   "id": "5132ba79-08c9-407c-a972-fa83d5101a84",
   "metadata": {},
   "outputs": [
    {
     "name": "stderr",
     "output_type": "stream",
     "text": [
      "C:\\Python39\\lib\\site-packages\\elasticsearch\\connection\\base.py:208: ElasticsearchWarning: [types removal] Specifying types in search requests is deprecated.\n",
      "  warnings.warn(message, category=ElasticsearchWarning)\n"
     ]
    }
   ],
   "source": [
    "res=es.search(index=\"harvardmetadata\", doc_type=\"metadata\", body=facet_query)\n"
   ]
  },
  {
   "cell_type": "code",
   "execution_count": 8,
   "id": "71a971da-c25c-430c-b394-1d323852298e",
   "metadata": {},
   "outputs": [
    {
     "name": "stdout",
     "output_type": "stream",
     "text": [
      "{'took': 2, 'timed_out': False, '_shards': {'total': 1, 'successful': 1, 'skipped': 0, 'failed': 0}, 'hits': {'total': {'value': 100, 'relation': 'eq'}, 'max_score': None, 'hits': []}, 'aggregations': {'facets': {'doc_count_error_upper_bound': 0, 'sum_other_doc_count': 1, 'buckets': [{'key': 'Deutsche Forschungsgemeinschaft', 'doc_count': 2}, {'key': 'Academic Fund Program at the National Research University Higher School of Economics (HSE)', 'doc_count': 1}, {'key': 'Advanced Investigator Grant', 'doc_count': 1}, {'key': 'Center for Advanced Studies at the University of Munich', 'doc_count': 1}, {'key': 'DFG', 'doc_count': 1}, {'key': 'DFG AR 231/9-12', 'doc_count': 1}, {'key': 'Deutsche Forschungsgemeinschaft - Sonderforschungsbereich Materiale Textkulturen', 'doc_count': 1}, {'key': 'Europäischer Fonds für regionale Entwicklung (FEDER), Finanzierungsrahmen 2014–2020', 'doc_count': 1}, {'key': 'Heinrich Vetter Stiftung', 'doc_count': 1}, {'key': 'Ministerio de Economía y Competitividad, Spain', 'doc_count': 1}]}}}\n"
     ]
    }
   ],
   "source": [
    "print(res)"
   ]
  },
  {
   "cell_type": "code",
   "execution_count": 9,
   "id": "7d91b7c2-d6c2-4801-8a88-af4cc1e56bee",
   "metadata": {},
   "outputs": [
    {
     "name": "stdout",
     "output_type": "stream",
     "text": [
      "Deutsche Forschungsgemeinschaft 2\n",
      "Academic Fund Program at the National Research University Higher School of Economics (HSE) 1\n",
      "Advanced Investigator Grant 1\n",
      "Center for Advanced Studies at the University of Munich 1\n",
      "DFG 1\n",
      "DFG AR 231/9-12 1\n",
      "Deutsche Forschungsgemeinschaft - Sonderforschungsbereich Materiale Textkulturen 1\n",
      "Europäischer Fonds für regionale Entwicklung (FEDER), Finanzierungsrahmen 2014–2020 1\n",
      "Heinrich Vetter Stiftung 1\n",
      "Ministerio de Economía y Competitividad, Spain 1\n"
     ]
    }
   ],
   "source": [
    "facet_buckets=res[\"aggregations\"][\"facets\"]['buckets']\n",
    "facet_dict={}\n",
    "for bucket in facet_buckets:\n",
    "    key=bucket['key']\n",
    "    doc_ct=bucket['doc_count']\n",
    "    print(key,doc_ct)\n",
    "    facet_dict[key]=doc_ct"
   ]
  },
  {
   "cell_type": "code",
   "execution_count": 10,
   "id": "6a8c4ef1-d78a-4c11-9eba-500e67e1888f",
   "metadata": {},
   "outputs": [
    {
     "data": {
      "text/plain": [
       "{'Deutsche Forschungsgemeinschaft': 2,\n",
       " 'Academic Fund Program at the National Research University Higher School of Economics (HSE)': 1,\n",
       " 'Advanced Investigator Grant': 1,\n",
       " 'Center for Advanced Studies at the University of Munich': 1,\n",
       " 'DFG': 1,\n",
       " 'DFG AR 231/9-12': 1,\n",
       " 'Deutsche Forschungsgemeinschaft - Sonderforschungsbereich Materiale Textkulturen': 1,\n",
       " 'Europäischer Fonds für regionale Entwicklung (FEDER), Finanzierungsrahmen 2014–2020': 1,\n",
       " 'Heinrich Vetter Stiftung': 1,\n",
       " 'Ministerio de Economía y Competitividad, Spain': 1}"
      ]
     },
     "execution_count": 10,
     "metadata": {},
     "output_type": "execute_result"
    }
   ],
   "source": [
    "facet_dict"
   ]
  },
  {
   "cell_type": "code",
   "execution_count": null,
   "id": "82545327-6fa4-49ae-bf0d-9119537bb7f8",
   "metadata": {},
   "outputs": [],
   "source": []
  }
 ],
 "metadata": {
  "kernelspec": {
   "display_name": "Python 3",
   "language": "python",
   "name": "python3"
  },
  "language_info": {
   "codemirror_mode": {
    "name": "ipython",
    "version": 3
   },
   "file_extension": ".py",
   "mimetype": "text/x-python",
   "name": "python",
   "nbconvert_exporter": "python",
   "pygments_lexer": "ipython3",
   "version": "3.9.6"
  }
 },
 "nbformat": 4,
 "nbformat_minor": 5
}
