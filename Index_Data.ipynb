{
 "cells": [
  {
   "cell_type": "markdown",
   "id": "a683fc45-da0e-433b-8fe2-57487e926f32",
   "metadata": {},
   "source": [
    "# Load and Index Data"
   ]
  },
  {
   "cell_type": "code",
   "execution_count": 266,
   "id": "cf03628b-b57b-42a8-944e-8d63d87be56a",
   "metadata": {},
   "outputs": [],
   "source": [
    "from elasticsearch import Elasticsearch\n",
    "import json"
   ]
  },
  {
   "cell_type": "code",
   "execution_count": 267,
   "id": "83dafdb1-b652-4327-82fd-2fda9760a58a",
   "metadata": {},
   "outputs": [],
   "source": [
    "# Elastic search configuation\n",
    "es = Elasticsearch(HOST=\"http://localhost\", PORT=9200)"
   ]
  },
  {
   "cell_type": "code",
   "execution_count": 36,
   "id": "fe1add62-0918-4223-9a24-7591640862c9",
   "metadata": {},
   "outputs": [
    {
     "name": "stdout",
     "output_type": "stream",
     "text": [
      "100\n"
     ]
    }
   ],
   "source": [
    "# Load file\n",
    "\n",
    "file='harvard_dataverse.json'\n",
    "\n",
    "with open(file, 'r', encoding='utf-8') as f:\n",
    "    data=json.loads(f.read())\n",
    "\n",
    "print(len(data))\n"
   ]
  },
  {
   "cell_type": "code",
   "execution_count": 37,
   "id": "2b4b5838-31b9-463f-a40a-0ea1c4758cbf",
   "metadata": {},
   "outputs": [],
   "source": [
    "for obj in data:\n",
    "    #print(\"-----\")\n",
    "    obj_id=obj[\"@id\"]\n",
    "    es.index(index=\"harvardmetadata\", doc_type=\"metadata\", id=obj_id, body=obj)\n",
    "    \n",
    "    \n"
   ]
  },
  {
   "cell_type": "code",
   "execution_count": 39,
   "id": "e1205e17-1664-4aea-a57e-50bae3799689",
   "metadata": {
    "tags": []
   },
   "outputs": [
    {
     "data": {
      "text/plain": [
       "{'acknowledged': True}"
      ]
     },
     "execution_count": 39,
     "metadata": {},
     "output_type": "execute_result"
    }
   ],
   "source": [
    "es.indices.put_mapping(\n",
    "    index=\"harvardmetadata\",\n",
    "    doc_type=\"metadata\",\n",
    "    include_type_name=True,\n",
    "    body=\n",
    "    {\n",
    "        'properties': {\n",
    "            '@context': {\n",
    "                'type': 'text',\n",
    "                'fields': {\n",
    "                    'keyword': {\n",
    "                        'type': 'keyword', 'ignore_above': 256}}},\n",
    "    '@id': {'type': 'text',\n",
    "     'fields': {'keyword': {'type': 'keyword', 'ignore_above': 256}}},\n",
    "    '@type': {'type': 'text',\n",
    "     'fields': {'keyword': {'type': 'keyword', 'ignore_above': 256}}},\n",
    "    'author': {'properties': {'affiliation': {'type': 'text',\n",
    "       'fields': {'keyword': {'type': 'keyword', 'ignore_above': 256}}},\n",
    "      'name': {'type': 'text',\n",
    "       'fields': {'keyword': {'type': 'keyword', 'ignore_above': 256}}}}},\n",
    "    'citation': {'properties': {'@type': {'type': 'text',\n",
    "       'fields': {'keyword': {'type': 'keyword', 'ignore_above': 256}}},\n",
    "      'text': {'type': 'text',\n",
    "       'fields': {'keyword': {'type': 'keyword', 'ignore_above': 256}}}}},\n",
    "    'creator': {'properties': {'affiliation': {'type': 'text',\n",
    "       'fields': {'keyword': {'type': 'keyword', 'ignore_above': 256}}},\n",
    "      'name': {'type': 'text',\n",
    "       'fields': {'keyword': {'type': 'keyword', 'ignore_above': 256}}}}},\n",
    "    'dateModified': {'type': 'date'},\n",
    "    'datePublished': {'type': 'date'},\n",
    "    'description': {'type': 'text',\n",
    "     'fields': {'keyword': {'type': 'keyword', 'ignore_above': 256}}},\n",
    "    'distribution': {'properties': {'@id': {'type': 'text',\n",
    "       'fields': {'keyword': {'type': 'keyword', 'ignore_above': 256}}},\n",
    "      '@type': {'type': 'text',\n",
    "       'fields': {'keyword': {'type': 'keyword', 'ignore_above': 256}}},\n",
    "      'contentSize': {'type': 'long'},\n",
    "      'fileFormat': {'type': 'text',\n",
    "       'fields': {'keyword': {'type': 'keyword', 'ignore_above': 256}}},\n",
    "      'identifier': {'type': 'text',\n",
    "       'fields': {'keyword': {'type': 'keyword', 'ignore_above': 256}}},\n",
    "      'name': {'type': 'text',\n",
    "       'fields': {'keyword': {'type': 'keyword', 'ignore_above': 256}}}}},\n",
    "    'funder': {'properties': {'@type': {'type': 'text',\n",
    "       'fields': {'keyword': {'type': 'keyword', 'ignore_above': 256}}},\n",
    "      'name': {'type': 'text',\n",
    "       'fields': {'keyword': {'type': 'keyword', 'ignore_above': 256}}}}},\n",
    "    'identifier': {'type': 'text',\n",
    "     'fields': {'keyword': {'type': 'keyword', 'ignore_above': 256}}},\n",
    "    'includedInDataCatalog': {'properties': {'@type': {'type': 'text',\n",
    "       'fields': {'keyword': {'type': 'keyword', 'ignore_above': 256}}},\n",
    "      'name': {'type': 'text',\n",
    "       'fields': {'keyword': {'type': 'keyword', 'ignore_above': 256}}},\n",
    "      'url': {'type': 'text',\n",
    "       'fields': {'keyword': {'type': 'keyword', 'ignore_above': 256}}}}},\n",
    "    'keywords': {'type': 'text',\n",
    "     'fields': {'keyword': {'type': 'keyword', 'ignore_above': 256}}},\n",
    "    'license': {'properties': {'@type': {'type': 'text',\n",
    "       'fields': {'keyword': {'type': 'keyword', 'ignore_above': 256}}},\n",
    "      'text': {'type': 'text',\n",
    "       'fields': {'keyword': {'type': 'keyword', 'ignore_above': 256}}}}},\n",
    "    'name': {'type': 'text',\n",
    "     'fields': {'keyword': {'type': 'keyword', 'ignore_above': 256}}},\n",
    "    'provider': {'properties': {'@type': {'type': 'text',\n",
    "       'fields': {'keyword': {'type': 'keyword', 'ignore_above': 256}}},\n",
    "      'name': {'type': 'text',\n",
    "       'fields': {'keyword': {'type': 'keyword', 'ignore_above': 256}}}}},\n",
    "    'publisher': {'properties': {'@type': {'type': 'text',\n",
    "       'fields': {'keyword': {'type': 'keyword', 'ignore_above': 256}}},\n",
    "      'name': {'type': 'text',\n",
    "       'fields': {'keyword': {'type': 'keyword', 'ignore_above': 256}}}}},\n",
    "    'version': {'type': 'text',\n",
    "     'fields': {'keyword': {'type': 'keyword', 'ignore_above': 256}}}}}\n",
    "    \n",
    ")\n"
   ]
  },
  {
   "cell_type": "markdown",
   "id": "43b9b802-62bc-4818-a794-bfa12a0f37f4",
   "metadata": {},
   "source": [
    "## Testing Queries"
   ]
  },
  {
   "cell_type": "code",
   "execution_count": 268,
   "id": "d102b232-845b-4a61-9220-b0de101f1a0f",
   "metadata": {},
   "outputs": [],
   "source": [
    "\n",
    "query1={\n",
    "        \"query\": {\n",
    "            \"match\":{\n",
    "              \"@id\": {\n",
    "                \"query\": \"https://doi.org/10.11588/data/0HJW2A\"\n",
    "              }\n",
    "            }\n",
    "        }\n",
    "    }"
   ]
  },
  {
   "cell_type": "code",
   "execution_count": 269,
   "id": "f24c4c2b-e6c3-4203-b25a-63a25bac93d3",
   "metadata": {},
   "outputs": [],
   "source": [
    "q=\"https://doi.org/10.11588/data/10010\""
   ]
  },
  {
   "cell_type": "code",
   "execution_count": 276,
   "id": "49b2169b-4916-4c29-a214-a2293ccb2a08",
   "metadata": {},
   "outputs": [],
   "source": [
    "field=\"keywords\"\n",
    "z= \"Earth and Environmental Sciences\"#'Epigraphik'#"
   ]
  },
  {
   "cell_type": "code",
   "execution_count": 277,
   "id": "c807ee0f-8886-4834-b960-c5d0a1543879",
   "metadata": {},
   "outputs": [],
   "source": [
    "id_query={\n",
    "    \"query\": {\n",
    "        \"ids\" : {\n",
    "            \"type\" : \"metadata\",\n",
    "            \"values\" : [q]\n",
    "        }\n",
    "    }\n",
    "}\n",
    "\n",
    "\n",
    "keyword_query={\n",
    "  \"query\": {\n",
    "    \"match_phrase\": {\n",
    "        field: {\n",
    "          \"query\": z\n",
    "        }\n",
    "    }\n",
    "  }\n",
    "}\n",
    "\n"
   ]
  },
  {
   "cell_type": "code",
   "execution_count": 278,
   "id": "72965a7b-82f3-4c5b-aa51-a61ce8006bcd",
   "metadata": {},
   "outputs": [],
   "source": [
    "res=es.search(index=\"harvardmetadata\", doc_type=\"metadata\", body=id_query)\n",
    "res2=es.search(index=\"harvardmetadata\", doc_type=\"metadata\", body=keyword_query)\n"
   ]
  },
  {
   "cell_type": "code",
   "execution_count": 279,
   "id": "57c658e5-367c-4748-a9b6-cf093ab21cd7",
   "metadata": {},
   "outputs": [
    {
     "name": "stdout",
     "output_type": "stream",
     "text": [
      "---\n",
      "['{\\n    \"@context\":\"http://schema.org\",\\n    \"@type\":\"Dataset\",\\n    \"@id\":\"https://doi.org/10.11588/data/3GYJUG\",\\n    \"identifier\":\"https://doi.org/10.11588/data/3GYJUG\",\\n    \"name\":\"MapSwipe: global dataset of crowdsourced classifications on human settlements and reference datasets\",\\n    \"creator\":[\\n        {\\n            \"name\":\"Herfort, Benjamin\",\\n            \"affiliation\":\"Institute of Geography, Heidelberg University\"\\n        }\\n    ],\\n    \"author\":[\\n        {\\n            \"name\":\"Herfort, Benjamin\",\\n            \"affiliation\":\"Institute of Geography, Heidelberg University\"\\n        }\\n    ],\\n    \"datePublished\":\"2018-04-16\",\\n    \"dateModified\":\"2018-04-16\",\\n    \"version\":\"1\",\\n    \"description\":[\\n        \"MapSwipe is a mobile crowdsourcing application designed for smartphones and tablets to generate geographic information from satellite imagery. Data from 55 projects containing more than nine million tasks and more than 30 million individual classification results contributed by about 7,500 users are covered by this dataset. Furthermore, reference datasets obtained manually and derived from OpenStreetMap are provided.\"\\n    ],\\n    \"keywords\":[\\n        \"Earth and Environmental Sciences\",\\n        \"Crowdsourcing\",\\n        \"Validation\"\\n    ],\\n    \"citation\":[\\n        {\\n            \"@type\":\"CreativeWork\",\\n            \"text\":\"Herfort, B. (2018). Understanding MapSwipe: Analysing Data Quality of Crowdsourced Classifications on Human Settlements.\",\\n            \"@id\":\"https://doi.org/10.11588/heidok.00024257\",\\n            \"identifier\":\"https://doi.org/10.11588/heidok.00024257\"\\n        }\\n    ],\\n    \"temporalCoverage\":[\\n        \"2016-07-30/2017-07-25\"\\n    ],\\n    \"license\":{\\n        \"@type\":\"Dataset\",\\n        \"text\":\"Licensed under a <a href=\\'http://creativecommons.org/licenses/by/4.0/\\'>Creative Commons Attribution 4.0 International License. &#160;<img src=\\'https://i.creativecommons.org/l/by/4.0/80x15.png\\' alt=\\'CC by\\' /></a>\"\\n    },\\n    \"includedInDataCatalog\":{\\n        \"@type\":\"DataCatalog\",\\n        \"name\":\"heiDATA\",\\n        \"url\":\"https://heidata.uni-heidelberg.de\"\\n    },\\n    \"publisher\":{\\n        \"@type\":\"Organization\",\\n        \"name\":\"heiDATA\"\\n    },\\n    \"provider\":{\\n        \"@type\":\"Organization\",\\n        \"name\":\"heiDATA\"\\n    },\\n    \"spatialCoverage\":[\\n        \"Madagascar\",\\n        \"Lao People\\'s Democratic Republic\",\\n        \"South Sudan\",\\n        \"Botswana\",\\n        \"Guatemala\",\\n        \"Nigeria\",\\n        \"Cambodia\",\\n        \"Malawi\",\\n        \"Sierra Leone\",\\n        \"Chad\",\\n        \"Guinea-Bissau\"\\n    ],\\n    \"distribution\":[\\n        {\\n            \"@type\":\"DataDownload\",\\n            \"name\":\"global_datasets.zip\",\\n            \"fileFormat\":\"application/zip\",\\n            \"contentSize\":311866296\\n        },\\n        {\\n            \"@type\":\"DataDownload\",\\n            \"name\":\"laos_datasets.zip\",\\n            \"fileFormat\":\"application/zip\",\\n            \"contentSize\":145524925\\n        },\\n        {\\n            \"@type\":\"DataDownload\",\\n            \"name\":\"readme.txt\",\\n            \"fileFormat\":\"text/plain\",\\n            \"contentSize\":2960\\n        },\\n        {\\n            \"@type\":\"DataDownload\",\\n            \"name\":\"results.zip\",\\n            \"fileFormat\":\"application/zip\",\\n            \"contentSize\":894311021\\n        }\\n    ]\\n}']\n",
      "---\n",
      "['{\\n    \"@context\":\"http://schema.org\",\\n    \"@type\":\"Dataset\",\\n    \"@id\":\"https://doi.org/10.11588/data/3GYJUG\",\\n    \"identifier\":\"https://doi.org/10.11588/data/3GYJUG\",\\n    \"name\":\"MapSwipe: global dataset of crowdsourced classifications on human settlements and reference datasets\",\\n    \"creator\":[\\n        {\\n            \"name\":\"Herfort, Benjamin\",\\n            \"affiliation\":\"Institute of Geography, Heidelberg University\"\\n        }\\n    ],\\n    \"author\":[\\n        {\\n            \"name\":\"Herfort, Benjamin\",\\n            \"affiliation\":\"Institute of Geography, Heidelberg University\"\\n        }\\n    ],\\n    \"datePublished\":\"2018-04-16\",\\n    \"dateModified\":\"2018-04-16\",\\n    \"version\":\"1\",\\n    \"description\":[\\n        \"MapSwipe is a mobile crowdsourcing application designed for smartphones and tablets to generate geographic information from satellite imagery. Data from 55 projects containing more than nine million tasks and more than 30 million individual classification results contributed by about 7,500 users are covered by this dataset. Furthermore, reference datasets obtained manually and derived from OpenStreetMap are provided.\"\\n    ],\\n    \"keywords\":[\\n        \"Earth and Environmental Sciences\",\\n        \"Crowdsourcing\",\\n        \"Validation\"\\n    ],\\n    \"citation\":[\\n        {\\n            \"@type\":\"CreativeWork\",\\n            \"text\":\"Herfort, B. (2018). Understanding MapSwipe: Analysing Data Quality of Crowdsourced Classifications on Human Settlements.\",\\n            \"@id\":\"https://doi.org/10.11588/heidok.00024257\",\\n            \"identifier\":\"https://doi.org/10.11588/heidok.00024257\"\\n        }\\n    ],\\n    \"temporalCoverage\":[\\n        \"2016-07-30/2017-07-25\"\\n    ],\\n    \"license\":{\\n        \"@type\":\"Dataset\",\\n        \"text\":\"Licensed under a <a href=\\'http://creativecommons.org/licenses/by/4.0/\\'>Creative Commons Attribution 4.0 International License. &#160;<img src=\\'https://i.creativecommons.org/l/by/4.0/80x15.png\\' alt=\\'CC by\\' /></a>\"\\n    },\\n    \"includedInDataCatalog\":{\\n        \"@type\":\"DataCatalog\",\\n        \"name\":\"heiDATA\",\\n        \"url\":\"https://heidata.uni-heidelberg.de\"\\n    },\\n    \"publisher\":{\\n        \"@type\":\"Organization\",\\n        \"name\":\"heiDATA\"\\n    },\\n    \"provider\":{\\n        \"@type\":\"Organization\",\\n        \"name\":\"heiDATA\"\\n    },\\n    \"spatialCoverage\":[\\n        \"Madagascar\",\\n        \"Lao People\\'s Democratic Republic\",\\n        \"South Sudan\",\\n        \"Botswana\",\\n        \"Guatemala\",\\n        \"Nigeria\",\\n        \"Cambodia\",\\n        \"Malawi\",\\n        \"Sierra Leone\",\\n        \"Chad\",\\n        \"Guinea-Bissau\"\\n    ],\\n    \"distribution\":[\\n        {\\n            \"@type\":\"DataDownload\",\\n            \"name\":\"global_datasets.zip\",\\n            \"fileFormat\":\"application/zip\",\\n            \"contentSize\":311866296\\n        },\\n        {\\n            \"@type\":\"DataDownload\",\\n            \"name\":\"laos_datasets.zip\",\\n            \"fileFormat\":\"application/zip\",\\n            \"contentSize\":145524925\\n        },\\n        {\\n            \"@type\":\"DataDownload\",\\n            \"name\":\"readme.txt\",\\n            \"fileFormat\":\"text/plain\",\\n            \"contentSize\":2960\\n        },\\n        {\\n            \"@type\":\"DataDownload\",\\n            \"name\":\"results.zip\",\\n            \"fileFormat\":\"application/zip\",\\n            \"contentSize\":894311021\\n        }\\n    ]\\n}', '{\\n    \"@context\":\"http://schema.org\",\\n    \"@type\":\"Dataset\",\\n    \"@id\":\"https://doi.org/10.11588/data/10098\",\\n    \"identifier\":\"https://doi.org/10.11588/data/10098\",\\n    \"name\":\"A European-wide 222Radon and 222Radon progeny comparison study [Dataset]\",\\n    \"creator\":[\\n        {\\n            \"name\":\"Schmith\\\\u00fcsen, Dominik\",\\n            \"affiliation\":\"Institute of Environmental Physics\"\\n        },\\n        {\\n            \"name\":\"Chambers, Scott\"\\n        },\\n        {\\n            \"name\":\"Fischer, Bernd\"\\n        },\\n        {\\n            \"name\":\"Gilge, Stefan\"\\n        },\\n        {\\n            \"name\":\"Hattaka, Juha\"\\n        },\\n        {\\n            \"name\":\"Kazan, Victor\"\\n        },\\n        {\\n            \"name\":\"Neubert, Rolf\"\\n        },\\n        {\\n            \"name\":\"Paatero, Jussi\"\\n        },\\n        {\\n            \"name\":\"Ramonet, Michel\"\\n        },\\n        {\\n            \"name\":\"Schlosser, Clemens\"\\n        },\\n        {\\n            \"name\":\"Schmid, Sabine\"\\n        },\\n        {\\n            \"name\":\"Vermeulen, Alex\"\\n        },\\n        {\\n            \"name\":\"Levin, Ingeborg\",\\n            \"affiliation\":\"Institute of Environmental Physics\"\\n        }\\n    ],\\n    \"author\":[\\n        {\\n            \"name\":\"Schmith\\\\u00fcsen, Dominik\",\\n            \"affiliation\":\"Institute of Environmental Physics\"\\n        },\\n        {\\n            \"name\":\"Chambers, Scott\"\\n        },\\n        {\\n            \"name\":\"Fischer, Bernd\"\\n        },\\n        {\\n            \"name\":\"Gilge, Stefan\"\\n        },\\n        {\\n            \"name\":\"Hattaka, Juha\"\\n        },\\n        {\\n            \"name\":\"Kazan, Victor\"\\n        },\\n        {\\n            \"name\":\"Neubert, Rolf\"\\n        },\\n        {\\n            \"name\":\"Paatero, Jussi\"\\n        },\\n        {\\n            \"name\":\"Ramonet, Michel\"\\n        },\\n        {\\n            \"name\":\"Schlosser, Clemens\"\\n        },\\n        {\\n            \"name\":\"Schmid, Sabine\"\\n        },\\n        {\\n            \"name\":\"Vermeulen, Alex\"\\n        },\\n        {\\n            \"name\":\"Levin, Ingeborg\",\\n            \"affiliation\":\"Institute of Environmental Physics\"\\n        }\\n    ],\\n    \"datePublished\":\"2017-03-13\",\\n    \"dateModified\":\"2017-04-05\",\\n    \"version\":\"2\",\\n    \"description\":[\\n        \"Although atmospheric 222Radon (222Rn) activity concentration measurements are currently performed world-wide, they are being made by many different laboratories and with fundamentally different measurement principles, so compatibility issues can limit their utility for regional-to-global applications. Consequently, we conducted a European\\\\u2010wide 222Rn/222Rn progeny comparison study in order to evaluate the different measurement systems in use, determine potential systematic biases between them, and estimate correction factors that could be applied to harmonize data for their use as a tracer in atmospheric applications. Two compact portable Heidelberg Radon Monitors (HRM) were moved around to run for at least one month at each of the nine European measurement stations included in this comparison. Linear regressions between parallel data sets were calculated, yielding correction factors rela tive to the HRM ranging from 0.68 to 1.45. A calibration bias between ANSTO (Australian Nuclear Science and Technology Organisation) two\\\\u2010filter radon monitors and the HRM of ANSTO/HRM = 1.11\\\\u00b10.05 was found. Moreover, for the continental stations using one\\\\u2010filter systems that derive atmospheric 222Rn activity concentrations from measured atmospheric progeny activity concentrations, preliminary 214Po/222Rn disequilibrium values were also estimated. Mean station-specific disequilibrium values between 0.8 at mountain sites (e.g. Schauinsland) and 0.9 at non\\\\u2010mountain sites for sampling heights around 20 to 30 m above ground level were determined. The respective corrections for calibration biases and disequilibrium derived in this study need to be applied to obtain a compatible European atmospheric 222Rn data set for use in quantitative applications, such as regional model intercomparison and validation, or trace gas flux estimates with the Radon\\\\u2010Tracer\\\\u2010Method.\"\\n    ],\\n    \"keywords\":[\\n        \"Earth and Environmental Sciences\",\\n        \"Physics\",\\n        \"atmospheric radon activity concentrations\"\\n    ],\\n    \"citation\":[\\n        {\\n            \"@type\":\"CreativeWork\",\\n            \"text\":\"Schmith\\\\u00fcsen, D., Chambers, S., Fischer, B., Gilge, S., Hatakka, J., Kazan, V., Neubert, R., Paatero, J., Ramonet, M., Schlosser, C., Schmid, S., Vermeulen, A., and Levin, I. (2016). A European-wide \\\\n<sup>222</sup>Radon and \\\\n<sup>222</sup>Radon progeny comparison study. Atmos. Meas. Tech., 10, 1299-1312, 2017.\",\\n            \"@id\":\"https://doi.org/10.5194/amt-10-1299-2017\",\\n            \"identifier\":\"https://doi.org/10.5194/amt-10-1299-2017\"\\n        }\\n    ],\\n    \"temporalCoverage\":[\\n        \"2007-01/2015-07\"\\n    ],\\n    \"license\":{\\n        \"@type\":\"Dataset\",\\n        \"text\":\"Licensed under a <a href=\\'http://creativecommons.org/licenses/by/4.0/\\'>Creative Commons Attribution 4.0 International. &#160;<img src=\\'https://i.creativecommons.org/l/by/4.0/80x15.png\\' alt=\\'CC by\\' /></a>\"\\n    },\\n    \"includedInDataCatalog\":{\\n        \"@type\":\"DataCatalog\",\\n        \"name\":\"heiDATA\",\\n        \"url\":\"https://heidata.uni-heidelberg.de\"\\n    },\\n    \"publisher\":{\\n        \"@type\":\"Organization\",\\n        \"name\":\"heiDATA\"\\n    },\\n    \"provider\":{\\n        \"@type\":\"Organization\",\\n        \"name\":\"heiDATA\"\\n    },\\n    \"spatialCoverage\":[\\n        \"Europe\"\\n    ],\\n    \"distribution\":[\\n        {\\n            \"@type\":\"DataDownload\",\\n            \"name\":\"amt-2016-111-supplement.pdf\",\\n            \"fileFormat\":\"application/pdf\",\\n            \"contentSize\":980614,\\n            \"description\":\"\"\\n        },\\n        {\\n            \"@type\":\"DataDownload\",\\n            \"name\":\"Schmith\\\\u00fcsen_et_al_AMT_Dataset.xlsx\",\\n            \"fileFormat\":\"application/octet-stream\",\\n            \"contentSize\":1872011,\\n            \"description\":\"\"\\n        }\\n    ]\\n}']\n",
      "---\n",
      "['{\\n    \"@context\":\"http://schema.org\",\\n    \"@type\":\"Dataset\",\\n    \"@id\":\"https://doi.org/10.11588/data/3GYJUG\",\\n    \"identifier\":\"https://doi.org/10.11588/data/3GYJUG\",\\n    \"name\":\"MapSwipe: global dataset of crowdsourced classifications on human settlements and reference datasets\",\\n    \"creator\":[\\n        {\\n            \"name\":\"Herfort, Benjamin\",\\n            \"affiliation\":\"Institute of Geography, Heidelberg University\"\\n        }\\n    ],\\n    \"author\":[\\n        {\\n            \"name\":\"Herfort, Benjamin\",\\n            \"affiliation\":\"Institute of Geography, Heidelberg University\"\\n        }\\n    ],\\n    \"datePublished\":\"2018-04-16\",\\n    \"dateModified\":\"2018-04-16\",\\n    \"version\":\"1\",\\n    \"description\":[\\n        \"MapSwipe is a mobile crowdsourcing application designed for smartphones and tablets to generate geographic information from satellite imagery. Data from 55 projects containing more than nine million tasks and more than 30 million individual classification results contributed by about 7,500 users are covered by this dataset. Furthermore, reference datasets obtained manually and derived from OpenStreetMap are provided.\"\\n    ],\\n    \"keywords\":[\\n        \"Earth and Environmental Sciences\",\\n        \"Crowdsourcing\",\\n        \"Validation\"\\n    ],\\n    \"citation\":[\\n        {\\n            \"@type\":\"CreativeWork\",\\n            \"text\":\"Herfort, B. (2018). Understanding MapSwipe: Analysing Data Quality of Crowdsourced Classifications on Human Settlements.\",\\n            \"@id\":\"https://doi.org/10.11588/heidok.00024257\",\\n            \"identifier\":\"https://doi.org/10.11588/heidok.00024257\"\\n        }\\n    ],\\n    \"temporalCoverage\":[\\n        \"2016-07-30/2017-07-25\"\\n    ],\\n    \"license\":{\\n        \"@type\":\"Dataset\",\\n        \"text\":\"Licensed under a <a href=\\'http://creativecommons.org/licenses/by/4.0/\\'>Creative Commons Attribution 4.0 International License. &#160;<img src=\\'https://i.creativecommons.org/l/by/4.0/80x15.png\\' alt=\\'CC by\\' /></a>\"\\n    },\\n    \"includedInDataCatalog\":{\\n        \"@type\":\"DataCatalog\",\\n        \"name\":\"heiDATA\",\\n        \"url\":\"https://heidata.uni-heidelberg.de\"\\n    },\\n    \"publisher\":{\\n        \"@type\":\"Organization\",\\n        \"name\":\"heiDATA\"\\n    },\\n    \"provider\":{\\n        \"@type\":\"Organization\",\\n        \"name\":\"heiDATA\"\\n    },\\n    \"spatialCoverage\":[\\n        \"Madagascar\",\\n        \"Lao People\\'s Democratic Republic\",\\n        \"South Sudan\",\\n        \"Botswana\",\\n        \"Guatemala\",\\n        \"Nigeria\",\\n        \"Cambodia\",\\n        \"Malawi\",\\n        \"Sierra Leone\",\\n        \"Chad\",\\n        \"Guinea-Bissau\"\\n    ],\\n    \"distribution\":[\\n        {\\n            \"@type\":\"DataDownload\",\\n            \"name\":\"global_datasets.zip\",\\n            \"fileFormat\":\"application/zip\",\\n            \"contentSize\":311866296\\n        },\\n        {\\n            \"@type\":\"DataDownload\",\\n            \"name\":\"laos_datasets.zip\",\\n            \"fileFormat\":\"application/zip\",\\n            \"contentSize\":145524925\\n        },\\n        {\\n            \"@type\":\"DataDownload\",\\n            \"name\":\"readme.txt\",\\n            \"fileFormat\":\"text/plain\",\\n            \"contentSize\":2960\\n        },\\n        {\\n            \"@type\":\"DataDownload\",\\n            \"name\":\"results.zip\",\\n            \"fileFormat\":\"application/zip\",\\n            \"contentSize\":894311021\\n        }\\n    ]\\n}', '{\\n    \"@context\":\"http://schema.org\",\\n    \"@type\":\"Dataset\",\\n    \"@id\":\"https://doi.org/10.11588/data/10098\",\\n    \"identifier\":\"https://doi.org/10.11588/data/10098\",\\n    \"name\":\"A European-wide 222Radon and 222Radon progeny comparison study [Dataset]\",\\n    \"creator\":[\\n        {\\n            \"name\":\"Schmith\\\\u00fcsen, Dominik\",\\n            \"affiliation\":\"Institute of Environmental Physics\"\\n        },\\n        {\\n            \"name\":\"Chambers, Scott\"\\n        },\\n        {\\n            \"name\":\"Fischer, Bernd\"\\n        },\\n        {\\n            \"name\":\"Gilge, Stefan\"\\n        },\\n        {\\n            \"name\":\"Hattaka, Juha\"\\n        },\\n        {\\n            \"name\":\"Kazan, Victor\"\\n        },\\n        {\\n            \"name\":\"Neubert, Rolf\"\\n        },\\n        {\\n            \"name\":\"Paatero, Jussi\"\\n        },\\n        {\\n            \"name\":\"Ramonet, Michel\"\\n        },\\n        {\\n            \"name\":\"Schlosser, Clemens\"\\n        },\\n        {\\n            \"name\":\"Schmid, Sabine\"\\n        },\\n        {\\n            \"name\":\"Vermeulen, Alex\"\\n        },\\n        {\\n            \"name\":\"Levin, Ingeborg\",\\n            \"affiliation\":\"Institute of Environmental Physics\"\\n        }\\n    ],\\n    \"author\":[\\n        {\\n            \"name\":\"Schmith\\\\u00fcsen, Dominik\",\\n            \"affiliation\":\"Institute of Environmental Physics\"\\n        },\\n        {\\n            \"name\":\"Chambers, Scott\"\\n        },\\n        {\\n            \"name\":\"Fischer, Bernd\"\\n        },\\n        {\\n            \"name\":\"Gilge, Stefan\"\\n        },\\n        {\\n            \"name\":\"Hattaka, Juha\"\\n        },\\n        {\\n            \"name\":\"Kazan, Victor\"\\n        },\\n        {\\n            \"name\":\"Neubert, Rolf\"\\n        },\\n        {\\n            \"name\":\"Paatero, Jussi\"\\n        },\\n        {\\n            \"name\":\"Ramonet, Michel\"\\n        },\\n        {\\n            \"name\":\"Schlosser, Clemens\"\\n        },\\n        {\\n            \"name\":\"Schmid, Sabine\"\\n        },\\n        {\\n            \"name\":\"Vermeulen, Alex\"\\n        },\\n        {\\n            \"name\":\"Levin, Ingeborg\",\\n            \"affiliation\":\"Institute of Environmental Physics\"\\n        }\\n    ],\\n    \"datePublished\":\"2017-03-13\",\\n    \"dateModified\":\"2017-04-05\",\\n    \"version\":\"2\",\\n    \"description\":[\\n        \"Although atmospheric 222Radon (222Rn) activity concentration measurements are currently performed world-wide, they are being made by many different laboratories and with fundamentally different measurement principles, so compatibility issues can limit their utility for regional-to-global applications. Consequently, we conducted a European\\\\u2010wide 222Rn/222Rn progeny comparison study in order to evaluate the different measurement systems in use, determine potential systematic biases between them, and estimate correction factors that could be applied to harmonize data for their use as a tracer in atmospheric applications. Two compact portable Heidelberg Radon Monitors (HRM) were moved around to run for at least one month at each of the nine European measurement stations included in this comparison. Linear regressions between parallel data sets were calculated, yielding correction factors rela tive to the HRM ranging from 0.68 to 1.45. A calibration bias between ANSTO (Australian Nuclear Science and Technology Organisation) two\\\\u2010filter radon monitors and the HRM of ANSTO/HRM = 1.11\\\\u00b10.05 was found. Moreover, for the continental stations using one\\\\u2010filter systems that derive atmospheric 222Rn activity concentrations from measured atmospheric progeny activity concentrations, preliminary 214Po/222Rn disequilibrium values were also estimated. Mean station-specific disequilibrium values between 0.8 at mountain sites (e.g. Schauinsland) and 0.9 at non\\\\u2010mountain sites for sampling heights around 20 to 30 m above ground level were determined. The respective corrections for calibration biases and disequilibrium derived in this study need to be applied to obtain a compatible European atmospheric 222Rn data set for use in quantitative applications, such as regional model intercomparison and validation, or trace gas flux estimates with the Radon\\\\u2010Tracer\\\\u2010Method.\"\\n    ],\\n    \"keywords\":[\\n        \"Earth and Environmental Sciences\",\\n        \"Physics\",\\n        \"atmospheric radon activity concentrations\"\\n    ],\\n    \"citation\":[\\n        {\\n            \"@type\":\"CreativeWork\",\\n            \"text\":\"Schmith\\\\u00fcsen, D., Chambers, S., Fischer, B., Gilge, S., Hatakka, J., Kazan, V., Neubert, R., Paatero, J., Ramonet, M., Schlosser, C., Schmid, S., Vermeulen, A., and Levin, I. (2016). A European-wide \\\\n<sup>222</sup>Radon and \\\\n<sup>222</sup>Radon progeny comparison study. Atmos. Meas. Tech., 10, 1299-1312, 2017.\",\\n            \"@id\":\"https://doi.org/10.5194/amt-10-1299-2017\",\\n            \"identifier\":\"https://doi.org/10.5194/amt-10-1299-2017\"\\n        }\\n    ],\\n    \"temporalCoverage\":[\\n        \"2007-01/2015-07\"\\n    ],\\n    \"license\":{\\n        \"@type\":\"Dataset\",\\n        \"text\":\"Licensed under a <a href=\\'http://creativecommons.org/licenses/by/4.0/\\'>Creative Commons Attribution 4.0 International. &#160;<img src=\\'https://i.creativecommons.org/l/by/4.0/80x15.png\\' alt=\\'CC by\\' /></a>\"\\n    },\\n    \"includedInDataCatalog\":{\\n        \"@type\":\"DataCatalog\",\\n        \"name\":\"heiDATA\",\\n        \"url\":\"https://heidata.uni-heidelberg.de\"\\n    },\\n    \"publisher\":{\\n        \"@type\":\"Organization\",\\n        \"name\":\"heiDATA\"\\n    },\\n    \"provider\":{\\n        \"@type\":\"Organization\",\\n        \"name\":\"heiDATA\"\\n    },\\n    \"spatialCoverage\":[\\n        \"Europe\"\\n    ],\\n    \"distribution\":[\\n        {\\n            \"@type\":\"DataDownload\",\\n            \"name\":\"amt-2016-111-supplement.pdf\",\\n            \"fileFormat\":\"application/pdf\",\\n            \"contentSize\":980614,\\n            \"description\":\"\"\\n        },\\n        {\\n            \"@type\":\"DataDownload\",\\n            \"name\":\"Schmith\\\\u00fcsen_et_al_AMT_Dataset.xlsx\",\\n            \"fileFormat\":\"application/octet-stream\",\\n            \"contentSize\":1872011,\\n            \"description\":\"\"\\n        }\\n    ]\\n}', '{\\n    \"@context\":\"http://schema.org\",\\n    \"@type\":\"Dataset\",\\n    \"@id\":\"https://doi.org/10.11588/data/10027\",\\n    \"identifier\":\"https://doi.org/10.11588/data/10027\",\\n    \"name\":\"Neutron tomographic data of Kawingasaurus\",\\n    \"creator\":[\\n        {\\n            \"name\":\"Laa\\\\u00df, Michael\"\\n        }\\n    ],\\n    \"author\":[\\n        {\\n            \"name\":\"Laa\\\\u00df, Michael\"\\n        }\\n    ],\\n    \"datePublished\":\"2014-08-08\",\\n    \"dateModified\":\"2017-04-06\",\\n    \"version\":\"1\",\\n    \"description\":[\\n        \"The aim of the work was the investigation of the internal cranial anatomy of the nonmammalian synapsid Kawingasaurus fossilis.\"\\n    ],\\n    \"keywords\":[\\n        \"Earth and Environmental Sciences\",\\n        \"Kawingasaurus\",\\n        \"Neutron tomography\",\\n        \"brain evolution\",\\n        \"Vertebrate Palaeontology\"\\n    ],\\n    \"license\":{\\n        \"@type\":\"Dataset\"\\n    },\\n    \"includedInDataCatalog\":{\\n        \"@type\":\"DataCatalog\",\\n        \"name\":\"heiDATA\",\\n        \"url\":\"https://heidata.uni-heidelberg.de\"\\n    },\\n    \"publisher\":{\\n        \"@type\":\"Organization\",\\n        \"name\":\"heiDATA\"\\n    },\\n    \"provider\":{\\n        \"@type\":\"Organization\",\\n        \"name\":\"heiDATA\"\\n    },\\n    \"distribution\":[\\n        {\\n            \"@type\":\"DataDownload\",\\n            \"name\":\"image0300_0399.zip\",\\n            \"fileFormat\":\"application/zip\",\\n            \"contentSize\":287727454,\\n            \"description\":\"\"\\n        },\\n        {\\n            \"@type\":\"DataDownload\",\\n            \"name\":\"image0400_0499.zip\",\\n            \"fileFormat\":\"application/zip\",\\n            \"contentSize\":296857177,\\n            \"description\":\"\"\\n        },\\n        {\\n            \"@type\":\"DataDownload\",\\n            \"name\":\"image0500_0599.zip\",\\n            \"fileFormat\":\"application/zip\",\\n            \"contentSize\":311039881,\\n            \"description\":\"\"\\n        },\\n        {\\n            \"@type\":\"DataDownload\",\\n            \"name\":\"image0600_0699.zip\",\\n            \"fileFormat\":\"application/zip\",\\n            \"contentSize\":316161085,\\n            \"description\":\"\"\\n        },\\n        {\\n            \"@type\":\"DataDownload\",\\n            \"name\":\"image0700_0799.zip\",\\n            \"fileFormat\":\"application/zip\",\\n            \"contentSize\":316981035,\\n            \"description\":\"\"\\n        },\\n        {\\n            \"@type\":\"DataDownload\",\\n            \"name\":\"image0800_0899.zip\",\\n            \"fileFormat\":\"application/zip\",\\n            \"contentSize\":313647073,\\n            \"description\":\"\"\\n        },\\n        {\\n            \"@type\":\"DataDownload\",\\n            \"name\":\"image0900_0999.zip\",\\n            \"fileFormat\":\"application/zip\",\\n            \"contentSize\":309142742,\\n            \"description\":\"\"\\n        },\\n        {\\n            \"@type\":\"DataDownload\",\\n            \"name\":\"image1000_1099.zip\",\\n            \"fileFormat\":\"application/zip\",\\n            \"contentSize\":308263645,\\n            \"description\":\"\"\\n        },\\n        {\\n            \"@type\":\"DataDownload\",\\n            \"name\":\"image1100_1199.zip\",\\n            \"fileFormat\":\"application/zip\",\\n            \"contentSize\":307219391,\\n            \"description\":\"\"\\n        },\\n        {\\n            \"@type\":\"DataDownload\",\\n            \"name\":\"image1200_1299.zip\",\\n            \"fileFormat\":\"application/zip\",\\n            \"contentSize\":306050048,\\n            \"description\":\"\"\\n        },\\n        {\\n            \"@type\":\"DataDownload\",\\n            \"name\":\"image1300_1399.zip\",\\n            \"fileFormat\":\"application/zip\",\\n            \"contentSize\":304544834,\\n            \"description\":\"\"\\n        },\\n        {\\n            \"@type\":\"DataDownload\",\\n            \"name\":\"image1400_1499.zip\",\\n            \"fileFormat\":\"application/zip\",\\n            \"contentSize\":300342717,\\n            \"description\":\"\"\\n        },\\n        {\\n            \"@type\":\"DataDownload\",\\n            \"name\":\"image1500_1599.zip\",\\n            \"fileFormat\":\"application/zip\",\\n            \"contentSize\":297955893,\\n            \"description\":\"\"\\n        },\\n        {\\n            \"@type\":\"DataDownload\",\\n            \"name\":\"image1600_1699.zip\",\\n            \"fileFormat\":\"application/zip\",\\n            \"contentSize\":294507465,\\n            \"description\":\"\"\\n        },\\n        {\\n            \"@type\":\"DataDownload\",\\n            \"name\":\"image1700_1799.zip\",\\n            \"fileFormat\":\"application/zip\",\\n            \"contentSize\":292828849,\\n            \"description\":\"\"\\n        },\\n        {\\n            \"@type\":\"DataDownload\",\\n            \"name\":\"image1800_1899.zip\",\\n            \"fileFormat\":\"application/zip\",\\n            \"contentSize\":290246308,\\n            \"description\":\"\"\\n        },\\n        {\\n            \"@type\":\"DataDownload\",\\n            \"name\":\"image1900_2000.zip\",\\n            \"fileFormat\":\"application/zip\",\\n            \"contentSize\":289503842,\\n            \"description\":\"\"\\n        }\\n    ]\\n}']\n",
      "---\n",
      "['{\\n    \"@context\":\"http://schema.org\",\\n    \"@type\":\"Dataset\",\\n    \"@id\":\"https://doi.org/10.11588/data/3GYJUG\",\\n    \"identifier\":\"https://doi.org/10.11588/data/3GYJUG\",\\n    \"name\":\"MapSwipe: global dataset of crowdsourced classifications on human settlements and reference datasets\",\\n    \"creator\":[\\n        {\\n            \"name\":\"Herfort, Benjamin\",\\n            \"affiliation\":\"Institute of Geography, Heidelberg University\"\\n        }\\n    ],\\n    \"author\":[\\n        {\\n            \"name\":\"Herfort, Benjamin\",\\n            \"affiliation\":\"Institute of Geography, Heidelberg University\"\\n        }\\n    ],\\n    \"datePublished\":\"2018-04-16\",\\n    \"dateModified\":\"2018-04-16\",\\n    \"version\":\"1\",\\n    \"description\":[\\n        \"MapSwipe is a mobile crowdsourcing application designed for smartphones and tablets to generate geographic information from satellite imagery. Data from 55 projects containing more than nine million tasks and more than 30 million individual classification results contributed by about 7,500 users are covered by this dataset. Furthermore, reference datasets obtained manually and derived from OpenStreetMap are provided.\"\\n    ],\\n    \"keywords\":[\\n        \"Earth and Environmental Sciences\",\\n        \"Crowdsourcing\",\\n        \"Validation\"\\n    ],\\n    \"citation\":[\\n        {\\n            \"@type\":\"CreativeWork\",\\n            \"text\":\"Herfort, B. (2018). Understanding MapSwipe: Analysing Data Quality of Crowdsourced Classifications on Human Settlements.\",\\n            \"@id\":\"https://doi.org/10.11588/heidok.00024257\",\\n            \"identifier\":\"https://doi.org/10.11588/heidok.00024257\"\\n        }\\n    ],\\n    \"temporalCoverage\":[\\n        \"2016-07-30/2017-07-25\"\\n    ],\\n    \"license\":{\\n        \"@type\":\"Dataset\",\\n        \"text\":\"Licensed under a <a href=\\'http://creativecommons.org/licenses/by/4.0/\\'>Creative Commons Attribution 4.0 International License. &#160;<img src=\\'https://i.creativecommons.org/l/by/4.0/80x15.png\\' alt=\\'CC by\\' /></a>\"\\n    },\\n    \"includedInDataCatalog\":{\\n        \"@type\":\"DataCatalog\",\\n        \"name\":\"heiDATA\",\\n        \"url\":\"https://heidata.uni-heidelberg.de\"\\n    },\\n    \"publisher\":{\\n        \"@type\":\"Organization\",\\n        \"name\":\"heiDATA\"\\n    },\\n    \"provider\":{\\n        \"@type\":\"Organization\",\\n        \"name\":\"heiDATA\"\\n    },\\n    \"spatialCoverage\":[\\n        \"Madagascar\",\\n        \"Lao People\\'s Democratic Republic\",\\n        \"South Sudan\",\\n        \"Botswana\",\\n        \"Guatemala\",\\n        \"Nigeria\",\\n        \"Cambodia\",\\n        \"Malawi\",\\n        \"Sierra Leone\",\\n        \"Chad\",\\n        \"Guinea-Bissau\"\\n    ],\\n    \"distribution\":[\\n        {\\n            \"@type\":\"DataDownload\",\\n            \"name\":\"global_datasets.zip\",\\n            \"fileFormat\":\"application/zip\",\\n            \"contentSize\":311866296\\n        },\\n        {\\n            \"@type\":\"DataDownload\",\\n            \"name\":\"laos_datasets.zip\",\\n            \"fileFormat\":\"application/zip\",\\n            \"contentSize\":145524925\\n        },\\n        {\\n            \"@type\":\"DataDownload\",\\n            \"name\":\"readme.txt\",\\n            \"fileFormat\":\"text/plain\",\\n            \"contentSize\":2960\\n        },\\n        {\\n            \"@type\":\"DataDownload\",\\n            \"name\":\"results.zip\",\\n            \"fileFormat\":\"application/zip\",\\n            \"contentSize\":894311021\\n        }\\n    ]\\n}', '{\\n    \"@context\":\"http://schema.org\",\\n    \"@type\":\"Dataset\",\\n    \"@id\":\"https://doi.org/10.11588/data/10098\",\\n    \"identifier\":\"https://doi.org/10.11588/data/10098\",\\n    \"name\":\"A European-wide 222Radon and 222Radon progeny comparison study [Dataset]\",\\n    \"creator\":[\\n        {\\n            \"name\":\"Schmith\\\\u00fcsen, Dominik\",\\n            \"affiliation\":\"Institute of Environmental Physics\"\\n        },\\n        {\\n            \"name\":\"Chambers, Scott\"\\n        },\\n        {\\n            \"name\":\"Fischer, Bernd\"\\n        },\\n        {\\n            \"name\":\"Gilge, Stefan\"\\n        },\\n        {\\n            \"name\":\"Hattaka, Juha\"\\n        },\\n        {\\n            \"name\":\"Kazan, Victor\"\\n        },\\n        {\\n            \"name\":\"Neubert, Rolf\"\\n        },\\n        {\\n            \"name\":\"Paatero, Jussi\"\\n        },\\n        {\\n            \"name\":\"Ramonet, Michel\"\\n        },\\n        {\\n            \"name\":\"Schlosser, Clemens\"\\n        },\\n        {\\n            \"name\":\"Schmid, Sabine\"\\n        },\\n        {\\n            \"name\":\"Vermeulen, Alex\"\\n        },\\n        {\\n            \"name\":\"Levin, Ingeborg\",\\n            \"affiliation\":\"Institute of Environmental Physics\"\\n        }\\n    ],\\n    \"author\":[\\n        {\\n            \"name\":\"Schmith\\\\u00fcsen, Dominik\",\\n            \"affiliation\":\"Institute of Environmental Physics\"\\n        },\\n        {\\n            \"name\":\"Chambers, Scott\"\\n        },\\n        {\\n            \"name\":\"Fischer, Bernd\"\\n        },\\n        {\\n            \"name\":\"Gilge, Stefan\"\\n        },\\n        {\\n            \"name\":\"Hattaka, Juha\"\\n        },\\n        {\\n            \"name\":\"Kazan, Victor\"\\n        },\\n        {\\n            \"name\":\"Neubert, Rolf\"\\n        },\\n        {\\n            \"name\":\"Paatero, Jussi\"\\n        },\\n        {\\n            \"name\":\"Ramonet, Michel\"\\n        },\\n        {\\n            \"name\":\"Schlosser, Clemens\"\\n        },\\n        {\\n            \"name\":\"Schmid, Sabine\"\\n        },\\n        {\\n            \"name\":\"Vermeulen, Alex\"\\n        },\\n        {\\n            \"name\":\"Levin, Ingeborg\",\\n            \"affiliation\":\"Institute of Environmental Physics\"\\n        }\\n    ],\\n    \"datePublished\":\"2017-03-13\",\\n    \"dateModified\":\"2017-04-05\",\\n    \"version\":\"2\",\\n    \"description\":[\\n        \"Although atmospheric 222Radon (222Rn) activity concentration measurements are currently performed world-wide, they are being made by many different laboratories and with fundamentally different measurement principles, so compatibility issues can limit their utility for regional-to-global applications. Consequently, we conducted a European\\\\u2010wide 222Rn/222Rn progeny comparison study in order to evaluate the different measurement systems in use, determine potential systematic biases between them, and estimate correction factors that could be applied to harmonize data for their use as a tracer in atmospheric applications. Two compact portable Heidelberg Radon Monitors (HRM) were moved around to run for at least one month at each of the nine European measurement stations included in this comparison. Linear regressions between parallel data sets were calculated, yielding correction factors rela tive to the HRM ranging from 0.68 to 1.45. A calibration bias between ANSTO (Australian Nuclear Science and Technology Organisation) two\\\\u2010filter radon monitors and the HRM of ANSTO/HRM = 1.11\\\\u00b10.05 was found. Moreover, for the continental stations using one\\\\u2010filter systems that derive atmospheric 222Rn activity concentrations from measured atmospheric progeny activity concentrations, preliminary 214Po/222Rn disequilibrium values were also estimated. Mean station-specific disequilibrium values between 0.8 at mountain sites (e.g. Schauinsland) and 0.9 at non\\\\u2010mountain sites for sampling heights around 20 to 30 m above ground level were determined. The respective corrections for calibration biases and disequilibrium derived in this study need to be applied to obtain a compatible European atmospheric 222Rn data set for use in quantitative applications, such as regional model intercomparison and validation, or trace gas flux estimates with the Radon\\\\u2010Tracer\\\\u2010Method.\"\\n    ],\\n    \"keywords\":[\\n        \"Earth and Environmental Sciences\",\\n        \"Physics\",\\n        \"atmospheric radon activity concentrations\"\\n    ],\\n    \"citation\":[\\n        {\\n            \"@type\":\"CreativeWork\",\\n            \"text\":\"Schmith\\\\u00fcsen, D., Chambers, S., Fischer, B., Gilge, S., Hatakka, J., Kazan, V., Neubert, R., Paatero, J., Ramonet, M., Schlosser, C., Schmid, S., Vermeulen, A., and Levin, I. (2016). A European-wide \\\\n<sup>222</sup>Radon and \\\\n<sup>222</sup>Radon progeny comparison study. Atmos. Meas. Tech., 10, 1299-1312, 2017.\",\\n            \"@id\":\"https://doi.org/10.5194/amt-10-1299-2017\",\\n            \"identifier\":\"https://doi.org/10.5194/amt-10-1299-2017\"\\n        }\\n    ],\\n    \"temporalCoverage\":[\\n        \"2007-01/2015-07\"\\n    ],\\n    \"license\":{\\n        \"@type\":\"Dataset\",\\n        \"text\":\"Licensed under a <a href=\\'http://creativecommons.org/licenses/by/4.0/\\'>Creative Commons Attribution 4.0 International. &#160;<img src=\\'https://i.creativecommons.org/l/by/4.0/80x15.png\\' alt=\\'CC by\\' /></a>\"\\n    },\\n    \"includedInDataCatalog\":{\\n        \"@type\":\"DataCatalog\",\\n        \"name\":\"heiDATA\",\\n        \"url\":\"https://heidata.uni-heidelberg.de\"\\n    },\\n    \"publisher\":{\\n        \"@type\":\"Organization\",\\n        \"name\":\"heiDATA\"\\n    },\\n    \"provider\":{\\n        \"@type\":\"Organization\",\\n        \"name\":\"heiDATA\"\\n    },\\n    \"spatialCoverage\":[\\n        \"Europe\"\\n    ],\\n    \"distribution\":[\\n        {\\n            \"@type\":\"DataDownload\",\\n            \"name\":\"amt-2016-111-supplement.pdf\",\\n            \"fileFormat\":\"application/pdf\",\\n            \"contentSize\":980614,\\n            \"description\":\"\"\\n        },\\n        {\\n            \"@type\":\"DataDownload\",\\n            \"name\":\"Schmith\\\\u00fcsen_et_al_AMT_Dataset.xlsx\",\\n            \"fileFormat\":\"application/octet-stream\",\\n            \"contentSize\":1872011,\\n            \"description\":\"\"\\n        }\\n    ]\\n}', '{\\n    \"@context\":\"http://schema.org\",\\n    \"@type\":\"Dataset\",\\n    \"@id\":\"https://doi.org/10.11588/data/10027\",\\n    \"identifier\":\"https://doi.org/10.11588/data/10027\",\\n    \"name\":\"Neutron tomographic data of Kawingasaurus\",\\n    \"creator\":[\\n        {\\n            \"name\":\"Laa\\\\u00df, Michael\"\\n        }\\n    ],\\n    \"author\":[\\n        {\\n            \"name\":\"Laa\\\\u00df, Michael\"\\n        }\\n    ],\\n    \"datePublished\":\"2014-08-08\",\\n    \"dateModified\":\"2017-04-06\",\\n    \"version\":\"1\",\\n    \"description\":[\\n        \"The aim of the work was the investigation of the internal cranial anatomy of the nonmammalian synapsid Kawingasaurus fossilis.\"\\n    ],\\n    \"keywords\":[\\n        \"Earth and Environmental Sciences\",\\n        \"Kawingasaurus\",\\n        \"Neutron tomography\",\\n        \"brain evolution\",\\n        \"Vertebrate Palaeontology\"\\n    ],\\n    \"license\":{\\n        \"@type\":\"Dataset\"\\n    },\\n    \"includedInDataCatalog\":{\\n        \"@type\":\"DataCatalog\",\\n        \"name\":\"heiDATA\",\\n        \"url\":\"https://heidata.uni-heidelberg.de\"\\n    },\\n    \"publisher\":{\\n        \"@type\":\"Organization\",\\n        \"name\":\"heiDATA\"\\n    },\\n    \"provider\":{\\n        \"@type\":\"Organization\",\\n        \"name\":\"heiDATA\"\\n    },\\n    \"distribution\":[\\n        {\\n            \"@type\":\"DataDownload\",\\n            \"name\":\"image0300_0399.zip\",\\n            \"fileFormat\":\"application/zip\",\\n            \"contentSize\":287727454,\\n            \"description\":\"\"\\n        },\\n        {\\n            \"@type\":\"DataDownload\",\\n            \"name\":\"image0400_0499.zip\",\\n            \"fileFormat\":\"application/zip\",\\n            \"contentSize\":296857177,\\n            \"description\":\"\"\\n        },\\n        {\\n            \"@type\":\"DataDownload\",\\n            \"name\":\"image0500_0599.zip\",\\n            \"fileFormat\":\"application/zip\",\\n            \"contentSize\":311039881,\\n            \"description\":\"\"\\n        },\\n        {\\n            \"@type\":\"DataDownload\",\\n            \"name\":\"image0600_0699.zip\",\\n            \"fileFormat\":\"application/zip\",\\n            \"contentSize\":316161085,\\n            \"description\":\"\"\\n        },\\n        {\\n            \"@type\":\"DataDownload\",\\n            \"name\":\"image0700_0799.zip\",\\n            \"fileFormat\":\"application/zip\",\\n            \"contentSize\":316981035,\\n            \"description\":\"\"\\n        },\\n        {\\n            \"@type\":\"DataDownload\",\\n            \"name\":\"image0800_0899.zip\",\\n            \"fileFormat\":\"application/zip\",\\n            \"contentSize\":313647073,\\n            \"description\":\"\"\\n        },\\n        {\\n            \"@type\":\"DataDownload\",\\n            \"name\":\"image0900_0999.zip\",\\n            \"fileFormat\":\"application/zip\",\\n            \"contentSize\":309142742,\\n            \"description\":\"\"\\n        },\\n        {\\n            \"@type\":\"DataDownload\",\\n            \"name\":\"image1000_1099.zip\",\\n            \"fileFormat\":\"application/zip\",\\n            \"contentSize\":308263645,\\n            \"description\":\"\"\\n        },\\n        {\\n            \"@type\":\"DataDownload\",\\n            \"name\":\"image1100_1199.zip\",\\n            \"fileFormat\":\"application/zip\",\\n            \"contentSize\":307219391,\\n            \"description\":\"\"\\n        },\\n        {\\n            \"@type\":\"DataDownload\",\\n            \"name\":\"image1200_1299.zip\",\\n            \"fileFormat\":\"application/zip\",\\n            \"contentSize\":306050048,\\n            \"description\":\"\"\\n        },\\n        {\\n            \"@type\":\"DataDownload\",\\n            \"name\":\"image1300_1399.zip\",\\n            \"fileFormat\":\"application/zip\",\\n            \"contentSize\":304544834,\\n            \"description\":\"\"\\n        },\\n        {\\n            \"@type\":\"DataDownload\",\\n            \"name\":\"image1400_1499.zip\",\\n            \"fileFormat\":\"application/zip\",\\n            \"contentSize\":300342717,\\n            \"description\":\"\"\\n        },\\n        {\\n            \"@type\":\"DataDownload\",\\n            \"name\":\"image1500_1599.zip\",\\n            \"fileFormat\":\"application/zip\",\\n            \"contentSize\":297955893,\\n            \"description\":\"\"\\n        },\\n        {\\n            \"@type\":\"DataDownload\",\\n            \"name\":\"image1600_1699.zip\",\\n            \"fileFormat\":\"application/zip\",\\n            \"contentSize\":294507465,\\n            \"description\":\"\"\\n        },\\n        {\\n            \"@type\":\"DataDownload\",\\n            \"name\":\"image1700_1799.zip\",\\n            \"fileFormat\":\"application/zip\",\\n            \"contentSize\":292828849,\\n            \"description\":\"\"\\n        },\\n        {\\n            \"@type\":\"DataDownload\",\\n            \"name\":\"image1800_1899.zip\",\\n            \"fileFormat\":\"application/zip\",\\n            \"contentSize\":290246308,\\n            \"description\":\"\"\\n        },\\n        {\\n            \"@type\":\"DataDownload\",\\n            \"name\":\"image1900_2000.zip\",\\n            \"fileFormat\":\"application/zip\",\\n            \"contentSize\":289503842,\\n            \"description\":\"\"\\n        }\\n    ]\\n}', '{\\n    \"@context\":\"http://schema.org\",\\n    \"@type\":\"Dataset\",\\n    \"@id\":\"https://doi.org/10.11588/data/10100\",\\n    \"identifier\":\"https://doi.org/10.11588/data/10100\",\\n    \"name\":\"Monthly mean atmospheric D14CO2 at Jungfraujoch and Schauinsland from 1986 to 2016\",\\n    \"creator\":[\\n        {\\n            \"name\":\"Hammer, Samuel\",\\n            \"affiliation\":\"Institute of Environmental Physics\"\\n        },\\n        {\\n            \"name\":\"Levin, Ingeborg\",\\n            \"affiliation\":\"Institute of Environmental Physics\"\\n        }\\n    ],\\n    \"author\":[\\n        {\\n            \"name\":\"Hammer, Samuel\",\\n            \"affiliation\":\"Institute of Environmental Physics\"\\n        },\\n        {\\n            \"name\":\"Levin, Ingeborg\",\\n            \"affiliation\":\"Institute of Environmental Physics\"\\n        }\\n    ],\\n    \"datePublished\":\"2017-03-21\",\\n    \"dateModified\":\"2017-04-05\",\\n    \"version\":\"2\",\\n    \"description\":[\\n        \"14CO2 observations at Jungfraujoch high altitude research station in the Swiss Alps (3450m a.s.l.) and at Schauinsland observatory (1205 m a.s.l.) in the German Black Forest are conducted to monitor the background 14CO2 level over Europe and define the reference for regional estimates of fossil fuel CO2. The record is also used for post-bomb dating of organic material (e.g. forensic studies).\"\\n    ],\\n    \"keywords\":[\\n        \"Earth and Environmental Sciences\",\\n        \"Physics\",\\n        \"Radiocarbon\",\\n        \"carbon dioxide\",\\n        \"post bomb dating\",\\n        \"continental background air\"\\n    ],\\n    \"citation\":[\\n        {\\n            \"@type\":\"CreativeWork\",\\n            \"text\":\"Levin, I., B. Kromer, and S. Hammer, 2013. Atmospheric D14CO2 trend in Western European background air from 2000 to 2012. Tellus B, 65, 20092.\",\\n            \"@id\":\"https://doi.org/10.3402/tellusb.v65i0.20092\",\\n            \"identifier\":\"https://doi.org/10.3402/tellusb.v65i0.20092\"\\n        }\\n    ],\\n    \"temporalCoverage\":[\\n        \"1986-07/2016-11\"\\n    ],\\n    \"license\":{\\n        \"@type\":\"Dataset\",\\n        \"text\":\"Licensed under a <a href=\\'http://creativecommons.org/licenses/by/4.0/\\'>Creative Commons Attribution 4.0 International. &#160;<img src=\\'https://i.creativecommons.org/l/by/4.0/80x15.png\\' alt=\\'CC by\\' /></a>\"\\n    },\\n    \"includedInDataCatalog\":{\\n        \"@type\":\"DataCatalog\",\\n        \"name\":\"heiDATA\",\\n        \"url\":\"https://heidata.uni-heidelberg.de\"\\n    },\\n    \"publisher\":{\\n        \"@type\":\"Organization\",\\n        \"name\":\"heiDATA\"\\n    },\\n    \"provider\":{\\n        \"@type\":\"Organization\",\\n        \"name\":\"heiDATA\"\\n    },\\n    \"spatialCoverage\":[\\n        \"Switzerland, Germany\",\\n        \"Jungfraujoch, 46\\\\u00b033\\'N, 7\\\\u00b059\\'E, 3450 m a.s.l., Schauinsland, 47\\\\u00b055\\'N, 7\\\\u00b054\\'E, 1205m a.s.l.\"\\n    ],\\n    \"distribution\":[\\n        {\\n            \"@type\":\"DataDownload\",\\n            \"name\":\"JFJ_SIL_C14_MM_2017_Mar.xlsx\",\\n            \"fileFormat\":\"application/octet-stream\",\\n            \"contentSize\":22985,\\n            \"description\":\"\"\\n        }\\n    ]\\n}']\n",
      "---\n",
      "['{\\n    \"@context\":\"http://schema.org\",\\n    \"@type\":\"Dataset\",\\n    \"@id\":\"https://doi.org/10.11588/data/3GYJUG\",\\n    \"identifier\":\"https://doi.org/10.11588/data/3GYJUG\",\\n    \"name\":\"MapSwipe: global dataset of crowdsourced classifications on human settlements and reference datasets\",\\n    \"creator\":[\\n        {\\n            \"name\":\"Herfort, Benjamin\",\\n            \"affiliation\":\"Institute of Geography, Heidelberg University\"\\n        }\\n    ],\\n    \"author\":[\\n        {\\n            \"name\":\"Herfort, Benjamin\",\\n            \"affiliation\":\"Institute of Geography, Heidelberg University\"\\n        }\\n    ],\\n    \"datePublished\":\"2018-04-16\",\\n    \"dateModified\":\"2018-04-16\",\\n    \"version\":\"1\",\\n    \"description\":[\\n        \"MapSwipe is a mobile crowdsourcing application designed for smartphones and tablets to generate geographic information from satellite imagery. Data from 55 projects containing more than nine million tasks and more than 30 million individual classification results contributed by about 7,500 users are covered by this dataset. Furthermore, reference datasets obtained manually and derived from OpenStreetMap are provided.\"\\n    ],\\n    \"keywords\":[\\n        \"Earth and Environmental Sciences\",\\n        \"Crowdsourcing\",\\n        \"Validation\"\\n    ],\\n    \"citation\":[\\n        {\\n            \"@type\":\"CreativeWork\",\\n            \"text\":\"Herfort, B. (2018). Understanding MapSwipe: Analysing Data Quality of Crowdsourced Classifications on Human Settlements.\",\\n            \"@id\":\"https://doi.org/10.11588/heidok.00024257\",\\n            \"identifier\":\"https://doi.org/10.11588/heidok.00024257\"\\n        }\\n    ],\\n    \"temporalCoverage\":[\\n        \"2016-07-30/2017-07-25\"\\n    ],\\n    \"license\":{\\n        \"@type\":\"Dataset\",\\n        \"text\":\"Licensed under a <a href=\\'http://creativecommons.org/licenses/by/4.0/\\'>Creative Commons Attribution 4.0 International License. &#160;<img src=\\'https://i.creativecommons.org/l/by/4.0/80x15.png\\' alt=\\'CC by\\' /></a>\"\\n    },\\n    \"includedInDataCatalog\":{\\n        \"@type\":\"DataCatalog\",\\n        \"name\":\"heiDATA\",\\n        \"url\":\"https://heidata.uni-heidelberg.de\"\\n    },\\n    \"publisher\":{\\n        \"@type\":\"Organization\",\\n        \"name\":\"heiDATA\"\\n    },\\n    \"provider\":{\\n        \"@type\":\"Organization\",\\n        \"name\":\"heiDATA\"\\n    },\\n    \"spatialCoverage\":[\\n        \"Madagascar\",\\n        \"Lao People\\'s Democratic Republic\",\\n        \"South Sudan\",\\n        \"Botswana\",\\n        \"Guatemala\",\\n        \"Nigeria\",\\n        \"Cambodia\",\\n        \"Malawi\",\\n        \"Sierra Leone\",\\n        \"Chad\",\\n        \"Guinea-Bissau\"\\n    ],\\n    \"distribution\":[\\n        {\\n            \"@type\":\"DataDownload\",\\n            \"name\":\"global_datasets.zip\",\\n            \"fileFormat\":\"application/zip\",\\n            \"contentSize\":311866296\\n        },\\n        {\\n            \"@type\":\"DataDownload\",\\n            \"name\":\"laos_datasets.zip\",\\n            \"fileFormat\":\"application/zip\",\\n            \"contentSize\":145524925\\n        },\\n        {\\n            \"@type\":\"DataDownload\",\\n            \"name\":\"readme.txt\",\\n            \"fileFormat\":\"text/plain\",\\n            \"contentSize\":2960\\n        },\\n        {\\n            \"@type\":\"DataDownload\",\\n            \"name\":\"results.zip\",\\n            \"fileFormat\":\"application/zip\",\\n            \"contentSize\":894311021\\n        }\\n    ]\\n}', '{\\n    \"@context\":\"http://schema.org\",\\n    \"@type\":\"Dataset\",\\n    \"@id\":\"https://doi.org/10.11588/data/10098\",\\n    \"identifier\":\"https://doi.org/10.11588/data/10098\",\\n    \"name\":\"A European-wide 222Radon and 222Radon progeny comparison study [Dataset]\",\\n    \"creator\":[\\n        {\\n            \"name\":\"Schmith\\\\u00fcsen, Dominik\",\\n            \"affiliation\":\"Institute of Environmental Physics\"\\n        },\\n        {\\n            \"name\":\"Chambers, Scott\"\\n        },\\n        {\\n            \"name\":\"Fischer, Bernd\"\\n        },\\n        {\\n            \"name\":\"Gilge, Stefan\"\\n        },\\n        {\\n            \"name\":\"Hattaka, Juha\"\\n        },\\n        {\\n            \"name\":\"Kazan, Victor\"\\n        },\\n        {\\n            \"name\":\"Neubert, Rolf\"\\n        },\\n        {\\n            \"name\":\"Paatero, Jussi\"\\n        },\\n        {\\n            \"name\":\"Ramonet, Michel\"\\n        },\\n        {\\n            \"name\":\"Schlosser, Clemens\"\\n        },\\n        {\\n            \"name\":\"Schmid, Sabine\"\\n        },\\n        {\\n            \"name\":\"Vermeulen, Alex\"\\n        },\\n        {\\n            \"name\":\"Levin, Ingeborg\",\\n            \"affiliation\":\"Institute of Environmental Physics\"\\n        }\\n    ],\\n    \"author\":[\\n        {\\n            \"name\":\"Schmith\\\\u00fcsen, Dominik\",\\n            \"affiliation\":\"Institute of Environmental Physics\"\\n        },\\n        {\\n            \"name\":\"Chambers, Scott\"\\n        },\\n        {\\n            \"name\":\"Fischer, Bernd\"\\n        },\\n        {\\n            \"name\":\"Gilge, Stefan\"\\n        },\\n        {\\n            \"name\":\"Hattaka, Juha\"\\n        },\\n        {\\n            \"name\":\"Kazan, Victor\"\\n        },\\n        {\\n            \"name\":\"Neubert, Rolf\"\\n        },\\n        {\\n            \"name\":\"Paatero, Jussi\"\\n        },\\n        {\\n            \"name\":\"Ramonet, Michel\"\\n        },\\n        {\\n            \"name\":\"Schlosser, Clemens\"\\n        },\\n        {\\n            \"name\":\"Schmid, Sabine\"\\n        },\\n        {\\n            \"name\":\"Vermeulen, Alex\"\\n        },\\n        {\\n            \"name\":\"Levin, Ingeborg\",\\n            \"affiliation\":\"Institute of Environmental Physics\"\\n        }\\n    ],\\n    \"datePublished\":\"2017-03-13\",\\n    \"dateModified\":\"2017-04-05\",\\n    \"version\":\"2\",\\n    \"description\":[\\n        \"Although atmospheric 222Radon (222Rn) activity concentration measurements are currently performed world-wide, they are being made by many different laboratories and with fundamentally different measurement principles, so compatibility issues can limit their utility for regional-to-global applications. Consequently, we conducted a European\\\\u2010wide 222Rn/222Rn progeny comparison study in order to evaluate the different measurement systems in use, determine potential systematic biases between them, and estimate correction factors that could be applied to harmonize data for their use as a tracer in atmospheric applications. Two compact portable Heidelberg Radon Monitors (HRM) were moved around to run for at least one month at each of the nine European measurement stations included in this comparison. Linear regressions between parallel data sets were calculated, yielding correction factors rela tive to the HRM ranging from 0.68 to 1.45. A calibration bias between ANSTO (Australian Nuclear Science and Technology Organisation) two\\\\u2010filter radon monitors and the HRM of ANSTO/HRM = 1.11\\\\u00b10.05 was found. Moreover, for the continental stations using one\\\\u2010filter systems that derive atmospheric 222Rn activity concentrations from measured atmospheric progeny activity concentrations, preliminary 214Po/222Rn disequilibrium values were also estimated. Mean station-specific disequilibrium values between 0.8 at mountain sites (e.g. Schauinsland) and 0.9 at non\\\\u2010mountain sites for sampling heights around 20 to 30 m above ground level were determined. The respective corrections for calibration biases and disequilibrium derived in this study need to be applied to obtain a compatible European atmospheric 222Rn data set for use in quantitative applications, such as regional model intercomparison and validation, or trace gas flux estimates with the Radon\\\\u2010Tracer\\\\u2010Method.\"\\n    ],\\n    \"keywords\":[\\n        \"Earth and Environmental Sciences\",\\n        \"Physics\",\\n        \"atmospheric radon activity concentrations\"\\n    ],\\n    \"citation\":[\\n        {\\n            \"@type\":\"CreativeWork\",\\n            \"text\":\"Schmith\\\\u00fcsen, D., Chambers, S., Fischer, B., Gilge, S., Hatakka, J., Kazan, V., Neubert, R., Paatero, J., Ramonet, M., Schlosser, C., Schmid, S., Vermeulen, A., and Levin, I. (2016). A European-wide \\\\n<sup>222</sup>Radon and \\\\n<sup>222</sup>Radon progeny comparison study. Atmos. Meas. Tech., 10, 1299-1312, 2017.\",\\n            \"@id\":\"https://doi.org/10.5194/amt-10-1299-2017\",\\n            \"identifier\":\"https://doi.org/10.5194/amt-10-1299-2017\"\\n        }\\n    ],\\n    \"temporalCoverage\":[\\n        \"2007-01/2015-07\"\\n    ],\\n    \"license\":{\\n        \"@type\":\"Dataset\",\\n        \"text\":\"Licensed under a <a href=\\'http://creativecommons.org/licenses/by/4.0/\\'>Creative Commons Attribution 4.0 International. &#160;<img src=\\'https://i.creativecommons.org/l/by/4.0/80x15.png\\' alt=\\'CC by\\' /></a>\"\\n    },\\n    \"includedInDataCatalog\":{\\n        \"@type\":\"DataCatalog\",\\n        \"name\":\"heiDATA\",\\n        \"url\":\"https://heidata.uni-heidelberg.de\"\\n    },\\n    \"publisher\":{\\n        \"@type\":\"Organization\",\\n        \"name\":\"heiDATA\"\\n    },\\n    \"provider\":{\\n        \"@type\":\"Organization\",\\n        \"name\":\"heiDATA\"\\n    },\\n    \"spatialCoverage\":[\\n        \"Europe\"\\n    ],\\n    \"distribution\":[\\n        {\\n            \"@type\":\"DataDownload\",\\n            \"name\":\"amt-2016-111-supplement.pdf\",\\n            \"fileFormat\":\"application/pdf\",\\n            \"contentSize\":980614,\\n            \"description\":\"\"\\n        },\\n        {\\n            \"@type\":\"DataDownload\",\\n            \"name\":\"Schmith\\\\u00fcsen_et_al_AMT_Dataset.xlsx\",\\n            \"fileFormat\":\"application/octet-stream\",\\n            \"contentSize\":1872011,\\n            \"description\":\"\"\\n        }\\n    ]\\n}', '{\\n    \"@context\":\"http://schema.org\",\\n    \"@type\":\"Dataset\",\\n    \"@id\":\"https://doi.org/10.11588/data/10027\",\\n    \"identifier\":\"https://doi.org/10.11588/data/10027\",\\n    \"name\":\"Neutron tomographic data of Kawingasaurus\",\\n    \"creator\":[\\n        {\\n            \"name\":\"Laa\\\\u00df, Michael\"\\n        }\\n    ],\\n    \"author\":[\\n        {\\n            \"name\":\"Laa\\\\u00df, Michael\"\\n        }\\n    ],\\n    \"datePublished\":\"2014-08-08\",\\n    \"dateModified\":\"2017-04-06\",\\n    \"version\":\"1\",\\n    \"description\":[\\n        \"The aim of the work was the investigation of the internal cranial anatomy of the nonmammalian synapsid Kawingasaurus fossilis.\"\\n    ],\\n    \"keywords\":[\\n        \"Earth and Environmental Sciences\",\\n        \"Kawingasaurus\",\\n        \"Neutron tomography\",\\n        \"brain evolution\",\\n        \"Vertebrate Palaeontology\"\\n    ],\\n    \"license\":{\\n        \"@type\":\"Dataset\"\\n    },\\n    \"includedInDataCatalog\":{\\n        \"@type\":\"DataCatalog\",\\n        \"name\":\"heiDATA\",\\n        \"url\":\"https://heidata.uni-heidelberg.de\"\\n    },\\n    \"publisher\":{\\n        \"@type\":\"Organization\",\\n        \"name\":\"heiDATA\"\\n    },\\n    \"provider\":{\\n        \"@type\":\"Organization\",\\n        \"name\":\"heiDATA\"\\n    },\\n    \"distribution\":[\\n        {\\n            \"@type\":\"DataDownload\",\\n            \"name\":\"image0300_0399.zip\",\\n            \"fileFormat\":\"application/zip\",\\n            \"contentSize\":287727454,\\n            \"description\":\"\"\\n        },\\n        {\\n            \"@type\":\"DataDownload\",\\n            \"name\":\"image0400_0499.zip\",\\n            \"fileFormat\":\"application/zip\",\\n            \"contentSize\":296857177,\\n            \"description\":\"\"\\n        },\\n        {\\n            \"@type\":\"DataDownload\",\\n            \"name\":\"image0500_0599.zip\",\\n            \"fileFormat\":\"application/zip\",\\n            \"contentSize\":311039881,\\n            \"description\":\"\"\\n        },\\n        {\\n            \"@type\":\"DataDownload\",\\n            \"name\":\"image0600_0699.zip\",\\n            \"fileFormat\":\"application/zip\",\\n            \"contentSize\":316161085,\\n            \"description\":\"\"\\n        },\\n        {\\n            \"@type\":\"DataDownload\",\\n            \"name\":\"image0700_0799.zip\",\\n            \"fileFormat\":\"application/zip\",\\n            \"contentSize\":316981035,\\n            \"description\":\"\"\\n        },\\n        {\\n            \"@type\":\"DataDownload\",\\n            \"name\":\"image0800_0899.zip\",\\n            \"fileFormat\":\"application/zip\",\\n            \"contentSize\":313647073,\\n            \"description\":\"\"\\n        },\\n        {\\n            \"@type\":\"DataDownload\",\\n            \"name\":\"image0900_0999.zip\",\\n            \"fileFormat\":\"application/zip\",\\n            \"contentSize\":309142742,\\n            \"description\":\"\"\\n        },\\n        {\\n            \"@type\":\"DataDownload\",\\n            \"name\":\"image1000_1099.zip\",\\n            \"fileFormat\":\"application/zip\",\\n            \"contentSize\":308263645,\\n            \"description\":\"\"\\n        },\\n        {\\n            \"@type\":\"DataDownload\",\\n            \"name\":\"image1100_1199.zip\",\\n            \"fileFormat\":\"application/zip\",\\n            \"contentSize\":307219391,\\n            \"description\":\"\"\\n        },\\n        {\\n            \"@type\":\"DataDownload\",\\n            \"name\":\"image1200_1299.zip\",\\n            \"fileFormat\":\"application/zip\",\\n            \"contentSize\":306050048,\\n            \"description\":\"\"\\n        },\\n        {\\n            \"@type\":\"DataDownload\",\\n            \"name\":\"image1300_1399.zip\",\\n            \"fileFormat\":\"application/zip\",\\n            \"contentSize\":304544834,\\n            \"description\":\"\"\\n        },\\n        {\\n            \"@type\":\"DataDownload\",\\n            \"name\":\"image1400_1499.zip\",\\n            \"fileFormat\":\"application/zip\",\\n            \"contentSize\":300342717,\\n            \"description\":\"\"\\n        },\\n        {\\n            \"@type\":\"DataDownload\",\\n            \"name\":\"image1500_1599.zip\",\\n            \"fileFormat\":\"application/zip\",\\n            \"contentSize\":297955893,\\n            \"description\":\"\"\\n        },\\n        {\\n            \"@type\":\"DataDownload\",\\n            \"name\":\"image1600_1699.zip\",\\n            \"fileFormat\":\"application/zip\",\\n            \"contentSize\":294507465,\\n            \"description\":\"\"\\n        },\\n        {\\n            \"@type\":\"DataDownload\",\\n            \"name\":\"image1700_1799.zip\",\\n            \"fileFormat\":\"application/zip\",\\n            \"contentSize\":292828849,\\n            \"description\":\"\"\\n        },\\n        {\\n            \"@type\":\"DataDownload\",\\n            \"name\":\"image1800_1899.zip\",\\n            \"fileFormat\":\"application/zip\",\\n            \"contentSize\":290246308,\\n            \"description\":\"\"\\n        },\\n        {\\n            \"@type\":\"DataDownload\",\\n            \"name\":\"image1900_2000.zip\",\\n            \"fileFormat\":\"application/zip\",\\n            \"contentSize\":289503842,\\n            \"description\":\"\"\\n        }\\n    ]\\n}', '{\\n    \"@context\":\"http://schema.org\",\\n    \"@type\":\"Dataset\",\\n    \"@id\":\"https://doi.org/10.11588/data/10100\",\\n    \"identifier\":\"https://doi.org/10.11588/data/10100\",\\n    \"name\":\"Monthly mean atmospheric D14CO2 at Jungfraujoch and Schauinsland from 1986 to 2016\",\\n    \"creator\":[\\n        {\\n            \"name\":\"Hammer, Samuel\",\\n            \"affiliation\":\"Institute of Environmental Physics\"\\n        },\\n        {\\n            \"name\":\"Levin, Ingeborg\",\\n            \"affiliation\":\"Institute of Environmental Physics\"\\n        }\\n    ],\\n    \"author\":[\\n        {\\n            \"name\":\"Hammer, Samuel\",\\n            \"affiliation\":\"Institute of Environmental Physics\"\\n        },\\n        {\\n            \"name\":\"Levin, Ingeborg\",\\n            \"affiliation\":\"Institute of Environmental Physics\"\\n        }\\n    ],\\n    \"datePublished\":\"2017-03-21\",\\n    \"dateModified\":\"2017-04-05\",\\n    \"version\":\"2\",\\n    \"description\":[\\n        \"14CO2 observations at Jungfraujoch high altitude research station in the Swiss Alps (3450m a.s.l.) and at Schauinsland observatory (1205 m a.s.l.) in the German Black Forest are conducted to monitor the background 14CO2 level over Europe and define the reference for regional estimates of fossil fuel CO2. The record is also used for post-bomb dating of organic material (e.g. forensic studies).\"\\n    ],\\n    \"keywords\":[\\n        \"Earth and Environmental Sciences\",\\n        \"Physics\",\\n        \"Radiocarbon\",\\n        \"carbon dioxide\",\\n        \"post bomb dating\",\\n        \"continental background air\"\\n    ],\\n    \"citation\":[\\n        {\\n            \"@type\":\"CreativeWork\",\\n            \"text\":\"Levin, I., B. Kromer, and S. Hammer, 2013. Atmospheric D14CO2 trend in Western European background air from 2000 to 2012. Tellus B, 65, 20092.\",\\n            \"@id\":\"https://doi.org/10.3402/tellusb.v65i0.20092\",\\n            \"identifier\":\"https://doi.org/10.3402/tellusb.v65i0.20092\"\\n        }\\n    ],\\n    \"temporalCoverage\":[\\n        \"1986-07/2016-11\"\\n    ],\\n    \"license\":{\\n        \"@type\":\"Dataset\",\\n        \"text\":\"Licensed under a <a href=\\'http://creativecommons.org/licenses/by/4.0/\\'>Creative Commons Attribution 4.0 International. &#160;<img src=\\'https://i.creativecommons.org/l/by/4.0/80x15.png\\' alt=\\'CC by\\' /></a>\"\\n    },\\n    \"includedInDataCatalog\":{\\n        \"@type\":\"DataCatalog\",\\n        \"name\":\"heiDATA\",\\n        \"url\":\"https://heidata.uni-heidelberg.de\"\\n    },\\n    \"publisher\":{\\n        \"@type\":\"Organization\",\\n        \"name\":\"heiDATA\"\\n    },\\n    \"provider\":{\\n        \"@type\":\"Organization\",\\n        \"name\":\"heiDATA\"\\n    },\\n    \"spatialCoverage\":[\\n        \"Switzerland, Germany\",\\n        \"Jungfraujoch, 46\\\\u00b033\\'N, 7\\\\u00b059\\'E, 3450 m a.s.l., Schauinsland, 47\\\\u00b055\\'N, 7\\\\u00b054\\'E, 1205m a.s.l.\"\\n    ],\\n    \"distribution\":[\\n        {\\n            \"@type\":\"DataDownload\",\\n            \"name\":\"JFJ_SIL_C14_MM_2017_Mar.xlsx\",\\n            \"fileFormat\":\"application/octet-stream\",\\n            \"contentSize\":22985,\\n            \"description\":\"\"\\n        }\\n    ]\\n}', '{\\n    \"@context\":\"http://schema.org\",\\n    \"@type\":\"Dataset\",\\n    \"@id\":\"https://doi.org/10.11588/data/10101\",\\n    \"identifier\":\"https://doi.org/10.11588/data/10101\",\\n    \"name\":\"HELIOS full-waveform laser scanning simulation framework. Source code, precompiled version, example files for study of understory tree height scanning and respective output.\",\\n    \"creator\":[\\n        {\\n            \"name\":\"H\\\\u00e4mmerle, Martin\",\\n            \"affiliation\":\"Institute of Geography\"\\n        },\\n        {\\n            \"name\":\"Luka\\\\u010d, Niko\"\\n        },\\n        {\\n            \"name\":\"Chen, Kuei-Chia\"\\n        },\\n        {\\n            \"name\":\"Koma, Zs\\\\u00f3fia\"\\n        },\\n        {\\n            \"name\":\"Wang, Chi-Kuei\"\\n        },\\n        {\\n            \"name\":\"Anders, Katharina\",\\n            \"affiliation\":\"Institute of Geography\"\\n        },\\n        {\\n            \"name\":\"H\\\\u00f6fle, Bernhard\",\\n            \"affiliation\":\"Institute of Geography and Heidelberg Center for the Environment\"\\n        }\\n    ],\\n    \"author\":[\\n        {\\n            \"name\":\"H\\\\u00e4mmerle, Martin\",\\n            \"affiliation\":\"Institute of Geography\"\\n        },\\n        {\\n            \"name\":\"Luka\\\\u010d, Niko\"\\n        },\\n        {\\n            \"name\":\"Chen, Kuei-Chia\"\\n        },\\n        {\\n            \"name\":\"Koma, Zs\\\\u00f3fia\"\\n        },\\n        {\\n            \"name\":\"Wang, Chi-Kuei\"\\n        },\\n        {\\n            \"name\":\"Anders, Katharina\",\\n            \"affiliation\":\"Institute of Geography\"\\n        },\\n        {\\n            \"name\":\"H\\\\u00f6fle, Bernhard\",\\n            \"affiliation\":\"Institute of Geography and Heidelberg Center for the Environment\"\\n        }\\n    ],\\n    \"datePublished\":\"2017-05-22\",\\n    \"dateModified\":\"2018-02-06\",\\n    \"version\":\"1\",\\n    \"description\":[\\n        \"This data collection enables any user to reproduce the study H\\\\u00e4mmerle et al. (2017). It provides the source code to compile the applied simulation framework. Furthermore, a precompiled version of the software including the necessary files are provided so that a direct start of the simulation without compilation is possible. The output of the simulation (ASCII point clouds) is also provided. For details see the provided README.txt file. The main aim of the study was to examine different laser scanning campaing setups with respect to understory tree height representation which is important, for example, for forestry or climate research.\"\\n    ],\\n    \"keywords\":[\\n        \"Earth and Environmental Sciences\",\\n        \"forest structure\",\\n        \"understory\",\\n        \"laser scanning simulation\",\\n        \"full waveform\",\\n        \"3D point cloud analysis\",\\n        \"field campaign planning\",\\n        \"HELIOS\"\\n    ],\\n    \"citation\":[\\n        {\\n            \"@type\":\"CreativeWork\",\\n            \"text\":\"H\\\\u00e4mmerle, M., Luka\\\\u010d, N., Chen, K.-C., Koma, Zs., Wang, C.-K., Anders, K., and H\\\\u00f6fle, B. (2017): SIMULATING VARIOUS TERRESTRIAL AND UAV LIDAR SCANNING CONFIGURATIONS FOR UNDERSTORY FOREST STRUCTURE MODELLING, ISPRS Ann. Photogramm. Remote Sens. Spatial Inf. Sci., IV-2/W4, 59-65.\",\\n            \"@id\":\"https://doi.org/10.5194/isprs-annals-IV-2-W4-59-2017\",\\n            \"identifier\":\"https://doi.org/10.5194/isprs-annals-IV-2-W4-59-2017\"\\n        },\\n        {\\n            \"@type\":\"CreativeWork\",\\n            \"text\":\"Bechtold, S. &amp; H\\\\u00f6fle, B. (2016): HELIOS: A Multi-Purpose LiDAR Simulation Framework for Research, Planning and Training of Laser Scanning Operations with Airborne, Ground-Based Mobile and Stationary Platforms. ISPRS Annals of Photogrammetry, Remote Sensing and Spatial Information Sciences. Vol. III-3, pp. 161-168.\",\\n            \"@id\":\"https://doi.org/10.5194/isprs-annals-III-3-161-2016\",\\n            \"identifier\":\"https://doi.org/10.5194/isprs-annals-III-3-161-2016\"\\n        }\\n    ],\\n    \"license\":{\\n        \"@type\":\"Dataset\",\\n        \"text\":\"Software and source code are licensed under <a href=\\\\\"https://www.gnu.org/licenses/gpl-3.0.en.html\\\\\">General Public License v3 (GPL v3)</a>. <br /> Data (point clouds) are licensed under <a href=\\\\\"https://creativecommons.org/licenses/by/4.0/\\\\\">Creative Commons Attribution 4.0 International (CC BY 4.0)</a>.\"\\n    },\\n    \"includedInDataCatalog\":{\\n        \"@type\":\"DataCatalog\",\\n        \"name\":\"heiDATA\",\\n        \"url\":\"https://heidata.uni-heidelberg.de\"\\n    },\\n    \"publisher\":{\\n        \"@type\":\"Organization\",\\n        \"name\":\"heiDATA\"\\n    },\\n    \"provider\":{\\n        \"@type\":\"Organization\",\\n        \"name\":\"heiDATA\"\\n    },\\n    \"distribution\":[\\n        {\\n            \"@type\":\"DataDownload\",\\n            \"name\":\"helios-FWF-master.zip\",\\n            \"fileFormat\":\"application/zip\",\\n            \"contentSize\":22786100\\n        },\\n        {\\n            \"@type\":\"DataDownload\",\\n            \"name\":\"HELIOS_FWF_precompiled.zip\",\\n            \"fileFormat\":\"application/zip\",\\n            \"contentSize\":167362352\\n        },\\n        {\\n            \"@type\":\"DataDownload\",\\n            \"name\":\"output_pointClouds.zip\",\\n            \"fileFormat\":\"application/zip\",\\n            \"contentSize\":1419998004\\n        },\\n        {\\n            \"@type\":\"DataDownload\",\\n            \"name\":\"README.txt\",\\n            \"fileFormat\":\"text/plain\",\\n            \"contentSize\":3263\\n        }\\n    ]\\n}']\n"
     ]
    }
   ],
   "source": [
    "#print(res2)\n",
    "\n",
    "hits=res2['hits']['total']['value']\n",
    "if hits == 1:\n",
    "    hit_obj = res['hits']['hits'][0][\"_source\"]\n",
    "    data_json=json.dumps(hit_obj, separators=(',', ':'), indent=4)\n",
    "    print(data_json)\n",
    "if hits > 1:\n",
    "    hits_list=res2[\"hits\"][\"hits\"]\n",
    "    data_list=[]\n",
    "    for obj in hits_list:\n",
    "        print(\"---\")\n",
    "        data_json=json.dumps(obj[\"_source\"], separators=(',', ':'), indent=4)\n",
    "        data_list.append(data_json)\n",
    "        print(data_list)\n",
    "        "
   ]
  },
  {
   "cell_type": "code",
   "execution_count": 163,
   "id": "959aa8ac-3b74-4dd3-b038-d9fe810bfd44",
   "metadata": {},
   "outputs": [],
   "source": [
    "#es.indices.delete(index=\"testing\")\n"
   ]
  },
  {
   "cell_type": "code",
   "execution_count": 280,
   "id": "69b3f355-0cfd-4b8a-ba5f-9382cb362f94",
   "metadata": {},
   "outputs": [],
   "source": [
    "mapping=es.indices.get_mapping(index=\"harvardmetadata\")"
   ]
  },
  {
   "cell_type": "code",
   "execution_count": 281,
   "id": "d08b68d3-587c-4b5a-b11f-1896ca4093b2",
   "metadata": {},
   "outputs": [
    {
     "data": {
      "text/plain": [
       "{'harvardmetadata': {'mappings': {'properties': {'@context': {'type': 'text',\n",
       "     'fields': {'keyword': {'type': 'keyword', 'ignore_above': 256}}},\n",
       "    '@id': {'type': 'text',\n",
       "     'fields': {'keyword': {'type': 'keyword', 'ignore_above': 256}}},\n",
       "    '@type': {'type': 'text',\n",
       "     'fields': {'keyword': {'type': 'keyword', 'ignore_above': 256}}},\n",
       "    'author': {'properties': {'@id': {'type': 'text',\n",
       "       'fields': {'keyword': {'type': 'keyword', 'ignore_above': 256}}},\n",
       "      'affiliation': {'type': 'text',\n",
       "       'fields': {'keyword': {'type': 'keyword', 'ignore_above': 256}}},\n",
       "      'identifier': {'type': 'text',\n",
       "       'fields': {'keyword': {'type': 'keyword', 'ignore_above': 256}}},\n",
       "      'name': {'type': 'text',\n",
       "       'fields': {'keyword': {'type': 'keyword', 'ignore_above': 256}}}}},\n",
       "    'citation': {'properties': {'@id': {'type': 'text',\n",
       "       'fields': {'keyword': {'type': 'keyword', 'ignore_above': 256}}},\n",
       "      '@type': {'type': 'text',\n",
       "       'fields': {'keyword': {'type': 'keyword', 'ignore_above': 256}}},\n",
       "      'identifier': {'type': 'text',\n",
       "       'fields': {'keyword': {'type': 'keyword', 'ignore_above': 256}}},\n",
       "      'text': {'type': 'text',\n",
       "       'fields': {'keyword': {'type': 'keyword', 'ignore_above': 256}}}}},\n",
       "    'creator': {'properties': {'@id': {'type': 'text',\n",
       "       'fields': {'keyword': {'type': 'keyword', 'ignore_above': 256}}},\n",
       "      'affiliation': {'type': 'text',\n",
       "       'fields': {'keyword': {'type': 'keyword', 'ignore_above': 256}}},\n",
       "      'identifier': {'type': 'text',\n",
       "       'fields': {'keyword': {'type': 'keyword', 'ignore_above': 256}}},\n",
       "      'name': {'type': 'text',\n",
       "       'fields': {'keyword': {'type': 'keyword', 'ignore_above': 256}}}}},\n",
       "    'dateModified': {'type': 'date'},\n",
       "    'datePublished': {'type': 'date'},\n",
       "    'description': {'type': 'text',\n",
       "     'fields': {'keyword': {'type': 'keyword', 'ignore_above': 256}}},\n",
       "    'distribution': {'properties': {'@id': {'type': 'text',\n",
       "       'fields': {'keyword': {'type': 'keyword', 'ignore_above': 256}}},\n",
       "      '@type': {'type': 'text',\n",
       "       'fields': {'keyword': {'type': 'keyword', 'ignore_above': 256}}},\n",
       "      'contentSize': {'type': 'long'},\n",
       "      'contentUrl': {'type': 'text',\n",
       "       'fields': {'keyword': {'type': 'keyword', 'ignore_above': 256}}},\n",
       "      'description': {'type': 'text',\n",
       "       'fields': {'keyword': {'type': 'keyword', 'ignore_above': 256}}},\n",
       "      'fileFormat': {'type': 'text',\n",
       "       'fields': {'keyword': {'type': 'keyword', 'ignore_above': 256}}},\n",
       "      'identifier': {'type': 'text',\n",
       "       'fields': {'keyword': {'type': 'keyword', 'ignore_above': 256}}},\n",
       "      'name': {'type': 'text',\n",
       "       'fields': {'keyword': {'type': 'keyword', 'ignore_above': 256}}}}},\n",
       "    'funder': {'properties': {'@type': {'type': 'text',\n",
       "       'fields': {'keyword': {'type': 'keyword', 'ignore_above': 256}}},\n",
       "      'name': {'type': 'text',\n",
       "       'fields': {'keyword': {'type': 'keyword', 'ignore_above': 256}}}}},\n",
       "    'identifier': {'type': 'text',\n",
       "     'fields': {'keyword': {'type': 'keyword', 'ignore_above': 256}}},\n",
       "    'includedInDataCatalog': {'properties': {'@type': {'type': 'text',\n",
       "       'fields': {'keyword': {'type': 'keyword', 'ignore_above': 256}}},\n",
       "      'name': {'type': 'text',\n",
       "       'fields': {'keyword': {'type': 'keyword', 'ignore_above': 256}}},\n",
       "      'url': {'type': 'text',\n",
       "       'fields': {'keyword': {'type': 'keyword', 'ignore_above': 256}}}}},\n",
       "    'keywords': {'type': 'text',\n",
       "     'fields': {'keyword': {'type': 'keyword', 'ignore_above': 256}}},\n",
       "    'license': {'properties': {'@type': {'type': 'text',\n",
       "       'fields': {'keyword': {'type': 'keyword', 'ignore_above': 256}}},\n",
       "      'text': {'type': 'text',\n",
       "       'fields': {'keyword': {'type': 'keyword', 'ignore_above': 256}}},\n",
       "      'url': {'type': 'text',\n",
       "       'fields': {'keyword': {'type': 'keyword', 'ignore_above': 256}}}}},\n",
       "    'name': {'type': 'text',\n",
       "     'fields': {'keyword': {'type': 'keyword', 'ignore_above': 256}}},\n",
       "    'provider': {'properties': {'@type': {'type': 'text',\n",
       "       'fields': {'keyword': {'type': 'keyword', 'ignore_above': 256}}},\n",
       "      'name': {'type': 'text',\n",
       "       'fields': {'keyword': {'type': 'keyword', 'ignore_above': 256}}}}},\n",
       "    'publisher': {'properties': {'@type': {'type': 'text',\n",
       "       'fields': {'keyword': {'type': 'keyword', 'ignore_above': 256}}},\n",
       "      'name': {'type': 'text',\n",
       "       'fields': {'keyword': {'type': 'keyword', 'ignore_above': 256}}}}},\n",
       "    'spatialCoverage': {'type': 'text',\n",
       "     'fields': {'keyword': {'type': 'keyword', 'ignore_above': 256}}},\n",
       "    'temporalCoverage': {'type': 'text',\n",
       "     'fields': {'keyword': {'type': 'keyword', 'ignore_above': 256}}},\n",
       "    'version': {'type': 'text',\n",
       "     'fields': {'keyword': {'type': 'keyword', 'ignore_above': 256}}}}}}}"
      ]
     },
     "execution_count": 281,
     "metadata": {},
     "output_type": "execute_result"
    }
   ],
   "source": [
    "mapping"
   ]
  },
  {
   "cell_type": "code",
   "execution_count": null,
   "id": "141ce547-89cf-4260-a2dc-a331702ef2e8",
   "metadata": {},
   "outputs": [],
   "source": [
    "  'creator': {'properties': {'@id': {'type': 'text',\n",
    "       'fields': {'keyword': {'type': 'keyword', 'ignore_above': 256}}},\n",
    "      'affiliation': {'type': 'text',\n",
    "       'fields': {'keyword': {'type': 'keyword', 'ignore_above': 256}}},\n",
    "      'identifier': {'type': 'text',\n",
    "       'fields': {'keyword': {'type': 'keyword', 'ignore_above': 256}}},\n",
    "      'name': {'type': 'text',\n",
    "       'fields': {'keyword': {'type': 'keyword', 'ignore_above': 256}}}}},"
   ]
  },
  {
   "cell_type": "code",
   "execution_count": 244,
   "id": "fc0db777-4536-4578-9172-66cd156f1ebe",
   "metadata": {},
   "outputs": [],
   "source": [
    "#mapping\n",
    "fields=[]\n",
    "for field in mapping[\"harvardmetadata\"]['mappings']['properties']:\n",
    "    #print(field)\n",
    "    fields.append(field)\n",
    "for field in mapping[\"harvardmetadata\"]['mappings']['properties']:\n",
    "    for x in mapping[\"harvardmetadata\"]['mappings']['properties'][field]:\n",
    "        if x == \"properties\":\n",
    "            for leaf in mapping[\"harvardmetadata\"]['mappings']['properties'][field]['properties']:\n",
    "                leaf_id=field+\".\"+leaf\n",
    "                fields.append(leaf_id)\n",
    "                "
   ]
  },
  {
   "cell_type": "code",
   "execution_count": 245,
   "id": "22f00d92-1c07-44f2-a87a-c7bf06075707",
   "metadata": {},
   "outputs": [
    {
     "name": "stdout",
     "output_type": "stream",
     "text": [
      "['@context', '@id', '@type', 'author', 'citation', 'creator', 'dateModified', 'datePublished', 'description', 'distribution', 'funder', 'identifier', 'includedInDataCatalog', 'keywords', 'license', 'name', 'provider', 'publisher', 'spatialCoverage', 'temporalCoverage', 'version', 'author.@id', 'author.affiliation', 'author.identifier', 'author.name', 'citation.@id', 'citation.@type', 'citation.identifier', 'citation.text', 'creator.@id', 'creator.affiliation', 'creator.identifier', 'creator.name', 'distribution.@id', 'distribution.@type', 'distribution.contentSize', 'distribution.contentUrl', 'distribution.description', 'distribution.fileFormat', 'distribution.identifier', 'distribution.name', 'funder.@type', 'funder.name', 'includedInDataCatalog.@type', 'includedInDataCatalog.name', 'includedInDataCatalog.url', 'license.@type', 'license.text', 'license.url', 'provider.@type', 'provider.name', 'publisher.@type', 'publisher.name']\n"
     ]
    }
   ],
   "source": [
    "print(fields)"
   ]
  },
  {
   "cell_type": "markdown",
   "id": "2dae9b50-b969-418b-962c-b45a514e1801",
   "metadata": {},
   "source": [
    "---"
   ]
  }
 ],
 "metadata": {
  "kernelspec": {
   "display_name": "Python 3",
   "language": "python",
   "name": "python3"
  },
  "language_info": {
   "codemirror_mode": {
    "name": "ipython",
    "version": 3
   },
   "file_extension": ".py",
   "mimetype": "text/x-python",
   "name": "python",
   "nbconvert_exporter": "python",
   "pygments_lexer": "ipython3",
   "version": "3.9.6"
  }
 },
 "nbformat": 4,
 "nbformat_minor": 5
}
