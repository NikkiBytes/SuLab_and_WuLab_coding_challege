{
 "cells": [
  {
   "cell_type": "markdown",
   "id": "b5758200",
   "metadata": {},
   "source": [
    "# Su Lab and Wu Lab Coding Challenge"
   ]
  },
  {
   "cell_type": "markdown",
   "id": "0e412c72-7288-40d5-95d4-cffb02ccee08",
   "metadata": {},
   "source": [
    "Invoke-RestMethod \"http://localhost:9200/harvard/_bulk?pretty\" -Method Post -ContentType 'application/x-ndjson' -InFile \"harvard_dataverse.json\"\n"
   ]
  },
  {
   "cell_type": "code",
   "execution_count": 13,
   "id": "c84f7e08",
   "metadata": {},
   "outputs": [],
   "source": [
    "from elasticsearch import Elasticsearch, helpers\n",
    "import sys, json\n",
    "from time import sleep\n",
    "from datetime import datetime\n"
   ]
  },
  {
   "cell_type": "markdown",
   "id": "0ff44d06-6828-4f67-8b85-823a3bfd2143",
   "metadata": {},
   "source": [
    "## Step 1.  Load and index json into ES"
   ]
  },
  {
   "cell_type": "code",
   "execution_count": 15,
   "id": "59d6aaf3",
   "metadata": {},
   "outputs": [],
   "source": [
    "# Elastic search configuation\n",
    "\n",
    "es = Elasticsearch(HOST=\"http://localhost\", PORT=9200)\n",
    "#es = Elasticsearch()"
   ]
  },
  {
   "cell_type": "code",
   "execution_count": 32,
   "id": "d2f431da-da31-4095-85b4-c3938c5db718",
   "metadata": {},
   "outputs": [
    {
     "data": {
      "text/plain": [
       "{'took': 0,\n",
       " 'timed_out': False,\n",
       " '_shards': {'total': 1, 'successful': 1, 'skipped': 0, 'failed': 0},\n",
       " 'hits': {'total': {'value': 0, 'relation': 'eq'},\n",
       "  'max_score': None,\n",
       "  'hits': []}}"
      ]
     },
     "execution_count": 32,
     "metadata": {},
     "output_type": "execute_result"
    }
   ],
   "source": [
    "es.search(index=\"harvardmetadata\", body={\"query\": {\"match\": { \"@id\":  \"https://doi.org/10.11588/data/0HJAJS\" }}})"
   ]
  },
  {
   "cell_type": "code",
   "execution_count": 27,
   "id": "282cbb9c-7a38-4143-85d7-0af46db9deb1",
   "metadata": {},
   "outputs": [
    {
     "data": {
      "text/plain": [
       "'\"https://doi.org/10.11588/data/0HJAJS\"'"
      ]
     },
     "execution_count": 27,
     "metadata": {},
     "output_type": "execute_result"
    }
   ],
   "source": [
    "'\"https://doi.org/10.11588/data/0HJAJS\"'"
   ]
  },
  {
   "cell_type": "code",
   "execution_count": 5,
   "id": "2d86ab7a-09a0-43d2-b8a1-3a5e00f1c4fb",
   "metadata": {},
   "outputs": [],
   "source": [
    "file='harvard_dataverse.json'\n",
    "\n",
    "datafile=open(file, 'r').read()\n",
    "\n",
    "clear_data = datafile.splitlines(True)"
   ]
  },
  {
   "cell_type": "code",
   "execution_count": 11,
   "id": "e99c8982",
   "metadata": {
    "tags": []
   },
   "outputs": [
    {
     "name": "stdout",
     "output_type": "stream",
     "text": [
      "100\n"
     ]
    }
   ],
   "source": [
    "# Load file\n",
    "\n",
    "file='harvard_dataverse.json'\n",
    "\n",
    "with open(file, 'r', encoding='utf-8') as f:\n",
    "    data=json.loads(f.read())\n",
    "\n",
    "print(len(data))\n"
   ]
  },
  {
   "cell_type": "code",
   "execution_count": 12,
   "id": "4fae693d-3bdf-4ab1-a71f-1935f10bede0",
   "metadata": {},
   "outputs": [
    {
     "data": {
      "text/plain": [
       "{'@context': 'http://schema.org',\n",
       " '@type': 'Dataset',\n",
       " '@id': 'https://doi.org/10.11588/data/0HJW2A',\n",
       " 'identifier': 'https://doi.org/10.11588/data/0HJW2A',\n",
       " 'name': 'Distance from a Distance: The Robustness of Psychological Distance Effects [Dataset]',\n",
       " 'creator': [{'name': 'Trautmann, Stefan T.',\n",
       "   'affiliation': 'Alfred-Weber-Institute for Economics, Heidelberg University'}],\n",
       " 'author': [{'name': 'Trautmann, Stefan T.',\n",
       "   'affiliation': 'Alfred-Weber-Institute for Economics, Heidelberg University'}],\n",
       " 'datePublished': '2019-01-29',\n",
       " 'dateModified': '2019-01-29',\n",
       " 'version': '1',\n",
       " 'description': ['Psychological distance effects have attracted the attention of behavioral economists in the context of descriptive modeling and behavioral policy. Indeed, psychological distance effects have been shown for an increasing number of domains and applications relevant to economic decision making. The current paper questions whether these effects are robust enough for economists to apply them to relevant policy questions. We demonstrate systematic replication failures for the distance-from-a-distance effect shown by Maglio et al. (2013, Journal of Experimental Psychology: General), and relate them to theoretical arguments suggesting that psychological distance theories are currently too poorly specified to make predictions that are precise enough for economic analyses.'],\n",
       " 'keywords': ['Social Sciences',\n",
       "  'construal level theory',\n",
       "  'replication',\n",
       "  'risk',\n",
       "  'psychological distance'],\n",
       " 'citation': [{'@type': 'CreativeWork',\n",
       "   'text': 'Stefan T. Trautmann: Distance from a Distance: The Robustness of Psychological Distance Effects (forthcoming)'}],\n",
       " 'license': {'@type': 'Dataset',\n",
       "  'text': \"Licensed under a <a href='http://creativecommons.org/licenses/by/4.0/'>Creative Commons Attribution 4.0 International License. &#160;<img src='https://i.creativecommons.org/l/by/4.0/80x15.png' alt='CC by' /></a>\"},\n",
       " 'includedInDataCatalog': {'@type': 'DataCatalog',\n",
       "  'name': 'heiDATA',\n",
       "  'url': 'https://heidata.uni-heidelberg.de'},\n",
       " 'publisher': {'@type': 'Organization', 'name': 'heiDATA'},\n",
       " 'provider': {'@type': 'Organization', 'name': 'heiDATA'},\n",
       " 'spatialCoverage': ['Netherlands'],\n",
       " 'distribution': [{'@type': 'DataDownload',\n",
       "   'name': 'experiment1_raw.tab',\n",
       "   'fileFormat': 'text/tab-separated-values',\n",
       "   'contentSize': 5778,\n",
       "   'description': 'experiment 1',\n",
       "   '@id': 'https://doi.org/10.11588/data/0HJW2A/LTJZAU',\n",
       "   'identifier': 'https://doi.org/10.11588/data/0HJW2A/LTJZAU'},\n",
       "  {'@type': 'DataDownload',\n",
       "   'name': 'experiment1_stata_data.tab',\n",
       "   'fileFormat': 'text/tab-separated-values',\n",
       "   'contentSize': 4386,\n",
       "   'description': 'experiment 1',\n",
       "   '@id': 'https://doi.org/10.11588/data/0HJW2A/LFCU8I',\n",
       "   'identifier': 'https://doi.org/10.11588/data/0HJW2A/LFCU8I'},\n",
       "  {'@type': 'DataDownload',\n",
       "   'name': 'experiment1_stata_do.do',\n",
       "   'fileFormat': 'application/x-stata-syntax',\n",
       "   'contentSize': 220,\n",
       "   'description': 'experiment 1',\n",
       "   '@id': 'https://doi.org/10.11588/data/0HJW2A/KVQ7BE',\n",
       "   'identifier': 'https://doi.org/10.11588/data/0HJW2A/KVQ7BE'},\n",
       "  {'@type': 'DataDownload',\n",
       "   'name': 'experiment2_raw.tab',\n",
       "   'fileFormat': 'text/tab-separated-values',\n",
       "   'contentSize': 2808,\n",
       "   'description': 'experiment 2',\n",
       "   '@id': 'https://doi.org/10.11588/data/0HJW2A/LY0ZOZ',\n",
       "   'identifier': 'https://doi.org/10.11588/data/0HJW2A/LY0ZOZ'},\n",
       "  {'@type': 'DataDownload',\n",
       "   'name': 'experiment2_stata_data.tab',\n",
       "   'fileFormat': 'text/tab-separated-values',\n",
       "   'contentSize': 1492,\n",
       "   'description': 'experiment 2',\n",
       "   '@id': 'https://doi.org/10.11588/data/0HJW2A/UFRHQN',\n",
       "   'identifier': 'https://doi.org/10.11588/data/0HJW2A/UFRHQN'},\n",
       "  {'@type': 'DataDownload',\n",
       "   'name': 'experiment2_stata_do.do',\n",
       "   'fileFormat': 'application/x-stata-syntax',\n",
       "   'contentSize': 406,\n",
       "   'description': 'experiment 2',\n",
       "   '@id': 'https://doi.org/10.11588/data/0HJW2A/DG7PZB',\n",
       "   'identifier': 'https://doi.org/10.11588/data/0HJW2A/DG7PZB'},\n",
       "  {'@type': 'DataDownload',\n",
       "   'name': 'experiment3_raw.tab',\n",
       "   'fileFormat': 'text/tab-separated-values',\n",
       "   'contentSize': 8483,\n",
       "   'description': 'experiment 3',\n",
       "   '@id': 'https://doi.org/10.11588/data/0HJW2A/IUXIQE',\n",
       "   'identifier': 'https://doi.org/10.11588/data/0HJW2A/IUXIQE'},\n",
       "  {'@type': 'DataDownload',\n",
       "   'name': 'experiment3_stata_data.tab',\n",
       "   'fileFormat': 'text/tab-separated-values',\n",
       "   'contentSize': 4577,\n",
       "   'description': 'experiment 3',\n",
       "   '@id': 'https://doi.org/10.11588/data/0HJW2A/0CVA5J',\n",
       "   'identifier': 'https://doi.org/10.11588/data/0HJW2A/0CVA5J'},\n",
       "  {'@type': 'DataDownload',\n",
       "   'name': 'experiment3_stata_do.do',\n",
       "   'fileFormat': 'application/x-stata-syntax',\n",
       "   'contentSize': 357,\n",
       "   'description': 'experiment 3',\n",
       "   '@id': 'https://doi.org/10.11588/data/0HJW2A/XDARH9',\n",
       "   'identifier': 'https://doi.org/10.11588/data/0HJW2A/XDARH9'},\n",
       "  {'@type': 'DataDownload',\n",
       "   'name': 'experiment4_instructions_dutch.docx',\n",
       "   'fileFormat': 'application/vnd.openxmlformats-officedocument.wordprocessingml.document',\n",
       "   'contentSize': 14064,\n",
       "   'description': 'experiment 4',\n",
       "   '@id': 'https://doi.org/10.11588/data/0HJW2A/4GV60R',\n",
       "   'identifier': 'https://doi.org/10.11588/data/0HJW2A/4GV60R'},\n",
       "  {'@type': 'DataDownload',\n",
       "   'name': 'experiment4_stata_data.tab',\n",
       "   'fileFormat': 'text/tab-separated-values',\n",
       "   'contentSize': 5950,\n",
       "   'description': 'experiment 4',\n",
       "   '@id': 'https://doi.org/10.11588/data/0HJW2A/IXSKHQ',\n",
       "   'identifier': 'https://doi.org/10.11588/data/0HJW2A/IXSKHQ'},\n",
       "  {'@type': 'DataDownload',\n",
       "   'name': 'experiment4_stata_do.do',\n",
       "   'fileFormat': 'application/x-stata-syntax',\n",
       "   'contentSize': 751,\n",
       "   'description': 'experiment 4',\n",
       "   '@id': 'https://doi.org/10.11588/data/0HJW2A/OHXGFS',\n",
       "   'identifier': 'https://doi.org/10.11588/data/0HJW2A/OHXGFS'}]}"
      ]
     },
     "execution_count": 12,
     "metadata": {},
     "output_type": "execute_result"
    }
   ],
   "source": [
    "data[1]"
   ]
  },
  {
   "cell_type": "code",
   "execution_count": 18,
   "id": "973907db",
   "metadata": {},
   "outputs": [
    {
     "data": {
      "text/plain": [
       "{'_index': 'my_index',\n",
       " '_type': 'doc',\n",
       " '_id': 'O38Z4HoBoYEF2rZ_i1Q0',\n",
       " '_version': 1,\n",
       " 'result': 'created',\n",
       " '_shards': {'total': 2, 'successful': 1, 'failed': 0},\n",
       " '_seq_no': 3,\n",
       " '_primary_term': 2}"
      ]
     },
     "execution_count": 18,
     "metadata": {},
     "output_type": "execute_result"
    }
   ],
   "source": [
    "es.index(index=\"my_index\", doc_type='doc', body=data[5])#data)\n"
   ]
  },
  {
   "cell_type": "code",
   "execution_count": 20,
   "id": "9f8d27dd-b8e2-4b3a-88db-9fde1e95f190",
   "metadata": {},
   "outputs": [
    {
     "data": {
      "text/plain": [
       "{'_index': 'my_index',\n",
       " '_type': 'doc',\n",
       " '_id': 'O38Z4HoBoYEF2rZ_i1Q0',\n",
       " '_version': 1,\n",
       " '_seq_no': 3,\n",
       " '_primary_term': 2,\n",
       " 'found': True,\n",
       " '_source': {'@context': 'http://schema.org',\n",
       "  '@type': 'Dataset',\n",
       "  '@id': 'https://doi.org/10.11588/data/10002',\n",
       "  'identifier': 'https://doi.org/10.11588/data/10002',\n",
       "  'name': 'PatTR: Patent Translation Resource',\n",
       "  'creator': [{'name': 'Wäschle, Katharina',\n",
       "    'affiliation': 'Department of Computational Linguistics'},\n",
       "   {'name': 'Riezler, Stefan',\n",
       "    'affiliation': 'Department of Computational Linguistics'}],\n",
       "  'author': [{'name': 'Wäschle, Katharina',\n",
       "    'affiliation': 'Department of Computational Linguistics'},\n",
       "   {'name': 'Riezler, Stefan',\n",
       "    'affiliation': 'Department of Computational Linguistics'}],\n",
       "  'datePublished': '2014-06-05',\n",
       "  'dateModified': '2017-04-05',\n",
       "  'version': '3',\n",
       "  'description': ['PatTR is a sentence-parallel corpus extracted from the MAREC patent collection. The current version contains more than 22 million German-English and 18 million French-English parallel sentences collected from all patent text sections as well as 5 million German-French sentence pairs from patent titles, abstracts and claims.  The corpus is sorted by language pairs and by text sections of a patent document, namely title, abstrac t, claims and description. Parallel data from title, abstract and claims sections were extracted from documents belonging to the European Patent Office ( EPO) and the World Intellectual Property Organization (WIPO) corpora in MAREC. Both resources feature multilingual documents that contain for example both an English and a German abstract.  Since there are no multilingual descriptions, data from this section were collected by exploiting patent families to align German and French documents from the EPO corpus to English documents from the United S tates Patent and Trademark Office (USPTO) corpus, following Utiyama, Masao and Isahara, Hitoshi: A Japanese-English patent parallel corpus. MT summit XI (2007), 475--482.  All sections were sentence-aligned using the Gargantua aligner. Preprocessing was done automatically. Sentence boundaries were detected using the Europarl processing tools.  For a detailed description of the corpus construction process, please see the publications above.'],\n",
       "  'keywords': ['Computer and Information Science'],\n",
       "  'citation': [{'@type': 'CreativeWork',\n",
       "    'text': 'Wäschle, K. and Riezler, S. (2012b). Analyzing Parallelism and Domain Similarities in the MAREC Patent Corpus. Multidisciplinary Information Retrieval, pp. 12-27.',\n",
       "    '@id': 'http://www.cl.uni-heidelberg.de/~riezler/publications/papers/IRF2012.pdf',\n",
       "    'identifier': 'http://www.cl.uni-heidelberg.de/~riezler/publications/papers/IRF2012.pdf'},\n",
       "   {'@type': 'CreativeWork',\n",
       "    'text': 'Wäschle, K. and Riezler, S. (2012b). Analyzing Parallelism and Domain Similarities in the MAREC Patent Corpus. Multidisciplinary Information Retrieval, pp. 12-27.',\n",
       "    '@id': 'http://www.cl.uni-heidelberg.de/~riezler/publications/papers/IRF2012.pdf',\n",
       "    'identifier': 'http://www.cl.uni-heidelberg.de/~riezler/publications/papers/IRF2012.pdf'},\n",
       "   {'@type': 'CreativeWork',\n",
       "    'text': 'Wäschle, K. and Riezler, S. (2012a). Structural and Topical Dimensions in Multi-Task Patent Translation. Proceedings of the 13th Conference of the European Chapter of the Association for Computational Linguistics (EACL 2012), Avignon, France.',\n",
       "    '@id': 'http://aclweb.org/anthology//E/E12/E12-1083.pdf',\n",
       "    'identifier': 'http://aclweb.org/anthology//E/E12/E12-1083.pdf'}],\n",
       "  'temporalCoverage': ['1976/2008-06'],\n",
       "  'license': {'@type': 'Dataset',\n",
       "   'text': \"PatTR is licensed under a <a href='http://creativecommons.org/licenses/by-nc-sa/3.0/'>Creative Commons Attribution-NonCommercial-ShareAlike 3.0 Unported License. &#160;<img src='https://i.creativecommons.org/l/by-nc-sa/3.0/80x15.png' alt='CC by-nc-sa' /></a>\"},\n",
       "  'includedInDataCatalog': {'@type': 'DataCatalog',\n",
       "   'name': 'heiDATA',\n",
       "   'url': 'https://heidata.uni-heidelberg.de'},\n",
       "  'publisher': {'@type': 'Organization', 'name': 'heiDATA'},\n",
       "  'provider': {'@type': 'Organization', 'name': 'heiDATA'},\n",
       "  'distribution': [{'@type': 'DataDownload',\n",
       "    'name': 'de-en-abstract-title.tar.gz',\n",
       "    'fileFormat': 'application/x-gzip',\n",
       "    'contentSize': 245640661,\n",
       "    'description': 'data set de-en, Part 1/3 (License information: see part 1)'},\n",
       "   {'@type': 'DataDownload',\n",
       "    'name': 'de-en-claims.tar.gz',\n",
       "    'fileFormat': 'application/x-gzip',\n",
       "    'contentSize': 1348412107,\n",
       "    'description': 'data set de-en, Part 2/3'},\n",
       "   {'@type': 'DataDownload',\n",
       "    'name': 'de-en-description.tar.gz',\n",
       "    'fileFormat': 'application/x-gzip',\n",
       "    'contentSize': 1403883854,\n",
       "    'description': 'data set de-en, Part 2/3 (License information: see part 1)'},\n",
       "   {'@type': 'DataDownload',\n",
       "    'name': 'en-fr-abstract-title.tar_1.gz',\n",
       "    'fileFormat': 'application/x-gzip',\n",
       "    'contentSize': 702207465,\n",
       "    'description': 'data set en-fr, Part 1/3'},\n",
       "   {'@type': 'DataDownload',\n",
       "    'name': 'en-fr-claims.tar.gz',\n",
       "    'fileFormat': 'application/x-gzip',\n",
       "    'contentSize': 1113706581,\n",
       "    'description': 'data set en-fr, Part 2/3 (License information: see part 1)'},\n",
       "   {'@type': 'DataDownload',\n",
       "    'name': 'en-fr-description.tar.gz',\n",
       "    'fileFormat': 'application/x-gzip',\n",
       "    'contentSize': 658863580,\n",
       "    'description': 'data set en-fr, Part 3/3 (License information: see part 1)'},\n",
       "   {'@type': 'DataDownload',\n",
       "    'name': 'fr-de.tar.gz',\n",
       "    'fileFormat': 'application/x-gzip',\n",
       "    'contentSize': 676894791,\n",
       "    'description': 'data set fr-de, Part 1/1'},\n",
       "   {'@type': 'DataDownload',\n",
       "    'name': 'README_PatTR.txt',\n",
       "    'fileFormat': 'text/plain',\n",
       "    'contentSize': 4505,\n",
       "    'description': ''}]}}"
      ]
     },
     "execution_count": 20,
     "metadata": {},
     "output_type": "execute_result"
    }
   ],
   "source": [
    "es.get(index='my_index', doc_type='doc', id='O38Z4HoBoYEF2rZ_i1Q0')\n"
   ]
  },
  {
   "cell_type": "code",
   "execution_count": 14,
   "id": "4297e1e3",
   "metadata": {},
   "outputs": [
    {
     "data": {
      "text/plain": [
       "{'_index': 'my_index',\n",
       " '_type': 'doc',\n",
       " '_id': 'On_D33oBoYEF2rZ_RFRi',\n",
       " '_version': 1,\n",
       " 'result': 'created',\n",
       " '_shards': {'total': 2, 'successful': 1, 'failed': 0},\n",
       " '_seq_no': 2,\n",
       " '_primary_term': 2}"
      ]
     },
     "execution_count": 14,
     "metadata": {},
     "output_type": "execute_result"
    }
   ],
   "source": [
    "es.index(index=\"my_index\", doc_type='doc', body=data[6])#data)\n"
   ]
  },
  {
   "cell_type": "code",
   "execution_count": null,
   "id": "7d242606-de8c-4910-af24-bb7275f032f8",
   "metadata": {},
   "outputs": [],
   "source": []
  }
 ],
 "metadata": {
  "kernelspec": {
   "display_name": "Python 3",
   "language": "python",
   "name": "python3"
  },
  "language_info": {
   "codemirror_mode": {
    "name": "ipython",
    "version": 3
   },
   "file_extension": ".py",
   "mimetype": "text/x-python",
   "name": "python",
   "nbconvert_exporter": "python",
   "pygments_lexer": "ipython3",
   "version": "3.9.6"
  }
 },
 "nbformat": 4,
 "nbformat_minor": 5
}
