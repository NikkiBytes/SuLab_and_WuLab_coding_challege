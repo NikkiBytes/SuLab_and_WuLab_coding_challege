{
 "cells": [
  {
   "cell_type": "markdown",
   "id": "b5e56e1e-3086-44c1-8e14-d9aa7ea4bde9",
   "metadata": {},
   "source": [
    "# Index Bonus Challenge  \n",
    ">There is also a bonus point if you can achieve:  \n",
    ">create a **customized mapping file** to index metadata objects so that\n",
    "index **\"funder.name\"** field as **keyword** (if possible, **case-insensitive keyword**) and allow passing a <u>\"facet=funder.name\"</u> parameter to the query endpoint to <u>return the facet results on \"funder.name\"</u>.\n",
    "*The rest of fields should still be indexed and searchable as the default behavior*\n"
   ]
  },
  {
   "cell_type": "code",
   "execution_count": 20,
   "id": "a8f94174-1257-402c-9c62-cd99a223a27c",
   "metadata": {},
   "outputs": [],
   "source": [
    "from elasticsearch import Elasticsearch\n",
    "import json"
   ]
  },
  {
   "cell_type": "code",
   "execution_count": 21,
   "id": "ef6e98da-3bec-44c4-8b2b-eedb38b79077",
   "metadata": {},
   "outputs": [],
   "source": [
    "# Elastic search configuation\n",
    "es = Elasticsearch(HOST=\"http://localhost\", PORT=9200)"
   ]
  },
  {
   "cell_type": "code",
   "execution_count": 36,
   "id": "eae982df-4902-4373-87e3-ec652f9e2291",
   "metadata": {},
   "outputs": [],
   "source": [
    "mapping=es.indices.get_mapping(index=\"bonus\")"
   ]
  },
  {
   "cell_type": "code",
   "execution_count": 37,
   "id": "970a6710-d304-4b9c-9519-369bd42f3125",
   "metadata": {},
   "outputs": [
    {
     "data": {
      "text/plain": [
       "{'bonus': {'mappings': {'_meta': {'created_by': 'file-data-visualizer'},\n",
       "   'properties': {'@context': {'type': 'text',\n",
       "     'fields': {'keyword': {'type': 'keyword', 'ignore_above': 256}}},\n",
       "    '@id': {'type': 'text',\n",
       "     'fields': {'keyword': {'type': 'keyword', 'ignore_above': 256}}},\n",
       "    '@timestamp': {'type': 'date'},\n",
       "    '@type': {'type': 'text',\n",
       "     'fields': {'keyword': {'type': 'keyword', 'ignore_above': 256}}},\n",
       "    'author': {'properties': {'affiliation': {'type': 'text',\n",
       "       'fields': {'keyword': {'type': 'keyword', 'ignore_above': 256}}},\n",
       "      'name': {'type': 'text',\n",
       "       'fields': {'keyword': {'type': 'keyword', 'ignore_above': 256}}}}},\n",
       "    'citation': {'properties': {'@type': {'type': 'text',\n",
       "       'fields': {'keyword': {'type': 'keyword', 'ignore_above': 256}}},\n",
       "      'text': {'type': 'text',\n",
       "       'fields': {'keyword': {'type': 'keyword', 'ignore_above': 256}}}}},\n",
       "    'creator': {'properties': {'affiliation': {'type': 'text',\n",
       "       'fields': {'keyword': {'type': 'keyword', 'ignore_above': 256}}},\n",
       "      'name': {'type': 'text',\n",
       "       'fields': {'keyword': {'type': 'keyword', 'ignore_above': 256}}}}},\n",
       "    'dateModified': {'type': 'date'},\n",
       "    'datePublished': {'type': 'date'},\n",
       "    'description': {'type': 'text',\n",
       "     'fields': {'keyword': {'type': 'keyword', 'ignore_above': 256}}},\n",
       "    'distribution': {'properties': {'@id': {'type': 'text',\n",
       "       'fields': {'keyword': {'type': 'keyword', 'ignore_above': 256}}},\n",
       "      '@type': {'type': 'text',\n",
       "       'fields': {'keyword': {'type': 'keyword', 'ignore_above': 256}}},\n",
       "      'contentSize': {'type': 'long'},\n",
       "      'fileFormat': {'type': 'text',\n",
       "       'fields': {'keyword': {'type': 'keyword', 'ignore_above': 256}}},\n",
       "      'identifier': {'type': 'text',\n",
       "       'fields': {'keyword': {'type': 'keyword', 'ignore_above': 256}}},\n",
       "      'name': {'type': 'text',\n",
       "       'fields': {'keyword': {'type': 'keyword', 'ignore_above': 256}}}}},\n",
       "    'field': {'type': 'text',\n",
       "     'fields': {'keyword': {'type': 'keyword', 'ignore_above': 256}}},\n",
       "    'funder': {'properties': {'@type': {'type': 'text',\n",
       "       'fields': {'keyword': {'type': 'keyword', 'ignore_above': 256}}},\n",
       "      'name': {'type': 'keyword', 'normalizer': 'lowercase_normalizer'}}},\n",
       "    'identifier': {'type': 'text',\n",
       "     'fields': {'keyword': {'type': 'keyword', 'ignore_above': 256}}},\n",
       "    'includedInDataCatalog': {'properties': {'@type': {'type': 'text',\n",
       "       'fields': {'keyword': {'type': 'keyword', 'ignore_above': 256}}},\n",
       "      'name': {'type': 'text',\n",
       "       'fields': {'keyword': {'type': 'keyword', 'ignore_above': 256}}},\n",
       "      'url': {'type': 'text',\n",
       "       'fields': {'keyword': {'type': 'keyword', 'ignore_above': 256}}}}},\n",
       "    'keywords': {'type': 'text',\n",
       "     'fields': {'keyword': {'type': 'keyword', 'ignore_above': 256}}},\n",
       "    'license': {'properties': {'@type': {'type': 'text',\n",
       "       'fields': {'keyword': {'type': 'keyword', 'ignore_above': 256}}},\n",
       "      'text': {'type': 'text',\n",
       "       'fields': {'keyword': {'type': 'keyword', 'ignore_above': 256}}}}},\n",
       "    'message': {'type': 'text',\n",
       "     'fields': {'keyword': {'type': 'keyword', 'ignore_above': 256}}},\n",
       "    'name': {'type': 'text',\n",
       "     'fields': {'keyword': {'type': 'keyword', 'ignore_above': 256}}},\n",
       "    'provider': {'properties': {'@type': {'type': 'text',\n",
       "       'fields': {'keyword': {'type': 'keyword', 'ignore_above': 256}}},\n",
       "      'name': {'type': 'text',\n",
       "       'fields': {'keyword': {'type': 'keyword', 'ignore_above': 256}}}}},\n",
       "    'publisher': {'properties': {'@type': {'type': 'text',\n",
       "       'fields': {'keyword': {'type': 'keyword', 'ignore_above': 256}}},\n",
       "      'name': {'type': 'text',\n",
       "       'fields': {'keyword': {'type': 'keyword', 'ignore_above': 256}}}}},\n",
       "    'version': {'type': 'text',\n",
       "     'fields': {'keyword': {'type': 'keyword', 'ignore_above': 256}}}}}}}"
      ]
     },
     "execution_count": 37,
     "metadata": {},
     "output_type": "execute_result"
    }
   ],
   "source": [
    "mapping"
   ]
  },
  {
   "cell_type": "code",
   "execution_count": null,
   "id": "5edc2c9c-8b4f-4124-b5f2-d74afda093ae",
   "metadata": {},
   "outputs": [],
   "source": []
  }
 ],
 "metadata": {
  "kernelspec": {
   "display_name": "Python 3",
   "language": "python",
   "name": "python3"
  },
  "language_info": {
   "codemirror_mode": {
    "name": "ipython",
    "version": 3
   },
   "file_extension": ".py",
   "mimetype": "text/x-python",
   "name": "python",
   "nbconvert_exporter": "python",
   "pygments_lexer": "ipython3",
   "version": "3.9.6"
  }
 },
 "nbformat": 4,
 "nbformat_minor": 5
}
